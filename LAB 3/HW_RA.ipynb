{
 "cells": [
  {
   "cell_type": "markdown",
   "id": "2e66d2b8",
   "metadata": {},
   "source": [
    "# >Problem 3<"
   ]
  },
  {
   "cell_type": "code",
   "execution_count": 1,
   "id": "7c4ed59f",
   "metadata": {},
   "outputs": [],
   "source": [
    "import pandas as pd, numpy as np\n",
    "import matplotlib.pyplot as plt\n",
    "import seaborn as sns\n",
    "import scipy.stats as stats\n",
    "import statsmodels.api as sm\n",
    "import statsmodels.formula.api as smf"
   ]
  },
  {
   "cell_type": "code",
   "execution_count": 2,
   "id": "cd9ffb90",
   "metadata": {},
   "outputs": [],
   "source": [
    "df = pd.read_csv('CH03TA10.txt', sep = '\\s+', header = None, names = ['Y','X'])"
   ]
  },
  {
   "cell_type": "code",
   "execution_count": 3,
   "id": "d7300162",
   "metadata": {},
   "outputs": [],
   "source": [
    "lowess = sm.nonparametric.lowess\n",
    "z = lowess(df['Y'], df['X'])"
   ]
  },
  {
   "cell_type": "code",
   "execution_count": 4,
   "id": "1589ae64",
   "metadata": {},
   "outputs": [
    {
     "data": {
      "image/png": "[encoded data removed]",
      "text/plain": [
       "<Figure size 360x360 with 1 Axes>"
      ]
     },
     "metadata": {
      "needs_background": "light"
     },
     "output_type": "display_data"
    }
   ],
   "source": [
    "sns.relplot(x = 'X', y = 'Y', data= df)\n",
    "sns.lineplot(x=z[:,0],y=z[:,1])\n",
    "plt.show()"
   ]
  },
  {
   "cell_type": "code",
   "execution_count": 5,
   "id": "f89a1174",
   "metadata": {},
   "outputs": [
    {
     "data": {
      "text/html": [
       "<div>\n",
       "<style scoped>\n",
       "    .dataframe tbody tr th:only-of-type {\n",
       "        vertical-align: middle;\n",
       "    }\n",
       "\n",
       "    .dataframe tbody tr th {\n",
       "        vertical-align: top;\n",
       "    }\n",
       "\n",
       "    .dataframe thead th {\n",
       "        text-align: right;\n",
       "    }\n",
       "</style>\n",
       "<table border=\"1\" class=\"dataframe\">\n",
       "  <thead>\n",
       "    <tr style=\"text-align: right;\">\n",
       "      <th></th>\n",
       "      <th>Y</th>\n",
       "      <th>X</th>\n",
       "    </tr>\n",
       "  </thead>\n",
       "  <tbody>\n",
       "    <tr>\n",
       "      <th>18</th>\n",
       "      <td>0.006</td>\n",
       "      <td>0</td>\n",
       "    </tr>\n",
       "    <tr>\n",
       "      <th>19</th>\n",
       "      <td>0.059</td>\n",
       "      <td>10</td>\n",
       "    </tr>\n",
       "    <tr>\n",
       "      <th>20</th>\n",
       "      <td>0.051</td>\n",
       "      <td>10</td>\n",
       "    </tr>\n",
       "    <tr>\n",
       "      <th>21</th>\n",
       "      <td>0.002</td>\n",
       "      <td>0</td>\n",
       "    </tr>\n",
       "    <tr>\n",
       "      <th>22</th>\n",
       "      <td>0.049</td>\n",
       "      <td>5</td>\n",
       "    </tr>\n",
       "  </tbody>\n",
       "</table>\n",
       "</div>"
      ],
      "text/plain": [
       "        Y   X\n",
       "18  0.006   0\n",
       "19  0.059  10\n",
       "20  0.051  10\n",
       "21  0.002   0\n",
       "22  0.049   5"
      ]
     },
     "execution_count": 5,
     "metadata": {},
     "output_type": "execute_result"
    }
   ],
   "source": [
    "df1=df.drop(23)\n",
    "df1.tail()"
   ]
  },
  {
   "cell_type": "code",
   "execution_count": 6,
   "id": "3024f7ea",
   "metadata": {},
   "outputs": [
    {
     "data": {
      "image/png": "[encoded data removed]",
      "text/plain": [
       "<Figure size 360x360 with 1 Axes>"
      ]
     },
     "metadata": {
      "needs_background": "light"
     },
     "output_type": "display_data"
    }
   ],
   "source": [
    "# xoa mat cai outliner\n",
    "sns.relplot(x = 'X', y = 'Y', data= df1)\n",
    "sns.lineplot(x=z[:,0],y=z[:,1])\n",
    "plt.show()"
   ]
  },
  {
   "cell_type": "markdown",
   "id": "4cc72beb",
   "metadata": {},
   "source": [
    "# a linear regression function was fitted next, based on the remaining 23 cases."
   ]
  },
  {
   "cell_type": "code",
   "execution_count": 7,
   "id": "53dcdd45",
   "metadata": {},
   "outputs": [
    {
     "data": {
      "text/html": [
       "<table class=\"simpletable\">\n",
       "<caption>OLS Regression Results</caption>\n",
       "<tr>\n",
       "  <th>Dep. Variable:</th>            <td>Y</td>        <th>  R-squared:         </th> <td>   0.916</td>\n",
       "</tr>\n",
       "<tr>\n",
       "  <th>Model:</th>                   <td>OLS</td>       <th>  Adj. R-squared:    </th> <td>   0.912</td>\n",
       "</tr>\n",
       "<tr>\n",
       "  <th>Method:</th>             <td>Least Squares</td>  <th>  F-statistic:       </th> <td>   229.0</td>\n",
       "</tr>\n",
       "<tr>\n",
       "  <th>Date:</th>             <td>Fri, 21 Oct 2022</td> <th>  Prob (F-statistic):</th> <td>9.08e-13</td>\n",
       "</tr>\n",
       "<tr>\n",
       "  <th>Time:</th>                 <td>11:15:42</td>     <th>  Log-Likelihood:    </th> <td>  69.066</td>\n",
       "</tr>\n",
       "<tr>\n",
       "  <th>No. Observations:</th>      <td>    23</td>      <th>  AIC:               </th> <td>  -134.1</td>\n",
       "</tr>\n",
       "<tr>\n",
       "  <th>Df Residuals:</th>          <td>    21</td>      <th>  BIC:               </th> <td>  -131.9</td>\n",
       "</tr>\n",
       "<tr>\n",
       "  <th>Df Model:</th>              <td>     1</td>      <th>                     </th>     <td> </td>   \n",
       "</tr>\n",
       "<tr>\n",
       "  <th>Covariance Type:</th>      <td>nonrobust</td>    <th>                     </th>     <td> </td>   \n",
       "</tr>\n",
       "</table>\n",
       "<table class=\"simpletable\">\n",
       "<tr>\n",
       "      <td></td>         <th>coef</th>     <th>std err</th>      <th>t</th>      <th>P>|t|</th>  <th>[0.025</th>    <th>0.975]</th>  \n",
       "</tr>\n",
       "<tr>\n",
       "  <th>Intercept</th> <td>    0.0070</td> <td>    0.004</td> <td>    1.954</td> <td> 0.064</td> <td>   -0.000</td> <td>    0.015</td>\n",
       "</tr>\n",
       "<tr>\n",
       "  <th>X</th>         <td>    0.0055</td> <td>    0.000</td> <td>   15.133</td> <td> 0.000</td> <td>    0.005</td> <td>    0.006</td>\n",
       "</tr>\n",
       "</table>\n",
       "<table class=\"simpletable\">\n",
       "<tr>\n",
       "  <th>Omnibus:</th>       <td> 6.365</td> <th>  Durbin-Watson:     </th> <td>   1.798</td>\n",
       "</tr>\n",
       "<tr>\n",
       "  <th>Prob(Omnibus):</th> <td> 0.041</td> <th>  Jarque-Bera (JB):  </th> <td>   6.757</td>\n",
       "</tr>\n",
       "<tr>\n",
       "  <th>Skew:</th>          <td>-0.186</td> <th>  Prob(JB):          </th> <td>  0.0341</td>\n",
       "</tr>\n",
       "<tr>\n",
       "  <th>Kurtosis:</th>      <td> 5.629</td> <th>  Cond. No.          </th> <td>    13.6</td>\n",
       "</tr>\n",
       "</table><br/><br/>Notes:<br/>[1] Standard Errors assume that the covariance matrix of the errors is correctly specified."
      ],
      "text/plain": [
       "<class 'statsmodels.iolib.summary.Summary'>\n",
       "\"\"\"\n",
       "                            OLS Regression Results                            \n",
       "==============================================================================\n",
       "Dep. Variable:                      Y   R-squared:                       0.916\n",
       "Model:                            OLS   Adj. R-squared:                  0.912\n",
       "Method:                 Least Squares   F-statistic:                     229.0\n",
       "Date:                Fri, 21 Oct 2022   Prob (F-statistic):           9.08e-13\n",
       "Time:                        11:15:42   Log-Likelihood:                 69.066\n",
       "No. Observations:                  23   AIC:                            -134.1\n",
       "Df Residuals:                      21   BIC:                            -131.9\n",
       "Df Model:                           1                                         \n",
       "Covariance Type:            nonrobust                                         \n",
       "==============================================================================\n",
       "                 coef    std err          t      P>|t|      [0.025      0.975]\n",
       "------------------------------------------------------------------------------\n",
       "Intercept      0.0070      0.004      1.954      0.064      -0.000       0.015\n",
       "X              0.0055      0.000     15.133      0.000       0.005       0.006\n",
       "==============================================================================\n",
       "Omnibus:                        6.365   Durbin-Watson:                   1.798\n",
       "Prob(Omnibus):                  0.041   Jarque-Bera (JB):                6.757\n",
       "Skew:                          -0.186   Prob(JB):                       0.0341\n",
       "Kurtosis:                       5.629   Cond. No.                         13.6\n",
       "==============================================================================\n",
       "\n",
       "Notes:\n",
       "[1] Standard Errors assume that the covariance matrix of the errors is correctly specified.\n",
       "\"\"\""
      ]
     },
     "execution_count": 7,
     "metadata": {},
     "output_type": "execute_result"
    }
   ],
   "source": [
    "model = smf.ols('Y ~ X', data=df1)\n",
    "results = model.fit()\n",
    "results.summary()"
   ]
  },
  {
   "cell_type": "markdown",
   "id": "acffab34",
   "metadata": {},
   "source": [
    "## check if residuals follow normal distribution, and constant variance"
   ]
  },
  {
   "cell_type": "code",
   "execution_count": 8,
   "id": "57132a24",
   "metadata": {},
   "outputs": [
    {
     "data": {
      "image/png": "[encoded data removed]",
      "text/plain": [
       "<Figure size 432x288 with 1 Axes>"
      ]
     },
     "metadata": {
      "needs_background": "light"
     },
     "output_type": "display_data"
    }
   ],
   "source": [
    "sns.residplot( x= 'X',y='Y', data=df1);"
   ]
  },
  {
   "cell_type": "code",
   "execution_count": 9,
   "id": "197ab50b",
   "metadata": {},
   "outputs": [
    {
     "data": {
      "image/png": "[encoded data removed]",
      "text/plain": [
       "<Figure size 360x360 with 1 Axes>"
      ]
     },
     "metadata": {
      "needs_background": "light"
     },
     "output_type": "display_data"
    }
   ],
   "source": [
    "sns.relplot(x= results.fittedvalues,y = results.resid, data=df1);"
   ]
  },
  {
   "cell_type": "code",
   "execution_count": 10,
   "id": "d90bfac3",
   "metadata": {},
   "outputs": [
    {
     "data": {
      "text/plain": [
       "(23.326014598146557,\n",
       " 1.3673802023848293e-06,\n",
       " 16.377156568214044,\n",
       " 0.000580871180101769)"
      ]
     },
     "execution_count": 10,
     "metadata": {},
     "output_type": "execute_result"
    }
   ],
   "source": [
    "import statsmodels.stats as stats\n",
    "stats.diagnostic.het_breuschpagan(results.resid, results.model.exog, robust =False)"
   ]
  },
  {
   "cell_type": "markdown",
   "id": "2fb435d8",
   "metadata": {},
   "source": [
    "p = 1.3 >0.05, hence, the errors from this model have non constant varience"
   ]
  },
  {
   "cell_type": "markdown",
   "id": "bfc51c17",
   "metadata": {},
   "source": [
    "## Transformation on Y using Box-cox procedure"
   ]
  },
  {
   "cell_type": "code",
   "execution_count": 11,
   "id": "2c6689fa",
   "metadata": {},
   "outputs": [],
   "source": [
    "import scipy.stats as stats"
   ]
  },
  {
   "cell_type": "code",
   "execution_count": 12,
   "id": "a5e73e70",
   "metadata": {},
   "outputs": [
    {
     "name": "stdout",
     "output_type": "stream",
     "text": [
      "-1.0 0.0828914382345474\n",
      "-0.95 0.07050106686035953\n",
      "-0.8999999999999999 0.0601392852541585\n",
      "-0.8499999999999999 0.051454223022817394\n",
      "-0.7999999999999998 0.04415738774684851\n",
      "-0.7499999999999998 0.03801193332545054\n",
      "-0.6999999999999997 0.032823146492276314\n",
      "-0.6499999999999997 0.02843072529079181\n",
      "-0.5999999999999996 0.024702506303398885\n",
      "-0.5499999999999996 0.02152936409602027\n",
      "-0.49999999999999956 0.018821059915201714\n",
      "-0.4499999999999995 0.016502859753959914\n",
      "-0.39999999999999947 0.01451277656284435\n",
      "-0.3499999999999994 0.012799319286899787\n",
      "-0.2999999999999994 0.011319653889229835\n",
      "-0.24999999999999933 0.010038099644827663\n",
      "-0.1999999999999993 0.008924898609769928\n",
      "-0.14999999999999925 0.007955207976972991\n",
      "-0.0999999999999992 0.007108274571201626\n",
      "-0.049999999999999156 0.006366758455150789\n",
      "8.881784197001252e-16 0.005729190437905858\n",
      "0.05000000000000093 0.005144460809436738\n",
      "0.10000000000000098 0.004641564629850702\n",
      "0.15000000000000102 0.004199184485786383\n",
      "0.20000000000000107 0.0038105040772319645\n",
      "0.2500000000000011 0.0034700004701081993\n",
      "0.30000000000000115 0.003173288580135578\n",
      "0.3500000000000012 0.0029170004417675556\n",
      "0.40000000000000124 0.0026986946568714745\n",
      "0.4500000000000013 0.002516792491103677\n",
      "0.5000000000000013 0.0023705380025819556\n",
      "0.5500000000000014 0.0022599803838464372\n",
      "0.6000000000000014 0.0021859774047946375\n",
      "0.6500000000000015 0.002150219487404736\n",
      "0.7000000000000015 0.002155274545393006\n",
      "0.7500000000000016 0.002204654303817592\n",
      "0.8000000000000016 0.00230290339372109\n",
      "0.8500000000000016 0.0024557131129123683\n",
      "0.9000000000000017 0.0026700623732983583\n",
      "0.9500000000000017 0.0029543890353899253\n",
      "1.0000000000000018 0.0033187955801105176\n",
      "1.0500000000000016 0.003775293906553578\n",
      "1.1000000000000019 0.004338094993480268\n",
      "1.1500000000000021 0.005023950246239087\n",
      "1.200000000000002 0.0058525525966845095\n",
      "1.2500000000000018 0.006847006862695696\n",
      "1.300000000000002 0.008034380541857946\n",
      "1.3500000000000023 0.00944634815217087\n",
      "1.4000000000000021 0.011119944489359188\n",
      "1.450000000000002 0.013098444801449439\n",
      "1.5000000000000022 0.015432392952014271\n",
      "1.5500000000000025 0.018180802230153524\n",
      "1.6000000000000023 0.021412557657050992\n",
      "1.6500000000000021 0.025208053540223676\n",
      "1.7000000000000024 0.029661105759618132\n",
      "1.7500000000000027 0.03488118497772946\n",
      "1.8000000000000025 0.040996024816828285\n",
      "1.8500000000000023 0.048154668236983084\n",
      "1.9000000000000026 0.05653102610973564\n",
      "1.9500000000000028 0.06632803458467562\n"
     ]
    }
   ],
   "source": [
    "sse_arr = []\n",
    "lam_arr = np.arange(-1,2,0.05)\n",
    "\n",
    "for lam in lam_arr:\n",
    "    K2 = stats.gmean(df['Y'])\n",
    "    if lam == 0:\n",
    "        df1['W'] = K2*np.log(df['Y']) #tao cot moi ten W\n",
    "    else:\n",
    "        K1 = 1 / (lam*(K2**(lam-1)))\n",
    "        df1['W']= K1*(df['Y']**lam-1)\n",
    "    \n",
    "    # Regress W to X\n",
    "    model_lam = smf.ols('W~X', data = df1).fit()\n",
    "    sse_lam = sum((model_lam.resid)**2)\n",
    "    print(lam, sse_lam)\n",
    "    sse_arr.append(sse_lam)"
   ]
  },
  {
   "cell_type": "code",
   "execution_count": 13,
   "id": "ff04c9dc",
   "metadata": {},
   "outputs": [],
   "source": [
    "lam_opt = 0.65"
   ]
  },
  {
   "cell_type": "code",
   "execution_count": 14,
   "id": "8a82e219",
   "metadata": {},
   "outputs": [
    {
     "data": {
      "image/png": "[encoded data removed]",
      "text/plain": [
       "<Figure size 432x288 with 1 Axes>"
      ]
     },
     "metadata": {
      "needs_background": "light"
     },
     "output_type": "display_data"
    }
   ],
   "source": [
    "sns.lineplot(x = lam_arr, y = sse_arr)\n",
    "plt.show()\n",
    "# thay dc khoang nho nhat nam o tuf 0.5 den 1 => 0.65"
   ]
  },
  {
   "cell_type": "markdown",
   "id": "6a79d154",
   "metadata": {},
   "source": [
    "## square root trans for Y"
   ]
  },
  {
   "cell_type": "code",
   "execution_count": 15,
   "id": "15779cf7",
   "metadata": {},
   "outputs": [
    {
     "data": {
      "text/html": [
       "<div>\n",
       "<style scoped>\n",
       "    .dataframe tbody tr th:only-of-type {\n",
       "        vertical-align: middle;\n",
       "    }\n",
       "\n",
       "    .dataframe tbody tr th {\n",
       "        vertical-align: top;\n",
       "    }\n",
       "\n",
       "    .dataframe thead th {\n",
       "        text-align: right;\n",
       "    }\n",
       "</style>\n",
       "<table border=\"1\" class=\"dataframe\">\n",
       "  <thead>\n",
       "    <tr style=\"text-align: right;\">\n",
       "      <th></th>\n",
       "      <th>Y</th>\n",
       "      <th>X</th>\n",
       "      <th>W</th>\n",
       "      <th>Y_trans</th>\n",
       "    </tr>\n",
       "  </thead>\n",
       "  <tbody>\n",
       "    <tr>\n",
       "      <th>0</th>\n",
       "      <td>0.150</td>\n",
       "      <td>20</td>\n",
       "      <td>-16.467289</td>\n",
       "      <td>0.387298</td>\n",
       "    </tr>\n",
       "    <tr>\n",
       "      <th>1</th>\n",
       "      <td>0.004</td>\n",
       "      <td>0</td>\n",
       "      <td>-16.884647</td>\n",
       "      <td>0.063246</td>\n",
       "    </tr>\n",
       "    <tr>\n",
       "      <th>2</th>\n",
       "      <td>0.069</td>\n",
       "      <td>10</td>\n",
       "      <td>-16.793115</td>\n",
       "      <td>0.262679</td>\n",
       "    </tr>\n",
       "    <tr>\n",
       "      <th>3</th>\n",
       "      <td>0.030</td>\n",
       "      <td>5</td>\n",
       "      <td>-16.866894</td>\n",
       "      <td>0.173205</td>\n",
       "    </tr>\n",
       "    <tr>\n",
       "      <th>4</th>\n",
       "      <td>0.011</td>\n",
       "      <td>0</td>\n",
       "      <td>-16.882443</td>\n",
       "      <td>0.104881</td>\n",
       "    </tr>\n",
       "  </tbody>\n",
       "</table>\n",
       "</div>"
      ],
      "text/plain": [
       "       Y   X          W   Y_trans\n",
       "0  0.150  20 -16.467289  0.387298\n",
       "1  0.004   0 -16.884647  0.063246\n",
       "2  0.069  10 -16.793115  0.262679\n",
       "3  0.030   5 -16.866894  0.173205\n",
       "4  0.011   0 -16.882443  0.104881"
      ]
     },
     "execution_count": 15,
     "metadata": {},
     "output_type": "execute_result"
    }
   ],
   "source": [
    "df1['Y_trans']= np.sqrt(df['Y'])\n",
    "df1.head()"
   ]
  },
  {
   "cell_type": "code",
   "execution_count": 16,
   "id": "fe4c7ef3",
   "metadata": {},
   "outputs": [
    {
     "data": {
      "text/html": [
       "<table class=\"simpletable\">\n",
       "<caption>OLS Regression Results</caption>\n",
       "<tr>\n",
       "  <th>Dep. Variable:</th>         <td>Y_trans</td>     <th>  R-squared:         </th> <td>   0.900</td>\n",
       "</tr>\n",
       "<tr>\n",
       "  <th>Model:</th>                   <td>OLS</td>       <th>  Adj. R-squared:    </th> <td>   0.895</td>\n",
       "</tr>\n",
       "<tr>\n",
       "  <th>Method:</th>             <td>Least Squares</td>  <th>  F-statistic:       </th> <td>   188.8</td>\n",
       "</tr>\n",
       "<tr>\n",
       "  <th>Date:</th>             <td>Fri, 21 Oct 2022</td> <th>  Prob (F-statistic):</th> <td>5.77e-12</td>\n",
       "</tr>\n",
       "<tr>\n",
       "  <th>Time:</th>                 <td>11:15:43</td>     <th>  Log-Likelihood:    </th> <td>  46.579</td>\n",
       "</tr>\n",
       "<tr>\n",
       "  <th>No. Observations:</th>      <td>    23</td>      <th>  AIC:               </th> <td>  -89.16</td>\n",
       "</tr>\n",
       "<tr>\n",
       "  <th>Df Residuals:</th>          <td>    21</td>      <th>  BIC:               </th> <td>  -86.89</td>\n",
       "</tr>\n",
       "<tr>\n",
       "  <th>Df Model:</th>              <td>     1</td>      <th>                     </th>     <td> </td>   \n",
       "</tr>\n",
       "<tr>\n",
       "  <th>Covariance Type:</th>      <td>nonrobust</td>    <th>                     </th>     <td> </td>   \n",
       "</tr>\n",
       "</table>\n",
       "<table class=\"simpletable\">\n",
       "<tr>\n",
       "      <td></td>         <th>coef</th>     <th>std err</th>      <th>t</th>      <th>P>|t|</th>  <th>[0.025</th>    <th>0.975]</th>  \n",
       "</tr>\n",
       "<tr>\n",
       "  <th>Intercept</th> <td>    0.0948</td> <td>    0.010</td> <td>    9.905</td> <td> 0.000</td> <td>    0.075</td> <td>    0.115</td>\n",
       "</tr>\n",
       "<tr>\n",
       "  <th>X</th>         <td>    0.0134</td> <td>    0.001</td> <td>   13.740</td> <td> 0.000</td> <td>    0.011</td> <td>    0.015</td>\n",
       "</tr>\n",
       "</table>\n",
       "<table class=\"simpletable\">\n",
       "<tr>\n",
       "  <th>Omnibus:</th>       <td> 0.452</td> <th>  Durbin-Watson:     </th> <td>   2.471</td>\n",
       "</tr>\n",
       "<tr>\n",
       "  <th>Prob(Omnibus):</th> <td> 0.798</td> <th>  Jarque-Bera (JB):  </th> <td>   0.491</td>\n",
       "</tr>\n",
       "<tr>\n",
       "  <th>Skew:</th>          <td>-0.286</td> <th>  Prob(JB):          </th> <td>   0.782</td>\n",
       "</tr>\n",
       "<tr>\n",
       "  <th>Kurtosis:</th>      <td> 2.570</td> <th>  Cond. No.          </th> <td>    13.6</td>\n",
       "</tr>\n",
       "</table><br/><br/>Notes:<br/>[1] Standard Errors assume that the covariance matrix of the errors is correctly specified."
      ],
      "text/plain": [
       "<class 'statsmodels.iolib.summary.Summary'>\n",
       "\"\"\"\n",
       "                            OLS Regression Results                            \n",
       "==============================================================================\n",
       "Dep. Variable:                Y_trans   R-squared:                       0.900\n",
       "Model:                            OLS   Adj. R-squared:                  0.895\n",
       "Method:                 Least Squares   F-statistic:                     188.8\n",
       "Date:                Fri, 21 Oct 2022   Prob (F-statistic):           5.77e-12\n",
       "Time:                        11:15:43   Log-Likelihood:                 46.579\n",
       "No. Observations:                  23   AIC:                            -89.16\n",
       "Df Residuals:                      21   BIC:                            -86.89\n",
       "Df Model:                           1                                         \n",
       "Covariance Type:            nonrobust                                         \n",
       "==============================================================================\n",
       "                 coef    std err          t      P>|t|      [0.025      0.975]\n",
       "------------------------------------------------------------------------------\n",
       "Intercept      0.0948      0.010      9.905      0.000       0.075       0.115\n",
       "X              0.0134      0.001     13.740      0.000       0.011       0.015\n",
       "==============================================================================\n",
       "Omnibus:                        0.452   Durbin-Watson:                   2.471\n",
       "Prob(Omnibus):                  0.798   Jarque-Bera (JB):                0.491\n",
       "Skew:                          -0.286   Prob(JB):                        0.782\n",
       "Kurtosis:                       2.570   Cond. No.                         13.6\n",
       "==============================================================================\n",
       "\n",
       "Notes:\n",
       "[1] Standard Errors assume that the covariance matrix of the errors is correctly specified.\n",
       "\"\"\""
      ]
     },
     "execution_count": 16,
     "metadata": {},
     "output_type": "execute_result"
    }
   ],
   "source": [
    "model_Y = smf.ols('Y_trans ~ X', data = df1).fit()\n",
    "model_Y.summary()"
   ]
  },
  {
   "cell_type": "code",
   "execution_count": 17,
   "id": "1f4d812c",
   "metadata": {},
   "outputs": [
    {
     "data": {
      "image/png": "[encoded data removed]",
      "text/plain": [
       "<Figure size 432x288 with 1 Axes>"
      ]
     },
     "metadata": {
      "needs_background": "light"
     },
     "output_type": "display_data"
    }
   ],
   "source": [
    "sns.scatterplot(x = model_Y.fittedvalues, y =model_Y.resid)\n",
    "sns.lineplot(x =model_Y.fittedvalues, y = 0, color = 'black' );"
   ]
  },
  {
   "cell_type": "code",
   "execution_count": 18,
   "id": "c5553c51",
   "metadata": {},
   "outputs": [
    {
     "data": {
      "image/png": "[encoded data removed]",
      "text/plain": [
       "<Figure size 432x288 with 1 Axes>"
      ]
     },
     "metadata": {
      "needs_background": "light"
     },
     "output_type": "display_data"
    }
   ],
   "source": [
    "sns.scatterplot(x = df1['X'], y = df1['Y_trans']);"
   ]
  },
  {
   "cell_type": "markdown",
   "id": "da7f1ec5",
   "metadata": {},
   "source": [
    "## perform X transformation"
   ]
  },
  {
   "cell_type": "code",
   "execution_count": 19,
   "id": "36bcfae8",
   "metadata": {},
   "outputs": [
    {
     "data": {
      "text/html": [
       "<div>\n",
       "<style scoped>\n",
       "    .dataframe tbody tr th:only-of-type {\n",
       "        vertical-align: middle;\n",
       "    }\n",
       "\n",
       "    .dataframe tbody tr th {\n",
       "        vertical-align: top;\n",
       "    }\n",
       "\n",
       "    .dataframe thead th {\n",
       "        text-align: right;\n",
       "    }\n",
       "</style>\n",
       "<table border=\"1\" class=\"dataframe\">\n",
       "  <thead>\n",
       "    <tr style=\"text-align: right;\">\n",
       "      <th></th>\n",
       "      <th>Y</th>\n",
       "      <th>X</th>\n",
       "      <th>W</th>\n",
       "      <th>Y_trans</th>\n",
       "      <th>X_trans</th>\n",
       "    </tr>\n",
       "  </thead>\n",
       "  <tbody>\n",
       "    <tr>\n",
       "      <th>0</th>\n",
       "      <td>0.150</td>\n",
       "      <td>20</td>\n",
       "      <td>-16.467289</td>\n",
       "      <td>0.387298</td>\n",
       "      <td>4.472136</td>\n",
       "    </tr>\n",
       "    <tr>\n",
       "      <th>1</th>\n",
       "      <td>0.004</td>\n",
       "      <td>0</td>\n",
       "      <td>-16.884647</td>\n",
       "      <td>0.063246</td>\n",
       "      <td>0.000000</td>\n",
       "    </tr>\n",
       "    <tr>\n",
       "      <th>2</th>\n",
       "      <td>0.069</td>\n",
       "      <td>10</td>\n",
       "      <td>-16.793115</td>\n",
       "      <td>0.262679</td>\n",
       "      <td>3.162278</td>\n",
       "    </tr>\n",
       "    <tr>\n",
       "      <th>3</th>\n",
       "      <td>0.030</td>\n",
       "      <td>5</td>\n",
       "      <td>-16.866894</td>\n",
       "      <td>0.173205</td>\n",
       "      <td>2.236068</td>\n",
       "    </tr>\n",
       "    <tr>\n",
       "      <th>4</th>\n",
       "      <td>0.011</td>\n",
       "      <td>0</td>\n",
       "      <td>-16.882443</td>\n",
       "      <td>0.104881</td>\n",
       "      <td>0.000000</td>\n",
       "    </tr>\n",
       "  </tbody>\n",
       "</table>\n",
       "</div>"
      ],
      "text/plain": [
       "       Y   X          W   Y_trans   X_trans\n",
       "0  0.150  20 -16.467289  0.387298  4.472136\n",
       "1  0.004   0 -16.884647  0.063246  0.000000\n",
       "2  0.069  10 -16.793115  0.262679  3.162278\n",
       "3  0.030   5 -16.866894  0.173205  2.236068\n",
       "4  0.011   0 -16.882443  0.104881  0.000000"
      ]
     },
     "execution_count": 19,
     "metadata": {},
     "output_type": "execute_result"
    }
   ],
   "source": [
    "df1['X_trans'] = np.sqrt(df['X'])\n",
    "df1.head()"
   ]
  },
  {
   "cell_type": "code",
   "execution_count": 20,
   "id": "8bec3f58",
   "metadata": {},
   "outputs": [
    {
     "data": {
      "image/png": "[encoded data removed]",
      "text/plain": [
       "<Figure size 432x288 with 1 Axes>"
      ]
     },
     "metadata": {
      "needs_background": "light"
     },
     "output_type": "display_data"
    }
   ],
   "source": [
    "sns.scatterplot(x = df1['X_trans'], y = df1['Y_trans']);"
   ]
  },
  {
   "cell_type": "code",
   "execution_count": 23,
   "id": "f0043132",
   "metadata": {},
   "outputs": [
    {
     "data": {
      "text/html": [
       "<table class=\"simpletable\">\n",
       "<caption>OLS Regression Results</caption>\n",
       "<tr>\n",
       "  <th>Dep. Variable:</th>         <td>Y_trans</td>     <th>  R-squared:         </th> <td>   0.945</td>\n",
       "</tr>\n",
       "<tr>\n",
       "  <th>Model:</th>                   <td>OLS</td>       <th>  Adj. R-squared:    </th> <td>   0.942</td>\n",
       "</tr>\n",
       "<tr>\n",
       "  <th>Method:</th>             <td>Least Squares</td>  <th>  F-statistic:       </th> <td>   360.9</td>\n",
       "</tr>\n",
       "<tr>\n",
       "  <th>Date:</th>             <td>Fri, 21 Oct 2022</td> <th>  Prob (F-statistic):</th> <td>1.05e-14</td>\n",
       "</tr>\n",
       "<tr>\n",
       "  <th>Time:</th>                 <td>11:20:48</td>     <th>  Log-Likelihood:    </th> <td>  53.469</td>\n",
       "</tr>\n",
       "<tr>\n",
       "  <th>No. Observations:</th>      <td>    23</td>      <th>  AIC:               </th> <td>  -102.9</td>\n",
       "</tr>\n",
       "<tr>\n",
       "  <th>Df Residuals:</th>          <td>    21</td>      <th>  BIC:               </th> <td>  -100.7</td>\n",
       "</tr>\n",
       "<tr>\n",
       "  <th>Df Model:</th>              <td>     1</td>      <th>                     </th>     <td> </td>   \n",
       "</tr>\n",
       "<tr>\n",
       "  <th>Covariance Type:</th>      <td>nonrobust</td>    <th>                     </th>     <td> </td>   \n",
       "</tr>\n",
       "</table>\n",
       "<table class=\"simpletable\">\n",
       "<tr>\n",
       "      <td></td>         <th>coef</th>     <th>std err</th>      <th>t</th>      <th>P>|t|</th>  <th>[0.025</th>    <th>0.975]</th>  \n",
       "</tr>\n",
       "<tr>\n",
       "  <th>Intercept</th> <td>    0.0730</td> <td>    0.008</td> <td>    9.323</td> <td> 0.000</td> <td>    0.057</td> <td>    0.089</td>\n",
       "</tr>\n",
       "<tr>\n",
       "  <th>X_trans</th>   <td>    0.0573</td> <td>    0.003</td> <td>   18.998</td> <td> 0.000</td> <td>    0.051</td> <td>    0.064</td>\n",
       "</tr>\n",
       "</table>\n",
       "<table class=\"simpletable\">\n",
       "<tr>\n",
       "  <th>Omnibus:</th>       <td> 0.889</td> <th>  Durbin-Watson:     </th> <td>   2.046</td>\n",
       "</tr>\n",
       "<tr>\n",
       "  <th>Prob(Omnibus):</th> <td> 0.641</td> <th>  Jarque-Bera (JB):  </th> <td>   0.532</td>\n",
       "</tr>\n",
       "<tr>\n",
       "  <th>Skew:</th>          <td> 0.367</td> <th>  Prob(JB):          </th> <td>   0.766</td>\n",
       "</tr>\n",
       "<tr>\n",
       "  <th>Kurtosis:</th>      <td> 2.866</td> <th>  Cond. No.          </th> <td>    4.29</td>\n",
       "</tr>\n",
       "</table><br/><br/>Notes:<br/>[1] Standard Errors assume that the covariance matrix of the errors is correctly specified."
      ],
      "text/plain": [
       "<class 'statsmodels.iolib.summary.Summary'>\n",
       "\"\"\"\n",
       "                            OLS Regression Results                            \n",
       "==============================================================================\n",
       "Dep. Variable:                Y_trans   R-squared:                       0.945\n",
       "Model:                            OLS   Adj. R-squared:                  0.942\n",
       "Method:                 Least Squares   F-statistic:                     360.9\n",
       "Date:                Fri, 21 Oct 2022   Prob (F-statistic):           1.05e-14\n",
       "Time:                        11:20:48   Log-Likelihood:                 53.469\n",
       "No. Observations:                  23   AIC:                            -102.9\n",
       "Df Residuals:                      21   BIC:                            -100.7\n",
       "Df Model:                           1                                         \n",
       "Covariance Type:            nonrobust                                         \n",
       "==============================================================================\n",
       "                 coef    std err          t      P>|t|      [0.025      0.975]\n",
       "------------------------------------------------------------------------------\n",
       "Intercept      0.0730      0.008      9.323      0.000       0.057       0.089\n",
       "X_trans        0.0573      0.003     18.998      0.000       0.051       0.064\n",
       "==============================================================================\n",
       "Omnibus:                        0.889   Durbin-Watson:                   2.046\n",
       "Prob(Omnibus):                  0.641   Jarque-Bera (JB):                0.532\n",
       "Skew:                           0.367   Prob(JB):                        0.766\n",
       "Kurtosis:                       2.866   Cond. No.                         4.29\n",
       "==============================================================================\n",
       "\n",
       "Notes:\n",
       "[1] Standard Errors assume that the covariance matrix of the errors is correctly specified.\n",
       "\"\"\""
      ]
     },
     "execution_count": 23,
     "metadata": {},
     "output_type": "execute_result"
    }
   ],
   "source": [
    "model_XY = smf.ols('Y_trans ~ X_trans', data = df1).fit()\n",
    "model_XY.summary()"
   ]
  },
  {
   "cell_type": "code",
   "execution_count": 24,
   "id": "d41b7561",
   "metadata": {},
   "outputs": [
    {
     "data": {
      "text/plain": [
       "(3.852910591206875,\n",
       " 0.04965974331926765,\n",
       " 4.5949709195035355,\n",
       " 0.04393029617380015)"
      ]
     },
     "execution_count": 24,
     "metadata": {},
     "output_type": "execute_result"
    }
   ],
   "source": [
    "# BP test\n",
    "import statsmodels.stats as stats\n",
    "stats.diagnostic.het_breuschpagan(model_XY.resid, model_XY.model.exog, robust =False)"
   ]
  },
  {
   "cell_type": "code",
   "execution_count": 25,
   "id": "a3762c26",
   "metadata": {},
   "outputs": [
    {
     "data": {
      "image/png": "[encoded data removed]",
      "text/plain": [
       "<Figure size 432x288 with 1 Axes>"
      ]
     },
     "metadata": {
      "needs_background": "light"
     },
     "output_type": "display_data"
    }
   ],
   "source": [
    "sns.scatterplot(x = model_XY.fittedvalues, y =model_XY.resid)\n",
    "sns.lineplot(x =model_XY.fittedvalues, y = 0, color = 'black' );"
   ]
  },
  {
   "cell_type": "markdown",
   "id": "815f8ba5",
   "metadata": {},
   "source": [
    "# >Problem 4<"
   ]
  },
  {
   "cell_type": "code",
   "execution_count": null,
   "id": "0b409301",
   "metadata": {},
   "outputs": [],
   "source": []
  }
 ],
 "metadata": {
  "kernelspec": {
   "display_name": "Python 3 (ipykernel)",
   "language": "python",
   "name": "python3"
  },
  "language_info": {
   "codemirror_mode": {
    "name": "ipython",
    "version": 3
   },
   "file_extension": ".py",
   "mimetype": "text/x-python",
   "name": "python",
   "nbconvert_exporter": "python",
   "pygments_lexer": "ipython3",
   "version": "3.9.12"
  }
 },
 "nbformat": 4,
 "nbformat_minor": 5
}
