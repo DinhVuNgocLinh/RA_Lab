{
 "cells": [
  {
   "cell_type": "markdown",
   "id": "dd8a24a0",
   "metadata": {},
   "source": [
    "# Problem 1"
   ]
  },
  {
   "cell_type": "code",
   "execution_count": 2,
   "id": "e2f19b0c",
   "metadata": {},
   "outputs": [],
   "source": [
    "import pandas as pd, numpy as np\n",
    "import matplotlib.pyplot as plt\n",
    "import seaborn as sns\n",
    "import scipy.stats as stats\n",
    "import statsmodels.api as sm\n",
    "import statsmodels.formula.api as smf"
   ]
  },
  {
   "cell_type": "code",
   "execution_count": 15,
   "id": "e5a69c03",
   "metadata": {},
   "outputs": [
    {
     "data": {
      "text/html": [
       "<div>\n",
       "<style scoped>\n",
       "    .dataframe tbody tr th:only-of-type {\n",
       "        vertical-align: middle;\n",
       "    }\n",
       "\n",
       "    .dataframe tbody tr th {\n",
       "        vertical-align: top;\n",
       "    }\n",
       "\n",
       "    .dataframe thead th {\n",
       "        text-align: right;\n",
       "    }\n",
       "</style>\n",
       "<table border=\"1\" class=\"dataframe\">\n",
       "  <thead>\n",
       "    <tr style=\"text-align: right;\">\n",
       "      <th></th>\n",
       "      <th>the measure of muscle mass</th>\n",
       "      <th>age</th>\n",
       "    </tr>\n",
       "  </thead>\n",
       "  <tbody>\n",
       "    <tr>\n",
       "      <th>0</th>\n",
       "      <td>106</td>\n",
       "      <td>43</td>\n",
       "    </tr>\n",
       "    <tr>\n",
       "      <th>1</th>\n",
       "      <td>106</td>\n",
       "      <td>41</td>\n",
       "    </tr>\n",
       "    <tr>\n",
       "      <th>2</th>\n",
       "      <td>97</td>\n",
       "      <td>47</td>\n",
       "    </tr>\n",
       "    <tr>\n",
       "      <th>3</th>\n",
       "      <td>113</td>\n",
       "      <td>46</td>\n",
       "    </tr>\n",
       "    <tr>\n",
       "      <th>4</th>\n",
       "      <td>96</td>\n",
       "      <td>45</td>\n",
       "    </tr>\n",
       "  </tbody>\n",
       "</table>\n",
       "</div>"
      ],
      "text/plain": [
       "   the measure of muscle mass  age\n",
       "0                         106   43\n",
       "1                         106   41\n",
       "2                          97   47\n",
       "3                         113   46\n",
       "4                          96   45"
      ]
     },
     "execution_count": 15,
     "metadata": {},
     "output_type": "execute_result"
    }
   ],
   "source": [
    "df = pd.read_csv('CH01PR27.txt', sep = '\\s+', header = None, names = ['the measure of muscle mass','age'])\n",
    "df.head()"
   ]
  },
  {
   "cell_type": "markdown",
   "id": "ba9c8af3",
   "metadata": {},
   "source": [
    "## a.\n",
    "\n",
    "Prepare a histogram for the ages Xi. What information does your plot provide? Is this plot consistent with the random selection of women from each 10-year age group? Explain."
   ]
  },
  {
   "cell_type": "code",
   "execution_count": 23,
   "id": "003ab093",
   "metadata": {},
   "outputs": [
    {
     "data": {
      "image/png": "[encoded data removed]",
      "text/plain": [
       "<Figure size 432x288 with 1 Axes>"
      ]
     },
     "metadata": {},
     "output_type": "display_data"
    }
   ],
   "source": [
    "sns.set_theme()\n",
    "sns.histplot(data=df, x = 'age').set(title='the age beginning with age 40 and ending with age 79');"
   ]
  },
  {
   "cell_type": "markdown",
   "id": "a74b6cae",
   "metadata": {},
   "source": [
    "#### The information the plot provide is a nutritionist randomly selected 15 women from each 10-year age group, beginning with age 40 and ending with age 79. We can noticed that there are a slightly different distribution between these group. However this difference can be accepted and  this plot can be consistent with the random selection of women from each 10-year age group."
   ]
  },
  {
   "cell_type": "markdown",
   "id": "dfe4b7b8",
   "metadata": {},
   "source": [
    "## b.\n",
    "\n",
    "Obtain the residuals 𝑒𝑖 and prepare a normal probability plot of the residuals. Does the distribution of the residuals appear to be symmetrical?\n"
   ]
  },
  {
   "cell_type": "code",
   "execution_count": 24,
   "id": "79d1ed97",
   "metadata": {},
   "outputs": [
    {
     "name": "stdout",
     "output_type": "stream",
     "text": [
      "59.983333333333334 84.96666666666667\n"
     ]
    },
    {
     "data": {
      "text/plain": [
       "0   -16.983333\n",
       "1   -18.983333\n",
       "2   -12.983333\n",
       "3   -13.983333\n",
       "4   -14.983333\n",
       "Name: age, dtype: float64"
      ]
     },
     "execution_count": 24,
     "metadata": {},
     "output_type": "execute_result"
    }
   ],
   "source": [
    "X = df['age']\n",
    "Y = df['the measure of muscle mass']\n",
    "X_bar = np.mean(X)\n",
    "Y_bar = np.mean(Y)\n",
    "X_err = X - X_bar\n",
    "Y_err = Y - Y_bar\n",
    "print(X_bar, Y_bar)\n",
    "X_err.head()"
   ]
  },
  {
   "cell_type": "code",
   "execution_count": 25,
   "id": "af0cdd6f",
   "metadata": {},
   "outputs": [
    {
     "name": "stdout",
     "output_type": "stream",
     "text": [
      "-9771.033333333333 \n",
      " 8210.983333333335\n"
     ]
    }
   ],
   "source": [
    "A = np.sum(X_err*Y_err)\n",
    "B = np.sum(X_err**2)\n",
    "print(A,'\\n',B)"
   ]
  },
  {
   "cell_type": "code",
   "execution_count": 26,
   "id": "001c66dc",
   "metadata": {},
   "outputs": [
    {
     "name": "stdout",
     "output_type": "stream",
     "text": [
      "-1.1899955141385823 156.34656425641265\n"
     ]
    }
   ],
   "source": [
    "b1 = A / B\n",
    "b0 = Y_bar - b1*X_bar\n",
    "print(b1, b0)"
   ]
  },
  {
   "cell_type": "code",
   "execution_count": 27,
   "id": "d717dad1",
   "metadata": {},
   "outputs": [],
   "source": [
    "n= len(X)\n",
    "Y_hat = b0 + b1 * X\n",
    "resid = Y - Y_hat"
   ]
  },
  {
   "cell_type": "code",
   "execution_count": 34,
   "id": "f80af747",
   "metadata": {},
   "outputs": [
    {
     "data": {
      "image/png": "[encoded data removed]",
      "text/plain": [
       "<Figure size 432x288 with 1 Axes>"
      ]
     },
     "metadata": {},
     "output_type": "display_data"
    }
   ],
   "source": [
    "stats.probplot(resid, dist=\"norm\", plot = plt);\n",
    "plt.show();"
   ]
  },
  {
   "cell_type": "markdown",
   "id": "ef7ad10a",
   "metadata": {},
   "source": [
    "#### The distribution of the residuals appear to be symmetrical. However, the distribution in the right top connor and left bottom conner is not symmetrical."
   ]
  },
  {
   "cell_type": "markdown",
   "id": "f6e682fa",
   "metadata": {},
   "source": [
    "## c. \n",
    "\n",
    "Plot the residuals 𝑒𝑖 against Yi_hat and also against Xi on separate graphs to ascertain whether any departures from regression model (2.1) are evident. Do the two plots provide the same information? State your conclusions."
   ]
  },
  {
   "cell_type": "code",
   "execution_count": 40,
   "id": "9092097a",
   "metadata": {},
   "outputs": [
    {
     "data": {
      "image/png": "[encoded data removed]",
      "text/plain": [
       "<Figure size 432x288 with 1 Axes>"
      ]
     },
     "metadata": {},
     "output_type": "display_data"
    }
   ],
   "source": [
    "sns.residplot(x=Y_hat,y= resid, data=df);"
   ]
  },
  {
   "cell_type": "code",
   "execution_count": 41,
   "id": "071ed98b",
   "metadata": {},
   "outputs": [
    {
     "data": {
      "image/png": "[encoded data removed]",
      "text/plain": [
       "<Figure size 432x288 with 1 Axes>"
      ]
     },
     "metadata": {},
     "output_type": "display_data"
    }
   ],
   "source": [
    "sns.residplot(x=X, y=resid, data=df);"
   ]
  },
  {
   "cell_type": "markdown",
   "id": "14f863c8",
   "metadata": {},
   "source": [
    "#### The two plots provide the same information. Additionally, there is an outlier in the left top corner in plot 1 and in the right top corner in plot 2"
   ]
  },
  {
   "cell_type": "markdown",
   "id": "4d22b2ea",
   "metadata": {},
   "source": [
    "## d.\n",
    "\n",
    "Assume that (3.10) is applicable and conduct the Breusch-Pagan test to determine whether or not the error variance varies with the level of 𝑋. Use 𝛼 = 0.01. State the alternatives, decision rule, and conclusion. Is your conclusion consistent with your preliminary findings in part (c)?\n"
   ]
  },
  {
   "cell_type": "code",
   "execution_count": 43,
   "id": "02df2a8c",
   "metadata": {
    "scrolled": true
   },
   "outputs": [
    {
     "data": {
      "text/html": [
       "<table class=\"simpletable\">\n",
       "<caption>OLS Regression Results</caption>\n",
       "<tr>\n",
       "  <th>Dep. Variable:</th>            <td>Y</td>        <th>  R-squared:         </th> <td>   0.750</td>\n",
       "</tr>\n",
       "<tr>\n",
       "  <th>Model:</th>                   <td>OLS</td>       <th>  Adj. R-squared:    </th> <td>   0.746</td>\n",
       "</tr>\n",
       "<tr>\n",
       "  <th>Method:</th>             <td>Least Squares</td>  <th>  F-statistic:       </th> <td>   174.1</td>\n",
       "</tr>\n",
       "<tr>\n",
       "  <th>Date:</th>             <td>Sat, 15 Oct 2022</td> <th>  Prob (F-statistic):</th> <td>4.12e-19</td>\n",
       "</tr>\n",
       "<tr>\n",
       "  <th>Time:</th>                 <td>10:21:59</td>     <th>  Log-Likelihood:    </th> <td> -210.17</td>\n",
       "</tr>\n",
       "<tr>\n",
       "  <th>No. Observations:</th>      <td>    60</td>      <th>  AIC:               </th> <td>   424.3</td>\n",
       "</tr>\n",
       "<tr>\n",
       "  <th>Df Residuals:</th>          <td>    58</td>      <th>  BIC:               </th> <td>   428.5</td>\n",
       "</tr>\n",
       "<tr>\n",
       "  <th>Df Model:</th>              <td>     1</td>      <th>                     </th>     <td> </td>   \n",
       "</tr>\n",
       "<tr>\n",
       "  <th>Covariance Type:</th>      <td>nonrobust</td>    <th>                     </th>     <td> </td>   \n",
       "</tr>\n",
       "</table>\n",
       "<table class=\"simpletable\">\n",
       "<tr>\n",
       "      <td></td>         <th>coef</th>     <th>std err</th>      <th>t</th>      <th>P>|t|</th>  <th>[0.025</th>    <th>0.975]</th>  \n",
       "</tr>\n",
       "<tr>\n",
       "  <th>Intercept</th> <td>  156.3466</td> <td>    5.512</td> <td>   28.363</td> <td> 0.000</td> <td>  145.313</td> <td>  167.381</td>\n",
       "</tr>\n",
       "<tr>\n",
       "  <th>X</th>         <td>   -1.1900</td> <td>    0.090</td> <td>  -13.193</td> <td> 0.000</td> <td>   -1.371</td> <td>   -1.009</td>\n",
       "</tr>\n",
       "</table>\n",
       "<table class=\"simpletable\">\n",
       "<tr>\n",
       "  <th>Omnibus:</th>       <td> 1.213</td> <th>  Durbin-Watson:     </th> <td>   2.416</td>\n",
       "</tr>\n",
       "<tr>\n",
       "  <th>Prob(Omnibus):</th> <td> 0.545</td> <th>  Jarque-Bera (JB):  </th> <td>   1.208</td>\n",
       "</tr>\n",
       "<tr>\n",
       "  <th>Skew:</th>          <td> 0.319</td> <th>  Prob(JB):          </th> <td>   0.547</td>\n",
       "</tr>\n",
       "<tr>\n",
       "  <th>Kurtosis:</th>      <td> 2.726</td> <th>  Cond. No.          </th> <td>    319.</td>\n",
       "</tr>\n",
       "</table><br/><br/>Notes:<br/>[1] Standard Errors assume that the covariance matrix of the errors is correctly specified."
      ],
      "text/plain": [
       "<class 'statsmodels.iolib.summary.Summary'>\n",
       "\"\"\"\n",
       "                            OLS Regression Results                            \n",
       "==============================================================================\n",
       "Dep. Variable:                      Y   R-squared:                       0.750\n",
       "Model:                            OLS   Adj. R-squared:                  0.746\n",
       "Method:                 Least Squares   F-statistic:                     174.1\n",
       "Date:                Sat, 15 Oct 2022   Prob (F-statistic):           4.12e-19\n",
       "Time:                        10:21:59   Log-Likelihood:                -210.17\n",
       "No. Observations:                  60   AIC:                             424.3\n",
       "Df Residuals:                      58   BIC:                             428.5\n",
       "Df Model:                           1                                         \n",
       "Covariance Type:            nonrobust                                         \n",
       "==============================================================================\n",
       "                 coef    std err          t      P>|t|      [0.025      0.975]\n",
       "------------------------------------------------------------------------------\n",
       "Intercept    156.3466      5.512     28.363      0.000     145.313     167.381\n",
       "X             -1.1900      0.090    -13.193      0.000      -1.371      -1.009\n",
       "==============================================================================\n",
       "Omnibus:                        1.213   Durbin-Watson:                   2.416\n",
       "Prob(Omnibus):                  0.545   Jarque-Bera (JB):                1.208\n",
       "Skew:                           0.319   Prob(JB):                        0.547\n",
       "Kurtosis:                       2.726   Cond. No.                         319.\n",
       "==============================================================================\n",
       "\n",
       "Notes:\n",
       "[1] Standard Errors assume that the covariance matrix of the errors is correctly specified.\n",
       "\"\"\""
      ]
     },
     "execution_count": 43,
     "metadata": {},
     "output_type": "execute_result"
    }
   ],
   "source": [
    "model = smf.ols('Y ~ X', data=df)\n",
    "results = model.fit()\n",
    "results.summary()"
   ]
  },
  {
   "cell_type": "markdown",
   "id": "e05c5a8f",
   "metadata": {},
   "source": [
    "#### The alternative conclusions are:\n",
    "\n",
    "H0 : γ1 == 0\n",
    "\n",
    "Ha : γ1 != 0\n",
    "\n",
    "#### The decision rule is:\n",
    "\n",
    "If X^2 <= X^2_BP, conclude H0\n",
    "\n",
    "If X^2 >= X^2_BP, conclude Ha"
   ]
  },
  {
   "cell_type": "code",
   "execution_count": 46,
   "id": "b6d4a74e",
   "metadata": {},
   "outputs": [
    {
     "data": {
      "text/html": [
       "<table class=\"simpletable\">\n",
       "<caption>OLS Regression Results</caption>\n",
       "<tr>\n",
       "  <th>Dep. Variable:</th>      <td>resid_square</td>   <th>  R-squared:         </th> <td>   0.074</td>\n",
       "</tr>\n",
       "<tr>\n",
       "  <th>Model:</th>                   <td>OLS</td>       <th>  Adj. R-squared:    </th> <td>   0.058</td>\n",
       "</tr>\n",
       "<tr>\n",
       "  <th>Method:</th>             <td>Least Squares</td>  <th>  F-statistic:       </th> <td>   4.615</td>\n",
       "</tr>\n",
       "<tr>\n",
       "  <th>Date:</th>             <td>Sat, 15 Oct 2022</td> <th>  Prob (F-statistic):</th>  <td>0.0359</td> \n",
       "</tr>\n",
       "<tr>\n",
       "  <th>Time:</th>                 <td>10:29:57</td>     <th>  Log-Likelihood:    </th> <td> -349.29</td>\n",
       "</tr>\n",
       "<tr>\n",
       "  <th>No. Observations:</th>      <td>    60</td>      <th>  AIC:               </th> <td>   702.6</td>\n",
       "</tr>\n",
       "<tr>\n",
       "  <th>Df Residuals:</th>          <td>    58</td>      <th>  BIC:               </th> <td>   706.8</td>\n",
       "</tr>\n",
       "<tr>\n",
       "  <th>Df Model:</th>              <td>     1</td>      <th>                     </th>     <td> </td>   \n",
       "</tr>\n",
       "<tr>\n",
       "  <th>Covariance Type:</th>      <td>nonrobust</td>    <th>                     </th>     <td> </td>   \n",
       "</tr>\n",
       "</table>\n",
       "<table class=\"simpletable\">\n",
       "<tr>\n",
       "      <td></td>         <th>coef</th>     <th>std err</th>      <th>t</th>      <th>P>|t|</th>  <th>[0.025</th>    <th>0.975]</th>  \n",
       "</tr>\n",
       "<tr>\n",
       "  <th>Intercept</th> <td>  -53.5326</td> <td>   56.015</td> <td>   -0.956</td> <td> 0.343</td> <td> -165.659</td> <td>   58.593</td>\n",
       "</tr>\n",
       "<tr>\n",
       "  <th>X</th>         <td>    1.9690</td> <td>    0.917</td> <td>    2.148</td> <td> 0.036</td> <td>    0.134</td> <td>    3.804</td>\n",
       "</tr>\n",
       "</table>\n",
       "<table class=\"simpletable\">\n",
       "<tr>\n",
       "  <th>Omnibus:</th>       <td>66.573</td> <th>  Durbin-Watson:     </th> <td>   2.197</td> \n",
       "</tr>\n",
       "<tr>\n",
       "  <th>Prob(Omnibus):</th> <td> 0.000</td> <th>  Jarque-Bera (JB):  </th> <td> 547.395</td> \n",
       "</tr>\n",
       "<tr>\n",
       "  <th>Skew:</th>          <td> 3.051</td> <th>  Prob(JB):          </th> <td>1.36e-119</td>\n",
       "</tr>\n",
       "<tr>\n",
       "  <th>Kurtosis:</th>      <td>16.481</td> <th>  Cond. No.          </th> <td>    319.</td> \n",
       "</tr>\n",
       "</table><br/><br/>Notes:<br/>[1] Standard Errors assume that the covariance matrix of the errors is correctly specified."
      ],
      "text/plain": [
       "<class 'statsmodels.iolib.summary.Summary'>\n",
       "\"\"\"\n",
       "                            OLS Regression Results                            \n",
       "==============================================================================\n",
       "Dep. Variable:           resid_square   R-squared:                       0.074\n",
       "Model:                            OLS   Adj. R-squared:                  0.058\n",
       "Method:                 Least Squares   F-statistic:                     4.615\n",
       "Date:                Sat, 15 Oct 2022   Prob (F-statistic):             0.0359\n",
       "Time:                        10:29:57   Log-Likelihood:                -349.29\n",
       "No. Observations:                  60   AIC:                             702.6\n",
       "Df Residuals:                      58   BIC:                             706.8\n",
       "Df Model:                           1                                         \n",
       "Covariance Type:            nonrobust                                         \n",
       "==============================================================================\n",
       "                 coef    std err          t      P>|t|      [0.025      0.975]\n",
       "------------------------------------------------------------------------------\n",
       "Intercept    -53.5326     56.015     -0.956      0.343    -165.659      58.593\n",
       "X              1.9690      0.917      2.148      0.036       0.134       3.804\n",
       "==============================================================================\n",
       "Omnibus:                       66.573   Durbin-Watson:                   2.197\n",
       "Prob(Omnibus):                  0.000   Jarque-Bera (JB):              547.395\n",
       "Skew:                           3.051   Prob(JB):                    1.36e-119\n",
       "Kurtosis:                      16.481   Cond. No.                         319.\n",
       "==============================================================================\n",
       "\n",
       "Notes:\n",
       "[1] Standard Errors assume that the covariance matrix of the errors is correctly specified.\n",
       "\"\"\""
      ]
     },
     "execution_count": 46,
     "metadata": {},
     "output_type": "execute_result"
    }
   ],
   "source": [
    "alpha = 0.01\n",
    "resid_square = resid**2\n",
    "model_1 = smf.ols('resid_square ~ X', data=df)\n",
    "results_1 = model_1.fit()\n",
    "results_1.summary()"
   ]
  },
  {
   "cell_type": "code",
   "execution_count": 48,
   "id": "98d11599",
   "metadata": {},
   "outputs": [
    {
     "data": {
      "text/plain": [
       "31833.428951644546"
      ]
     },
     "execution_count": 48,
     "metadata": {},
     "output_type": "execute_result"
    }
   ],
   "source": [
    "SSR_star= sum((results_1.fittedvalues - np.mean(resid_square))**2)\n",
    "SSR_star"
   ]
  },
  {
   "cell_type": "code",
   "execution_count": 51,
   "id": "ac32fcd7",
   "metadata": {},
   "outputs": [
    {
     "data": {
      "text/plain": [
       "3.817124858502205"
      ]
     },
     "execution_count": 51,
     "metadata": {},
     "output_type": "execute_result"
    }
   ],
   "source": [
    "X2_BP = (SSR_star/2) / ((SSE/n)**2)\n",
    "X2_BP"
   ]
  },
  {
   "cell_type": "code",
   "execution_count": 82,
   "id": "46924fc5",
   "metadata": {},
   "outputs": [
    {
     "name": "stdout",
     "output_type": "stream",
     "text": [
      "6.6348966010212145 0.05073500104800588\n"
     ]
    }
   ],
   "source": [
    "X2 = stats.chi2.ppf(q=1-0.01,df=1)\n",
    "p =1- stats.chi2.cdf(x=3.817,df=1)\n",
    "print(X2,p)"
   ]
  },
  {
   "cell_type": "markdown",
   "id": "5ccae079",
   "metadata": {},
   "source": [
    "#### Conclusion: to control the alpha risk at 0.01, we require X^2(0.99;1) = 6.6. Since X^2_BP= 3.817 <= 6.63, we conclude H0, that the error variance is constant."
   ]
  },
  {
   "cell_type": "markdown",
   "id": "d667151e",
   "metadata": {},
   "source": [
    "# Problem 2:\n"
   ]
  },
  {
   "cell_type": "code",
   "execution_count": 102,
   "id": "16c3d5e4",
   "metadata": {
    "scrolled": true
   },
   "outputs": [],
   "source": [
    "df1 = pd.read_csv('CH03PR18.txt', sep = '\\s+', header =None, names=['hours','lot size'])\n",
    "df1.head()\n",
    "x= df1['lot size']\n",
    "y= df1['hours']\n",
    "x_new = np.sqrt(x)"
   ]
  },
  {
   "cell_type": "markdown",
   "id": "1ea02016",
   "metadata": {},
   "source": [
    "## a."
   ]
  },
  {
   "cell_type": "code",
   "execution_count": 1,
   "id": "5f3a5d6e",
   "metadata": {
    "scrolled": true
   },
   "outputs": [
    {
     "ename": "NameError",
     "evalue": "name 'sns' is not defined",
     "output_type": "error",
     "traceback": [
      "\u001b[1;31m---------------------------------------------------------------------------\u001b[0m",
      "\u001b[1;31mNameError\u001b[0m                                 Traceback (most recent call last)",
      "Input \u001b[1;32mIn [1]\u001b[0m, in \u001b[0;36m<cell line: 1>\u001b[1;34m()\u001b[0m\n\u001b[1;32m----> 1\u001b[0m \u001b[43msns\u001b[49m\u001b[38;5;241m.\u001b[39mscatterplot(x\u001b[38;5;241m=\u001b[39m\u001b[38;5;124m'\u001b[39m\u001b[38;5;124mlot size\u001b[39m\u001b[38;5;124m'\u001b[39m, y\u001b[38;5;241m=\u001b[39m\u001b[38;5;124m'\u001b[39m\u001b[38;5;124mhours\u001b[39m\u001b[38;5;124m'\u001b[39m, data\u001b[38;5;241m=\u001b[39mdf1, color \u001b[38;5;241m=\u001b[39m \u001b[38;5;124m'\u001b[39m\u001b[38;5;124mblack\u001b[39m\u001b[38;5;124m'\u001b[39m)\n",
      "\u001b[1;31mNameError\u001b[0m: name 'sns' is not defined"
     ]
    }
   ],
   "source": [
    "sns.scatterplot(x='lot size', y='hours', data=df1, color = 'black');"
   ]
  },
  {
   "cell_type": "markdown",
   "id": "60b0fd33",
   "metadata": {},
   "source": [
    "- A linear relation does not appear to be adequate here. \n",
    "\n",
    "- The regression relation in the scatter-plot appears to be curvilinear here. \n",
    "\n",
    "- The variability across different X levels appears to be fairly constant, thus a transformation to X is more appropriate here."
   ]
  },
  {
   "cell_type": "markdown",
   "id": "9545d3bb",
   "metadata": {},
   "source": [
    "## b."
   ]
  },
  {
   "cell_type": "code",
   "execution_count": 104,
   "id": "a276abd6",
   "metadata": {},
   "outputs": [
    {
     "data": {
      "text/html": [
       "<table class=\"simpletable\">\n",
       "<caption>OLS Regression Results</caption>\n",
       "<tr>\n",
       "  <th>Dep. Variable:</th>            <td>y</td>        <th>  R-squared:         </th> <td>   0.770</td>\n",
       "</tr>\n",
       "<tr>\n",
       "  <th>Model:</th>                   <td>OLS</td>       <th>  Adj. R-squared:    </th> <td>   0.768</td>\n",
       "</tr>\n",
       "<tr>\n",
       "  <th>Method:</th>             <td>Least Squares</td>  <th>  F-statistic:       </th> <td>   365.7</td>\n",
       "</tr>\n",
       "<tr>\n",
       "  <th>Date:</th>             <td>Sat, 15 Oct 2022</td> <th>  Prob (F-statistic):</th> <td>1.29e-36</td>\n",
       "</tr>\n",
       "<tr>\n",
       "  <th>Time:</th>                 <td>11:56:43</td>     <th>  Log-Likelihood:    </th> <td> -232.88</td>\n",
       "</tr>\n",
       "<tr>\n",
       "  <th>No. Observations:</th>      <td>   111</td>      <th>  AIC:               </th> <td>   469.8</td>\n",
       "</tr>\n",
       "<tr>\n",
       "  <th>Df Residuals:</th>          <td>   109</td>      <th>  BIC:               </th> <td>   475.2</td>\n",
       "</tr>\n",
       "<tr>\n",
       "  <th>Df Model:</th>              <td>     1</td>      <th>                     </th>     <td> </td>   \n",
       "</tr>\n",
       "<tr>\n",
       "  <th>Covariance Type:</th>      <td>nonrobust</td>    <th>                     </th>     <td> </td>   \n",
       "</tr>\n",
       "</table>\n",
       "<table class=\"simpletable\">\n",
       "<tr>\n",
       "      <td></td>         <th>coef</th>     <th>std err</th>      <th>t</th>      <th>P>|t|</th>  <th>[0.025</th>    <th>0.975]</th>  \n",
       "</tr>\n",
       "<tr>\n",
       "  <th>Intercept</th> <td>    1.2547</td> <td>    0.639</td> <td>    1.964</td> <td> 0.052</td> <td>   -0.012</td> <td>    2.521</td>\n",
       "</tr>\n",
       "<tr>\n",
       "  <th>x_new</th>     <td>    3.6235</td> <td>    0.189</td> <td>   19.124</td> <td> 0.000</td> <td>    3.248</td> <td>    3.999</td>\n",
       "</tr>\n",
       "</table>\n",
       "<table class=\"simpletable\">\n",
       "<tr>\n",
       "  <th>Omnibus:</th>       <td> 1.123</td> <th>  Durbin-Watson:     </th> <td>   2.098</td>\n",
       "</tr>\n",
       "<tr>\n",
       "  <th>Prob(Omnibus):</th> <td> 0.570</td> <th>  Jarque-Bera (JB):  </th> <td>   1.160</td>\n",
       "</tr>\n",
       "<tr>\n",
       "  <th>Skew:</th>          <td>-0.151</td> <th>  Prob(JB):          </th> <td>   0.560</td>\n",
       "</tr>\n",
       "<tr>\n",
       "  <th>Kurtosis:</th>      <td> 2.600</td> <th>  Cond. No.          </th> <td>    12.3</td>\n",
       "</tr>\n",
       "</table><br/><br/>Notes:<br/>[1] Standard Errors assume that the covariance matrix of the errors is correctly specified."
      ],
      "text/plain": [
       "<class 'statsmodels.iolib.summary.Summary'>\n",
       "\"\"\"\n",
       "                            OLS Regression Results                            \n",
       "==============================================================================\n",
       "Dep. Variable:                      y   R-squared:                       0.770\n",
       "Model:                            OLS   Adj. R-squared:                  0.768\n",
       "Method:                 Least Squares   F-statistic:                     365.7\n",
       "Date:                Sat, 15 Oct 2022   Prob (F-statistic):           1.29e-36\n",
       "Time:                        11:56:43   Log-Likelihood:                -232.88\n",
       "No. Observations:                 111   AIC:                             469.8\n",
       "Df Residuals:                     109   BIC:                             475.2\n",
       "Df Model:                           1                                         \n",
       "Covariance Type:            nonrobust                                         \n",
       "==============================================================================\n",
       "                 coef    std err          t      P>|t|      [0.025      0.975]\n",
       "------------------------------------------------------------------------------\n",
       "Intercept      1.2547      0.639      1.964      0.052      -0.012       2.521\n",
       "x_new          3.6235      0.189     19.124      0.000       3.248       3.999\n",
       "==============================================================================\n",
       "Omnibus:                        1.123   Durbin-Watson:                   2.098\n",
       "Prob(Omnibus):                  0.570   Jarque-Bera (JB):                1.160\n",
       "Skew:                          -0.151   Prob(JB):                        0.560\n",
       "Kurtosis:                       2.600   Cond. No.                         12.3\n",
       "==============================================================================\n",
       "\n",
       "Notes:\n",
       "[1] Standard Errors assume that the covariance matrix of the errors is correctly specified.\n",
       "\"\"\""
      ]
     },
     "execution_count": 104,
     "metadata": {},
     "output_type": "execute_result"
    }
   ],
   "source": [
    "model = smf.ols('y ~ x_new', data=df1)\n",
    "results = model.fit()\n",
    "results.summary()"
   ]
  },
  {
   "cell_type": "markdown",
   "id": "e6e33b4a",
   "metadata": {},
   "source": [
    "- The estimated linear regression function for the transformed data is slightly higher than it original."
   ]
  },
  {
   "cell_type": "markdown",
   "id": "d9f99a40",
   "metadata": {},
   "source": [
    "## c."
   ]
  },
  {
   "cell_type": "code",
   "execution_count": 105,
   "id": "47bf3c69",
   "metadata": {},
   "outputs": [
    {
     "data": {
      "image/png": "[encoded data removed]",
      "text/plain": [
       "<Figure size 432x288 with 1 Axes>"
      ]
     },
     "metadata": {},
     "output_type": "display_data"
    }
   ],
   "source": [
    "sns.scatterplot(x=x_new, y= y, data =df1);"
   ]
  },
  {
   "cell_type": "markdown",
   "id": "043b167e",
   "metadata": {},
   "source": [
    "#### Conclusion:\n",
    "\n",
    "The scatter-plot shows a reasonably linear relation, the estimated regression line appears to be a good fit to the transformed data."
   ]
  },
  {
   "cell_type": "markdown",
   "id": "dfd5fec7",
   "metadata": {},
   "source": [
    "## d."
   ]
  },
  {
   "cell_type": "code",
   "execution_count": 109,
   "id": "c5e3697e",
   "metadata": {},
   "outputs": [
    {
     "name": "stdout",
     "output_type": "stream",
     "text": [
      "11.36936936936937 12.926486486486487\n",
      "2608.7040540540543 \n",
      " 4891.855855855856\n",
      "0.5332749228355274 6.863486913347429\n"
     ]
    },
    {
     "data": {
      "image/png": "[encoded data removed]",
      "text/plain": [
       "<Figure size 432x288 with 1 Axes>"
      ]
     },
     "metadata": {},
     "output_type": "display_data"
    }
   ],
   "source": [
    "d. Obtain the residuals and plot them against the fitted values. Also prepare a normal\n",
    "probability plot. What do your plots show?\n"
   ]
  },
  {
   "cell_type": "code",
   "execution_count": 110,
   "id": "1b9280e9",
   "metadata": {},
   "outputs": [
    {
     "data": {
      "image/png": "[encoded data removed]",
      "text/plain": [
       "<Figure size 432x288 with 1 Axes>"
      ]
     },
     "metadata": {},
     "output_type": "display_data"
    }
   ],
   "source": [
    "stats.probplot(resid1, dist=\"norm\", plot = plt);\n",
    "plt.show();"
   ]
  },
  {
   "cell_type": "markdown",
   "id": "f2c4b20c",
   "metadata": {},
   "source": [
    "#### Conclusion\n",
    "\n",
    "The normal probability plot shows that points fall reasonably close to a straight line, with very small tails deviating from the line, suggesting that the distribution of the error terms is approximately normal. These two plots above show a good fit between model and data points. Q - Q plot show the distribution of the residuals appear to be symmetrical."
   ]
  },
  {
   "cell_type": "markdown",
   "id": "794b544c",
   "metadata": {},
   "source": [
    "## e."
   ]
  },
  {
   "cell_type": "markdown",
   "id": "b2f4f8f1",
   "metadata": {},
   "source": [
    "### Y = 6.863486913347429 + 0.5333 X"
   ]
  }
 ],
 "metadata": {
  "kernelspec": {
   "display_name": "Python 3 (ipykernel)",
   "language": "python",
   "name": "python3"
  },
  "language_info": {
   "codemirror_mode": {
    "name": "ipython",
    "version": 3
   },
   "file_extension": ".py",
   "mimetype": "text/x-python",
   "name": "python",
   "nbconvert_exporter": "python",
   "pygments_lexer": "ipython3",
   "version": "3.9.12"
  }
 },
 "nbformat": 4,
 "nbformat_minor": 5
}
