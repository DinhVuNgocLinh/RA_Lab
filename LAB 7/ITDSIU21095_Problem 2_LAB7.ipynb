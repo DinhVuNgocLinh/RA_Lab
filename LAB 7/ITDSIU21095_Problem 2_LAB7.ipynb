{
 "cells": [
  {
   "attachments": {
    "image.png": {
     "image/png": "[encoded data removed]"
    }
   },
   "cell_type": "markdown",
   "id": "a1a4fe50",
   "metadata": {},
   "source": [
    "# Problem 2.\n",
    "Flu shots. A local health clinic sent fliers to its clients to encourage \n",
    "everyone, but especially older persons at high risk of complications, to get a flu shot in \n",
    "time for protection against an expected flu epidemic. In a pilot follow-up study, 159 \n",
    "clients were randomly selected and asked whether they actually received a flu shot. A \n",
    "client who received a flu shot was coded Y = 1, and a client who did not receive a flu \n",
    "shot was coded Y = 0. In addition, data were collected on their age (X1) and their health \n",
    "awareness. The latter data were combined into a health awareness index (X2), for which \n",
    "higher values indicate greater awareness. Also included in the data was client gender, \n",
    "where males were coded X3 = 1 and females were coded X3 = 0.\n",
    "![image.png](attachment:image.png)\n",
    "\n",
    "Multiple logistic regression model (14.41) with three predictor variables in first-order \n",
    "terms is assumed to be appropriate.\n",
    "\n",
    "a. Find the maximum likelihood estimates of β0, β1, β2, and β3. State the fitted response\n",
    "function.\n",
    "\n",
    "b. Obtain exp(b1), exp(b2), and exp(b3). Interpret these numbers.\n",
    "\n",
    "c. What is the estimated probability that male clients aged 55 with a health awareness \n",
    "index of 60 will receive a flu shot?\n",
    "\n",
    "d. Use the Wald test to determine whether X3, client gender, can be dropped from the \n",
    "regression model; use α = .05. State the alternatives, decision rule, and conclusion. What \n",
    "is the approximate P-value of the test?"
   ]
  },
  {
   "cell_type": "code",
   "execution_count": 1,
   "id": "744f8c77",
   "metadata": {},
   "outputs": [],
   "source": [
    "import pandas as pd, numpy as np\n",
    "import matplotlib.pyplot as plt\n",
    "import seaborn as sns"
   ]
  },
  {
   "cell_type": "code",
   "execution_count": 2,
   "id": "d7ef925a",
   "metadata": {},
   "outputs": [
    {
     "data": {
      "text/html": [
       "<div>\n",
       "<style scoped>\n",
       "    .dataframe tbody tr th:only-of-type {\n",
       "        vertical-align: middle;\n",
       "    }\n",
       "\n",
       "    .dataframe tbody tr th {\n",
       "        vertical-align: top;\n",
       "    }\n",
       "\n",
       "    .dataframe thead th {\n",
       "        text-align: right;\n",
       "    }\n",
       "</style>\n",
       "<table border=\"1\" class=\"dataframe\">\n",
       "  <thead>\n",
       "    <tr style=\"text-align: right;\">\n",
       "      <th></th>\n",
       "      <th>Y</th>\n",
       "      <th>X1</th>\n",
       "      <th>X2</th>\n",
       "      <th>X3</th>\n",
       "    </tr>\n",
       "  </thead>\n",
       "  <tbody>\n",
       "    <tr>\n",
       "      <th>0</th>\n",
       "      <td>0</td>\n",
       "      <td>59</td>\n",
       "      <td>52</td>\n",
       "      <td>0</td>\n",
       "    </tr>\n",
       "    <tr>\n",
       "      <th>1</th>\n",
       "      <td>0</td>\n",
       "      <td>61</td>\n",
       "      <td>55</td>\n",
       "      <td>1</td>\n",
       "    </tr>\n",
       "    <tr>\n",
       "      <th>2</th>\n",
       "      <td>1</td>\n",
       "      <td>82</td>\n",
       "      <td>51</td>\n",
       "      <td>0</td>\n",
       "    </tr>\n",
       "    <tr>\n",
       "      <th>3</th>\n",
       "      <td>0</td>\n",
       "      <td>51</td>\n",
       "      <td>70</td>\n",
       "      <td>0</td>\n",
       "    </tr>\n",
       "    <tr>\n",
       "      <th>4</th>\n",
       "      <td>0</td>\n",
       "      <td>53</td>\n",
       "      <td>70</td>\n",
       "      <td>0</td>\n",
       "    </tr>\n",
       "  </tbody>\n",
       "</table>\n",
       "</div>"
      ],
      "text/plain": [
       "   Y  X1  X2  X3\n",
       "0  0  59  52   0\n",
       "1  0  61  55   1\n",
       "2  1  82  51   0\n",
       "3  0  51  70   0\n",
       "4  0  53  70   0"
      ]
     },
     "execution_count": 2,
     "metadata": {},
     "output_type": "execute_result"
    }
   ],
   "source": [
    "df = pd.read_csv('CH14PR14.txt', sep = '\\s+', header =None, names=['Y','X1','X2','X3'])\n",
    "df.head()"
   ]
  },
  {
   "cell_type": "markdown",
   "id": "e490e22a",
   "metadata": {},
   "source": [
    "### a. Find the maximum likelihood estimates of β0, β1, β2, and β3. State the fitted response function."
   ]
  },
  {
   "cell_type": "code",
   "execution_count": 3,
   "id": "438f4cdb",
   "metadata": {},
   "outputs": [],
   "source": [
    "x1= df['X1']\n",
    "x2= df['X2']\n",
    "x3= df['X3']\n",
    "y= df['Y']"
   ]
  },
  {
   "cell_type": "code",
   "execution_count": 4,
   "id": "3daf3b19",
   "metadata": {},
   "outputs": [
    {
     "name": "stdout",
     "output_type": "stream",
     "text": [
      "                 Generalized Linear Model Regression Results                  \n",
      "==============================================================================\n",
      "Dep. Variable:                      Y   No. Observations:                  159\n",
      "Model:                            GLM   Df Residuals:                      155\n",
      "Model Family:                Binomial   Df Model:                            3\n",
      "Link Function:                  Logit   Scale:                          1.0000\n",
      "Method:                          IRLS   Log-Likelihood:                -52.547\n",
      "Date:                Sat, 10 Dec 2022   Deviance:                       105.09\n",
      "Time:                        18:30:41   Pearson chi2:                     180.\n",
      "No. Iterations:                     6   Pseudo R-squ. (CS):             0.1712\n",
      "Covariance Type:            nonrobust                                         \n",
      "==============================================================================\n",
      "                 coef    std err          z      P>|z|      [0.025      0.975]\n",
      "------------------------------------------------------------------------------\n",
      "const         -1.1772      2.982     -0.395      0.693      -7.023       4.668\n",
      "X1             0.0728      0.030      2.396      0.017       0.013       0.132\n",
      "X2            -0.0990      0.033     -2.957      0.003      -0.165      -0.033\n",
      "X3             0.4340      0.522      0.832      0.406      -0.589       1.457\n",
      "==============================================================================\n"
     ]
    }
   ],
   "source": [
    "import statsmodels.api as sm\n",
    "X = sm.add_constant(df[['X1','X2','X3']])\n",
    "Y = df['Y']\n",
    "\n",
    "logit_model = sm.GLM(Y, X, family=sm.families.Binomial())\n",
    "logit_results = logit_model.fit()\n",
    "print(logit_results.summary())"
   ]
  },
  {
   "cell_type": "code",
   "execution_count": 5,
   "id": "b7ce338e",
   "metadata": {},
   "outputs": [
    {
     "data": {
      "text/plain": [
       "const   -1.177159\n",
       "X1       0.072788\n",
       "X2      -0.098986\n",
       "X3       0.433975\n",
       "dtype: float64"
      ]
     },
     "execution_count": 5,
     "metadata": {},
     "output_type": "execute_result"
    }
   ],
   "source": [
    "logit_results.params"
   ]
  },
  {
   "cell_type": "markdown",
   "id": "a5599641",
   "metadata": {},
   "source": [
    "By plugging in β0 = -2.439663, β1 = 0.306704, β2 = 0.039178, β3 = -0.000888, we get the Logistic model is:\n",
    "\n",
    "πi = [1+exp(-2.43 + 0.306 *X1 + 0.039 *X2 + -0.0008 *X3)]^(-1)"
   ]
  },
  {
   "cell_type": "markdown",
   "id": "4912d2c4",
   "metadata": {},
   "source": [
    "### b. Obtain exp(b1), exp(b2), and exp(b3). Interpret these numbers."
   ]
  },
  {
   "cell_type": "code",
   "execution_count": 6,
   "id": "4bd7ffa0",
   "metadata": {
    "scrolled": true
   },
   "outputs": [
    {
     "name": "stdout",
     "output_type": "stream",
     "text": [
      "1.0755025255300614\n"
     ]
    }
   ],
   "source": [
    "b1 = np.exp(logit_results.params[1])\n",
    "print(b1)"
   ]
  },
  {
   "cell_type": "markdown",
   "id": "ad43e3e8",
   "metadata": {},
   "source": [
    "#### => the odds of completing the task increase by 7.5 percent for every unit in age"
   ]
  },
  {
   "cell_type": "code",
   "execution_count": 7,
   "id": "b37b7d93",
   "metadata": {
    "scrolled": true
   },
   "outputs": [
    {
     "name": "stdout",
     "output_type": "stream",
     "text": [
      "0.9057549411897999\n"
     ]
    }
   ],
   "source": [
    "b2 = np.exp(logit_results.params[2])\n",
    "print(b2)"
   ]
  },
  {
   "cell_type": "markdown",
   "id": "3f106e04",
   "metadata": {},
   "source": [
    "#### => the odds of completing the task decrease by  0.905 times for every unit in age"
   ]
  },
  {
   "cell_type": "code",
   "execution_count": 8,
   "id": "af2665a9",
   "metadata": {},
   "outputs": [
    {
     "name": "stdout",
     "output_type": "stream",
     "text": [
      "1.5433800567362366\n"
     ]
    }
   ],
   "source": [
    "b3 = np.exp(logit_results.params[3])\n",
    "print(b3)"
   ]
  },
  {
   "cell_type": "markdown",
   "id": "437ae216",
   "metadata": {},
   "source": [
    "#### => the odds of completing the task increase by 54.3 percent for every unit in age"
   ]
  },
  {
   "cell_type": "markdown",
   "id": "f78313f9",
   "metadata": {},
   "source": [
    "### c. What is the estimated probability that male clients aged 55 with a health awareness index of 60 will receive a flu shot?\n"
   ]
  },
  {
   "cell_type": "code",
   "execution_count": 16,
   "id": "d6e6f48b",
   "metadata": {},
   "outputs": [
    {
     "name": "stdout",
     "output_type": "stream",
     "text": [
      "0.06422370905902704\n"
     ]
    }
   ],
   "source": [
    "# a= -1.177159 +0.072788X1 + -0.098986X2 + 0.433975X3\n",
    "# => X3=1, aged 55=>X1=55, X2= 60\n",
    "#calculate the probability corresponding to X\n",
    "def logistic(a1):\n",
    "    return (np.exp(a1) / (1 + np.exp(a1)))\n",
    "\n",
    "a1= -1.177159 +0.072788*55 + -0.098986*60 + 0.433975*1 \n",
    "pi1 = logistic(a1)\n",
    "print(pi1)"
   ]
  },
  {
   "cell_type": "markdown",
   "id": "05b4e4b4",
   "metadata": {},
   "source": [
    "#### => The estimated probability that male clients aged 55 with a health awarenessindex of 60 (fixed x3 = 1) is 0.06422197"
   ]
  },
  {
   "cell_type": "code",
   "execution_count": 17,
   "id": "d729f2c3",
   "metadata": {},
   "outputs": [
    {
     "name": "stdout",
     "output_type": "stream",
     "text": [
      "0.04257504738450444\n"
     ]
    }
   ],
   "source": [
    "# a= -1.177159 +0.072788X1 + -0.098986X2 + 0.433975X3\n",
    "# => X3=0, aged 55=>X1=55, X2= 60\n",
    "#calculate the probability corresponding to X\n",
    "def logistic(a0):\n",
    "    return (np.exp(a0) / (1 + np.exp(a0)))\n",
    "\n",
    "a0= -1.177159 +0.072788*55 + -0.098986*60 + 0.433975*0\n",
    "pi0 = logistic(a0)\n",
    "print(pi0)"
   ]
  },
  {
   "cell_type": "markdown",
   "id": "a1aa0503",
   "metadata": {},
   "source": [
    "#### => The estimated probability that male clients aged 55 with a health awarenessindex of 60 (fixed x3 = 0) is 0.04257387"
   ]
  },
  {
   "cell_type": "markdown",
   "id": "2d6ff44f",
   "metadata": {},
   "source": [
    "### d. Use the Wald test to determine whether X3, client gender, can be dropped from theregression model; use α = .05. State the alternatives, decision rule, and conclusion. Whatis the approximate P-value of the test?"
   ]
  },
  {
   "cell_type": "markdown",
   "id": "b43f09ba",
   "metadata": {},
   "source": [
    "#### The alternatives:\n",
    "* H0 : βk = 0\n",
    "* Ha : βk # 0\n",
    "\n",
    "#### The decision rule is:\n",
    "* If |z∗| ≤ z(1 − α/2), conclude H0\n",
    "* If |z∗| > z(1 − α/2), conclude Ha"
   ]
  },
  {
   "cell_type": "code",
   "execution_count": 13,
   "id": "2eb9c104",
   "metadata": {
    "scrolled": false
   },
   "outputs": [
    {
     "name": "stdout",
     "output_type": "stream",
     "text": [
      "                 Generalized Linear Model Regression Results                  \n",
      "==============================================================================\n",
      "Dep. Variable:                      Y   No. Observations:                  159\n",
      "Model:                            GLM   Df Residuals:                      155\n",
      "Model Family:                Binomial   Df Model:                            3\n",
      "Link Function:                  Logit   Scale:                          1.0000\n",
      "Method:                          IRLS   Log-Likelihood:                -52.547\n",
      "Date:                Sat, 10 Dec 2022   Deviance:                       105.09\n",
      "Time:                        18:40:44   Pearson chi2:                     180.\n",
      "No. Iterations:                     6   Pseudo R-squ. (CS):             0.1712\n",
      "Covariance Type:            nonrobust                                         \n",
      "==============================================================================\n",
      "                 coef    std err          z      P>|z|      [0.025      0.975]\n",
      "------------------------------------------------------------------------------\n",
      "const         -1.1772      2.982     -0.395      0.693      -7.023       4.668\n",
      "X1             0.0728      0.030      2.396      0.017       0.013       0.132\n",
      "X2            -0.0990      0.033     -2.957      0.003      -0.165      -0.033\n",
      "X3             0.4340      0.522      0.832      0.406      -0.589       1.457\n",
      "==============================================================================\n"
     ]
    }
   ],
   "source": [
    "print(logit_results.summary())"
   ]
  },
  {
   "cell_type": "code",
   "execution_count": 15,
   "id": "5de629d5",
   "metadata": {},
   "outputs": [
    {
     "name": "stdout",
     "output_type": "stream",
     "text": [
      "z(1-α/2) =  1.959963984540054\n"
     ]
    }
   ],
   "source": [
    "z_star = 0.832 \n",
    "import statsmodels.formula.api as smf\n",
    "import scipy.stats as stats\n",
    "z= stats.norm.ppf(1-(0.05/2))\n",
    "print('z(1-α/2) = ',z)"
   ]
  },
  {
   "cell_type": "markdown",
   "id": "08fdf367",
   "metadata": {},
   "source": [
    "#### P-value = 0.4020417\n",
    "\n",
    "#### => We have insufficient evidence to conclude x3 into our model in predicting client’s probability of receiving flu shot."
   ]
  }
 ],
 "metadata": {
  "kernelspec": {
   "display_name": "Python 3 (ipykernel)",
   "language": "python",
   "name": "python3"
  },
  "language_info": {
   "codemirror_mode": {
    "name": "ipython",
    "version": 3
   },
   "file_extension": ".py",
   "mimetype": "text/x-python",
   "name": "python",
   "nbconvert_exporter": "python",
   "pygments_lexer": "ipython3",
   "version": "3.9.12"
  }
 },
 "nbformat": 4,
 "nbformat_minor": 5
}
