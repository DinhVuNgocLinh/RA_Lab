{
 "cells": [
  {
   "cell_type": "markdown",
   "id": "fafff025",
   "metadata": {},
   "source": [
    "###### Student Name: Đinh Vũ Ngọc Linh\n",
    "###### Student ID: ITDSIU21095"
   ]
  },
  {
   "cell_type": "code",
   "execution_count": 1,
   "id": "75ada4f6",
   "metadata": {},
   "outputs": [],
   "source": [
    "import pandas as pd, numpy as np\n",
    "import matplotlib.pyplot as plt\n",
    "import seaborn as sns\n",
    "import scipy.stats as stats\n",
    "import statsmodels.api as sm\n",
    "import statsmodels.formula.api as smf"
   ]
  },
  {
   "cell_type": "code",
   "execution_count": 2,
   "id": "b32392e9",
   "metadata": {},
   "outputs": [
    {
     "data": {
      "text/html": [
       "<div>\n",
       "<style scoped>\n",
       "    .dataframe tbody tr th:only-of-type {\n",
       "        vertical-align: middle;\n",
       "    }\n",
       "\n",
       "    .dataframe tbody tr th {\n",
       "        vertical-align: top;\n",
       "    }\n",
       "\n",
       "    .dataframe thead th {\n",
       "        text-align: right;\n",
       "    }\n",
       "</style>\n",
       "<table border=\"1\" class=\"dataframe\">\n",
       "  <thead>\n",
       "    <tr style=\"text-align: right;\">\n",
       "      <th></th>\n",
       "      <th>Id_number</th>\n",
       "      <th>County</th>\n",
       "      <th>State</th>\n",
       "      <th>Landarea</th>\n",
       "      <th>Total_population</th>\n",
       "      <th>Percent_of_population_18-34_</th>\n",
       "      <th>Percent_of_population_65_or_older</th>\n",
       "      <th>Number_of_active_physicians</th>\n",
       "      <th>Number_of_hospital_beds</th>\n",
       "      <th>Total_serious_crimes</th>\n",
       "      <th>Percent_high_school_graduates</th>\n",
       "      <th>Percent_bachelor’s_degrees</th>\n",
       "      <th>Percent_below_poverty_level</th>\n",
       "      <th>Percent_unemployment</th>\n",
       "      <th>Per_capita_income</th>\n",
       "      <th>Total_personal_income</th>\n",
       "      <th>Geographic_region</th>\n",
       "    </tr>\n",
       "  </thead>\n",
       "  <tbody>\n",
       "    <tr>\n",
       "      <th>0</th>\n",
       "      <td>1</td>\n",
       "      <td>Los_Angeles</td>\n",
       "      <td>CA</td>\n",
       "      <td>4060</td>\n",
       "      <td>8863164</td>\n",
       "      <td>32.1</td>\n",
       "      <td>9.7</td>\n",
       "      <td>23677</td>\n",
       "      <td>27700</td>\n",
       "      <td>688936</td>\n",
       "      <td>70.0</td>\n",
       "      <td>22.3</td>\n",
       "      <td>11.6</td>\n",
       "      <td>8.0</td>\n",
       "      <td>20786</td>\n",
       "      <td>184230</td>\n",
       "      <td>4</td>\n",
       "    </tr>\n",
       "    <tr>\n",
       "      <th>1</th>\n",
       "      <td>2</td>\n",
       "      <td>Cook</td>\n",
       "      <td>IL</td>\n",
       "      <td>946</td>\n",
       "      <td>5105067</td>\n",
       "      <td>29.2</td>\n",
       "      <td>12.4</td>\n",
       "      <td>15153</td>\n",
       "      <td>21550</td>\n",
       "      <td>436936</td>\n",
       "      <td>73.4</td>\n",
       "      <td>22.8</td>\n",
       "      <td>11.1</td>\n",
       "      <td>7.2</td>\n",
       "      <td>21729</td>\n",
       "      <td>110928</td>\n",
       "      <td>2</td>\n",
       "    </tr>\n",
       "    <tr>\n",
       "      <th>2</th>\n",
       "      <td>3</td>\n",
       "      <td>Harris</td>\n",
       "      <td>TX</td>\n",
       "      <td>1729</td>\n",
       "      <td>2818199</td>\n",
       "      <td>31.3</td>\n",
       "      <td>7.1</td>\n",
       "      <td>7553</td>\n",
       "      <td>12449</td>\n",
       "      <td>253526</td>\n",
       "      <td>74.9</td>\n",
       "      <td>25.4</td>\n",
       "      <td>12.5</td>\n",
       "      <td>5.7</td>\n",
       "      <td>19517</td>\n",
       "      <td>55003</td>\n",
       "      <td>3</td>\n",
       "    </tr>\n",
       "    <tr>\n",
       "      <th>3</th>\n",
       "      <td>4</td>\n",
       "      <td>San_Diego</td>\n",
       "      <td>CA</td>\n",
       "      <td>4205</td>\n",
       "      <td>2498016</td>\n",
       "      <td>33.5</td>\n",
       "      <td>10.9</td>\n",
       "      <td>5905</td>\n",
       "      <td>6179</td>\n",
       "      <td>173821</td>\n",
       "      <td>81.9</td>\n",
       "      <td>25.3</td>\n",
       "      <td>8.1</td>\n",
       "      <td>6.1</td>\n",
       "      <td>19588</td>\n",
       "      <td>48931</td>\n",
       "      <td>4</td>\n",
       "    </tr>\n",
       "    <tr>\n",
       "      <th>4</th>\n",
       "      <td>5</td>\n",
       "      <td>Orange</td>\n",
       "      <td>CA</td>\n",
       "      <td>790</td>\n",
       "      <td>2410556</td>\n",
       "      <td>32.6</td>\n",
       "      <td>9.2</td>\n",
       "      <td>6062</td>\n",
       "      <td>6369</td>\n",
       "      <td>144524</td>\n",
       "      <td>81.2</td>\n",
       "      <td>27.8</td>\n",
       "      <td>5.2</td>\n",
       "      <td>4.8</td>\n",
       "      <td>24400</td>\n",
       "      <td>58818</td>\n",
       "      <td>4</td>\n",
       "    </tr>\n",
       "  </tbody>\n",
       "</table>\n",
       "</div>"
      ],
      "text/plain": [
       "    Id_number       County State  Landarea  Total_population  \\\n",
       "0           1  Los_Angeles    CA      4060           8863164   \n",
       "1           2         Cook    IL       946           5105067   \n",
       "2           3       Harris    TX      1729           2818199   \n",
       "3           4    San_Diego    CA      4205           2498016   \n",
       "4           5       Orange    CA       790           2410556   \n",
       "\n",
       "   Percent_of_population_18-34_  Percent_of_population_65_or_older  \\\n",
       "0                          32.1                                9.7   \n",
       "1                          29.2                               12.4   \n",
       "2                          31.3                                7.1   \n",
       "3                          33.5                               10.9   \n",
       "4                          32.6                                9.2   \n",
       "\n",
       "   Number_of_active_physicians  Number_of_hospital_beds  Total_serious_crimes  \\\n",
       "0                        23677                    27700                688936   \n",
       "1                        15153                    21550                436936   \n",
       "2                         7553                    12449                253526   \n",
       "3                         5905                     6179                173821   \n",
       "4                         6062                     6369                144524   \n",
       "\n",
       "   Percent_high_school_graduates  Percent_bachelor’s_degrees  \\\n",
       "0                           70.0                        22.3   \n",
       "1                           73.4                        22.8   \n",
       "2                           74.9                        25.4   \n",
       "3                           81.9                        25.3   \n",
       "4                           81.2                        27.8   \n",
       "\n",
       "   Percent_below_poverty_level  Percent_unemployment  Per_capita_income  \\\n",
       "0                         11.6                   8.0              20786   \n",
       "1                         11.1                   7.2              21729   \n",
       "2                         12.5                   5.7              19517   \n",
       "3                          8.1                   6.1              19588   \n",
       "4                          5.2                   4.8              24400   \n",
       "\n",
       "   Total_personal_income   Geographic_region  \n",
       "0                 184230                   4  \n",
       "1                 110928                   2  \n",
       "2                  55003                   3  \n",
       "3                  48931                   4  \n",
       "4                  58818                   4  "
      ]
     },
     "execution_count": 2,
     "metadata": {},
     "output_type": "execute_result"
    }
   ],
   "source": [
    "df = pd.read_csv('APPENC02.txt',\n",
    "                 sep='\\s+',\n",
    "                 header=None,\n",
    "                 names=[' Id_number',' County','State',\n",
    "                        'Landarea','Total_population',\n",
    "                        'Percent_of_population_18-34_',\n",
    "                        'Percent_of_population_65_or_older',\n",
    "                        'Number_of_active_physicians',\n",
    "                        'Number_of_hospital_beds',\n",
    "                        'Total_serious_crimes',\n",
    "                        'Percent_high_school_graduates',\n",
    "                        'Percent_bachelor’s_degrees',\n",
    "                        'Percent_below_poverty_level',\n",
    "                        'Percent_unemployment','Per_capita_income',\n",
    "                        'Total_personal_income',' Geographic_region'])\n",
    "df.head()"
   ]
  },
  {
   "cell_type": "code",
   "execution_count": 3,
   "id": "e0ea7400",
   "metadata": {},
   "outputs": [],
   "source": [
    "y = df['Number_of_active_physicians']\n",
    "y_mean = np.mean(y)\n",
    "y_err = y -y_mean\n",
    "\n",
    "x1 = df['Total_population']\n",
    "x1_mean = np.mean(x1)\n",
    "x1_err = x1 -x1_mean\n",
    "\n",
    "x2 = df['Number_of_hospital_beds']\n",
    "x2_mean = np.mean(x2)\n",
    "x2_err = x2 -x2_mean\n",
    "\n",
    "x3 = df['Total_personal_income']\n",
    "x3_mean = np.mean(x3)\n",
    "x3_err = x3 -x3_mean\n"
   ]
  },
  {
   "cell_type": "code",
   "execution_count": 4,
   "id": "7f06e16e",
   "metadata": {},
   "outputs": [
    {
     "name": "stdout",
     "output_type": "stream",
     "text": [
      "0.0027954248783588946 -110.6347772326377\n"
     ]
    }
   ],
   "source": [
    "b1_x1 = np.sum(x1_err*y_err) / np.sum(x1_err**2)\n",
    "b0_x1 = y_mean - b1_x1*x1_mean\n",
    "print(b1_x1, b0_x1)"
   ]
  },
  {
   "cell_type": "markdown",
   "id": "76578347",
   "metadata": {},
   "source": [
    "- The linear regression model for Toluca dataset is: Y1 = -110.63 + 0.003 * X1 + 𝜖 where 𝜖 𝑁(0, 𝜎).\n",
    "- The linear regression model for Toluca dataset is: 𝐸{𝑌1 } = -110.63 + 0.003 ∗ 𝑋1."
   ]
  },
  {
   "cell_type": "code",
   "execution_count": 5,
   "id": "d7926a22",
   "metadata": {
    "scrolled": true
   },
   "outputs": [
    {
     "data": {
      "image/png": "[encoded data removed]",
      "text/plain": [
       "<Figure size 360x360 with 1 Axes>"
      ]
     },
     "metadata": {
      "needs_background": "light"
     },
     "output_type": "display_data"
    }
   ],
   "source": [
    "sns.relplot(x='Total_population', y='Number_of_active_physicians', data=df)\n",
    "sns.lineplot(x=x1, y=b0_x1+b1_x1*x1, color='red')\n",
    "plt.show()"
   ]
  },
  {
   "cell_type": "code",
   "execution_count": 6,
   "id": "17c081a7",
   "metadata": {},
   "outputs": [
    {
     "name": "stdout",
     "output_type": "stream",
     "text": [
      "0.7431164439874645 -95.9321847394973\n"
     ]
    }
   ],
   "source": [
    "b1_x2 = np.sum(x2_err*y_err) / np.sum(x2_err**2)\n",
    "b0_x2 = y_mean - b1_x2*x2_mean\n",
    "print(b1_x2, b0_x2)"
   ]
  },
  {
   "cell_type": "markdown",
   "id": "3613be65",
   "metadata": {},
   "source": [
    "- The linear regression model for Toluca dataset is: Y2 = -95.93 + 0.74 * X2 + 𝜖 where 𝜖 𝑁(0, 𝜎).\n",
    "- The linear regression model for Toluca dataset is: 𝐸{𝑌2 } = -95.93 + 0.74 ∗ 𝑋2."
   ]
  },
  {
   "cell_type": "code",
   "execution_count": 7,
   "id": "61b8fdf9",
   "metadata": {},
   "outputs": [
    {
     "data": {
      "image/png": "[encoded data removed]",
      "text/plain": [
       "<Figure size 360x360 with 1 Axes>"
      ]
     },
     "metadata": {
      "needs_background": "light"
     },
     "output_type": "display_data"
    }
   ],
   "source": [
    "sns.relplot(x='Number_of_hospital_beds', y='Number_of_active_physicians', data=df)\n",
    "sns.lineplot(x=x2, y=b0_x2+b1_x2*x2, color='red')\n",
    "plt.show()"
   ]
  },
  {
   "cell_type": "code",
   "execution_count": 8,
   "id": "73c9e478",
   "metadata": {},
   "outputs": [
    {
     "name": "stdout",
     "output_type": "stream",
     "text": [
      "0.13170118918365611 -48.39484891960376\n"
     ]
    }
   ],
   "source": [
    "b1_x3 = np.sum(x3_err*y_err) / np.sum(x3_err**2)\n",
    "b0_x3 = y_mean - b1_x3*x3_mean\n",
    "print(b1_x3, b0_x3)"
   ]
  },
  {
   "cell_type": "markdown",
   "id": "c17de0bb",
   "metadata": {},
   "source": [
    "- The linear regression model for Toluca dataset is: 𝑌3 = -48.4 + 0.13 ∗ 𝑋3 + 𝜖 where 𝜖 𝑁(0, 𝜎).\n",
    "- The linear regression model for Toluca dataset is: 𝐸{𝑌3 } = -48.4 + 0.13 ∗ 𝑋3."
   ]
  },
  {
   "cell_type": "code",
   "execution_count": 9,
   "id": "e5390ddf",
   "metadata": {},
   "outputs": [
    {
     "data": {
      "image/png": "[encoded data removed]",
      "text/plain": [
       "<Figure size 360x360 with 1 Axes>"
      ]
     },
     "metadata": {
      "needs_background": "light"
     },
     "output_type": "display_data"
    }
   ],
   "source": [
    "sns.relplot(x='Total_personal_income', y='Number_of_active_physicians', data=df)\n",
    "sns.lineplot(x=x3, y=b0_x3+b1_x3*x3, color='red')\n",
    "plt.show()"
   ]
  },
  {
   "cell_type": "code",
   "execution_count": 10,
   "id": "dcca500b",
   "metadata": {
    "scrolled": false
   },
   "outputs": [
    {
     "data": {
      "text/html": [
       "<table class=\"simpletable\">\n",
       "<caption>OLS Regression Results</caption>\n",
       "<tr>\n",
       "  <th>Dep. Variable:</th>            <td>y</td>        <th>  R-squared:         </th> <td>   0.884</td> \n",
       "</tr>\n",
       "<tr>\n",
       "  <th>Model:</th>                   <td>OLS</td>       <th>  Adj. R-squared:    </th> <td>   0.884</td> \n",
       "</tr>\n",
       "<tr>\n",
       "  <th>Method:</th>             <td>Least Squares</td>  <th>  F-statistic:       </th> <td>   3340.</td> \n",
       "</tr>\n",
       "<tr>\n",
       "  <th>Date:</th>             <td>Fri, 07 Oct 2022</td> <th>  Prob (F-statistic):</th> <td>4.66e-207</td>\n",
       "</tr>\n",
       "<tr>\n",
       "  <th>Time:</th>                 <td>11:08:01</td>     <th>  Log-Likelihood:    </th> <td> -3445.3</td> \n",
       "</tr>\n",
       "<tr>\n",
       "  <th>No. Observations:</th>      <td>   440</td>      <th>  AIC:               </th> <td>   6895.</td> \n",
       "</tr>\n",
       "<tr>\n",
       "  <th>Df Residuals:</th>          <td>   438</td>      <th>  BIC:               </th> <td>   6903.</td> \n",
       "</tr>\n",
       "<tr>\n",
       "  <th>Df Model:</th>              <td>     1</td>      <th>                     </th>     <td> </td>    \n",
       "</tr>\n",
       "<tr>\n",
       "  <th>Covariance Type:</th>      <td>nonrobust</td>    <th>                     </th>     <td> </td>    \n",
       "</tr>\n",
       "</table>\n",
       "<table class=\"simpletable\">\n",
       "<tr>\n",
       "      <td></td>         <th>coef</th>     <th>std err</th>      <th>t</th>      <th>P>|t|</th>  <th>[0.025</th>    <th>0.975]</th>  \n",
       "</tr>\n",
       "<tr>\n",
       "  <th>Intercept</th> <td> -110.6348</td> <td>   34.746</td> <td>   -3.184</td> <td> 0.002</td> <td> -178.924</td> <td>  -42.345</td>\n",
       "</tr>\n",
       "<tr>\n",
       "  <th>x1</th>        <td>    0.0028</td> <td> 4.84e-05</td> <td>   57.793</td> <td> 0.000</td> <td>    0.003</td> <td>    0.003</td>\n",
       "</tr>\n",
       "</table>\n",
       "<table class=\"simpletable\">\n",
       "<tr>\n",
       "  <th>Omnibus:</th>       <td>265.471</td> <th>  Durbin-Watson:     </th> <td>   1.986</td>\n",
       "</tr>\n",
       "<tr>\n",
       "  <th>Prob(Omnibus):</th> <td> 0.000</td>  <th>  Jarque-Bera (JB):  </th> <td>2775.183</td>\n",
       "</tr>\n",
       "<tr>\n",
       "  <th>Skew:</th>          <td> 2.437</td>  <th>  Prob(JB):          </th> <td>    0.00</td>\n",
       "</tr>\n",
       "<tr>\n",
       "  <th>Kurtosis:</th>      <td>14.297</td>  <th>  Cond. No.          </th> <td>8.58e+05</td>\n",
       "</tr>\n",
       "</table><br/><br/>Notes:<br/>[1] Standard Errors assume that the covariance matrix of the errors is correctly specified.<br/>[2] The condition number is large, 8.58e+05. This might indicate that there are<br/>strong multicollinearity or other numerical problems."
      ],
      "text/plain": [
       "<class 'statsmodels.iolib.summary.Summary'>\n",
       "\"\"\"\n",
       "                            OLS Regression Results                            \n",
       "==============================================================================\n",
       "Dep. Variable:                      y   R-squared:                       0.884\n",
       "Model:                            OLS   Adj. R-squared:                  0.884\n",
       "Method:                 Least Squares   F-statistic:                     3340.\n",
       "Date:                Fri, 07 Oct 2022   Prob (F-statistic):          4.66e-207\n",
       "Time:                        11:08:01   Log-Likelihood:                -3445.3\n",
       "No. Observations:                 440   AIC:                             6895.\n",
       "Df Residuals:                     438   BIC:                             6903.\n",
       "Df Model:                           1                                         \n",
       "Covariance Type:            nonrobust                                         \n",
       "==============================================================================\n",
       "                 coef    std err          t      P>|t|      [0.025      0.975]\n",
       "------------------------------------------------------------------------------\n",
       "Intercept   -110.6348     34.746     -3.184      0.002    -178.924     -42.345\n",
       "x1             0.0028   4.84e-05     57.793      0.000       0.003       0.003\n",
       "==============================================================================\n",
       "Omnibus:                      265.471   Durbin-Watson:                   1.986\n",
       "Prob(Omnibus):                  0.000   Jarque-Bera (JB):             2775.183\n",
       "Skew:                           2.437   Prob(JB):                         0.00\n",
       "Kurtosis:                      14.297   Cond. No.                     8.58e+05\n",
       "==============================================================================\n",
       "\n",
       "Notes:\n",
       "[1] Standard Errors assume that the covariance matrix of the errors is correctly specified.\n",
       "[2] The condition number is large, 8.58e+05. This might indicate that there are\n",
       "strong multicollinearity or other numerical problems.\n",
       "\"\"\""
      ]
     },
     "execution_count": 10,
     "metadata": {},
     "output_type": "execute_result"
    }
   ],
   "source": [
    "model_1 = smf.ols('y ~ x1', data=df)\n",
    "results_1 = model_1.fit()\n",
    "results_1.summary()"
   ]
  },
  {
   "cell_type": "code",
   "execution_count": 11,
   "id": "ce9b9716",
   "metadata": {},
   "outputs": [
    {
     "name": "stdout",
     "output_type": "stream",
     "text": [
      "1.0913936421275139e-11\n",
      "163025135.15359497\n",
      "163025135.15359482\n"
     ]
    }
   ],
   "source": [
    "n1= len(x1)\n",
    "y_hat_1 = b0_x1 + b1_x1*x1\n",
    "resid_1 = y - y_hat_1\n",
    "print(np.sum(resid_1))\n",
    "print((np.sum((resid_1 - np.mean(resid_1))**2)))\n",
    "print(np.var(resid_1, ddof=1)*(n1-1))"
   ]
  },
  {
   "cell_type": "code",
   "execution_count": 12,
   "id": "301300e9",
   "metadata": {},
   "outputs": [
    {
     "name": "stdout",
     "output_type": "stream",
     "text": [
      "372203.5049168835 163025135.15359497\n"
     ]
    },
    {
     "data": {
      "text/plain": [
       "610.0848341967562"
      ]
     },
     "execution_count": 12,
     "metadata": {},
     "output_type": "execute_result"
    }
   ],
   "source": [
    "SSE_1 = np.sum((y - y_hat_1)**2)\n",
    "MSE_1 = SSE_1 / (n1-2)\n",
    "print(MSE_1, SSE_1)\n",
    "resid_dev_1 = np.sqrt(MSE_1)\n",
    "resid_dev_1"
   ]
  },
  {
   "cell_type": "code",
   "execution_count": 13,
   "id": "1f6c7595",
   "metadata": {},
   "outputs": [
    {
     "data": {
      "text/html": [
       "<table class=\"simpletable\">\n",
       "<caption>OLS Regression Results</caption>\n",
       "<tr>\n",
       "  <th>Dep. Variable:</th>            <td>y</td>        <th>  R-squared:         </th> <td>   0.903</td> \n",
       "</tr>\n",
       "<tr>\n",
       "  <th>Model:</th>                   <td>OLS</td>       <th>  Adj. R-squared:    </th> <td>   0.903</td> \n",
       "</tr>\n",
       "<tr>\n",
       "  <th>Method:</th>             <td>Least Squares</td>  <th>  F-statistic:       </th> <td>   4095.</td> \n",
       "</tr>\n",
       "<tr>\n",
       "  <th>Date:</th>             <td>Fri, 07 Oct 2022</td> <th>  Prob (F-statistic):</th> <td>2.14e-224</td>\n",
       "</tr>\n",
       "<tr>\n",
       "  <th>Time:</th>                 <td>11:08:01</td>     <th>  Log-Likelihood:    </th> <td> -3405.2</td> \n",
       "</tr>\n",
       "<tr>\n",
       "  <th>No. Observations:</th>      <td>   440</td>      <th>  AIC:               </th> <td>   6814.</td> \n",
       "</tr>\n",
       "<tr>\n",
       "  <th>Df Residuals:</th>          <td>   438</td>      <th>  BIC:               </th> <td>   6823.</td> \n",
       "</tr>\n",
       "<tr>\n",
       "  <th>Df Model:</th>              <td>     1</td>      <th>                     </th>     <td> </td>    \n",
       "</tr>\n",
       "<tr>\n",
       "  <th>Covariance Type:</th>      <td>nonrobust</td>    <th>                     </th>     <td> </td>    \n",
       "</tr>\n",
       "</table>\n",
       "<table class=\"simpletable\">\n",
       "<tr>\n",
       "      <td></td>         <th>coef</th>     <th>std err</th>      <th>t</th>      <th>P>|t|</th>  <th>[0.025</th>    <th>0.975]</th>  \n",
       "</tr>\n",
       "<tr>\n",
       "  <th>Intercept</th> <td>  -95.9322</td> <td>   31.494</td> <td>   -3.046</td> <td> 0.002</td> <td> -157.830</td> <td>  -34.034</td>\n",
       "</tr>\n",
       "<tr>\n",
       "  <th>x2</th>        <td>    0.7431</td> <td>    0.012</td> <td>   63.995</td> <td> 0.000</td> <td>    0.720</td> <td>    0.766</td>\n",
       "</tr>\n",
       "</table>\n",
       "<table class=\"simpletable\">\n",
       "<tr>\n",
       "  <th>Omnibus:</th>       <td>193.985</td> <th>  Durbin-Watson:     </th> <td>   2.028</td>\n",
       "</tr>\n",
       "<tr>\n",
       "  <th>Prob(Omnibus):</th> <td> 0.000</td>  <th>  Jarque-Bera (JB):  </th> <td>2549.058</td>\n",
       "</tr>\n",
       "<tr>\n",
       "  <th>Skew:</th>          <td> 1.524</td>  <th>  Prob(JB):          </th> <td>    0.00</td>\n",
       "</tr>\n",
       "<tr>\n",
       "  <th>Kurtosis:</th>      <td>14.391</td>  <th>  Cond. No.          </th> <td>3.22e+03</td>\n",
       "</tr>\n",
       "</table><br/><br/>Notes:<br/>[1] Standard Errors assume that the covariance matrix of the errors is correctly specified.<br/>[2] The condition number is large, 3.22e+03. This might indicate that there are<br/>strong multicollinearity or other numerical problems."
      ],
      "text/plain": [
       "<class 'statsmodels.iolib.summary.Summary'>\n",
       "\"\"\"\n",
       "                            OLS Regression Results                            \n",
       "==============================================================================\n",
       "Dep. Variable:                      y   R-squared:                       0.903\n",
       "Model:                            OLS   Adj. R-squared:                  0.903\n",
       "Method:                 Least Squares   F-statistic:                     4095.\n",
       "Date:                Fri, 07 Oct 2022   Prob (F-statistic):          2.14e-224\n",
       "Time:                        11:08:01   Log-Likelihood:                -3405.2\n",
       "No. Observations:                 440   AIC:                             6814.\n",
       "Df Residuals:                     438   BIC:                             6823.\n",
       "Df Model:                           1                                         \n",
       "Covariance Type:            nonrobust                                         \n",
       "==============================================================================\n",
       "                 coef    std err          t      P>|t|      [0.025      0.975]\n",
       "------------------------------------------------------------------------------\n",
       "Intercept    -95.9322     31.494     -3.046      0.002    -157.830     -34.034\n",
       "x2             0.7431      0.012     63.995      0.000       0.720       0.766\n",
       "==============================================================================\n",
       "Omnibus:                      193.985   Durbin-Watson:                   2.028\n",
       "Prob(Omnibus):                  0.000   Jarque-Bera (JB):             2549.058\n",
       "Skew:                           1.524   Prob(JB):                         0.00\n",
       "Kurtosis:                      14.391   Cond. No.                     3.22e+03\n",
       "==============================================================================\n",
       "\n",
       "Notes:\n",
       "[1] Standard Errors assume that the covariance matrix of the errors is correctly specified.\n",
       "[2] The condition number is large, 3.22e+03. This might indicate that there are\n",
       "strong multicollinearity or other numerical problems.\n",
       "\"\"\""
      ]
     },
     "execution_count": 13,
     "metadata": {},
     "output_type": "execute_result"
    }
   ],
   "source": [
    "model_2 = smf.ols('y ~ x2', data=df)\n",
    "results_2 = model_2.fit()\n",
    "results_2.summary()"
   ]
  },
  {
   "cell_type": "code",
   "execution_count": 14,
   "id": "2be061ad",
   "metadata": {
    "scrolled": true
   },
   "outputs": [
    {
     "name": "stdout",
     "output_type": "stream",
     "text": [
      "6.639311322942376e-11\n",
      "135864044.99064988\n",
      "135864044.99064988\n"
     ]
    }
   ],
   "source": [
    "n2= len(x2)\n",
    "y_hat_2 = b0_x2 + b1_x2*x2\n",
    "resid_2 = y - y_hat_2\n",
    "print(np.sum(resid_2))\n",
    "print((np.sum((resid_2 - np.mean(resid_2))**2)))\n",
    "print(np.var(resid_2, ddof=1)*(n2-1))"
   ]
  },
  {
   "cell_type": "code",
   "execution_count": 15,
   "id": "46c9db49",
   "metadata": {
    "scrolled": true
   },
   "outputs": [
    {
     "name": "stdout",
     "output_type": "stream",
     "text": [
      "310191.8835402965 135864044.99064988\n"
     ]
    },
    {
     "data": {
      "text/plain": [
       "556.9487261322146"
      ]
     },
     "execution_count": 15,
     "metadata": {},
     "output_type": "execute_result"
    }
   ],
   "source": [
    "SSE_2 = np.sum((y - y_hat_2)**2)\n",
    "MSE_2 = SSE_2 / (n2-2)\n",
    "print(MSE_2, SSE_2)\n",
    "resid_dev_2 = np.sqrt(MSE_2)\n",
    "resid_dev_2"
   ]
  },
  {
   "cell_type": "code",
   "execution_count": 16,
   "id": "81703aba",
   "metadata": {},
   "outputs": [
    {
     "data": {
      "text/html": [
       "<table class=\"simpletable\">\n",
       "<caption>OLS Regression Results</caption>\n",
       "<tr>\n",
       "  <th>Dep. Variable:</th>            <td>y</td>        <th>  R-squared:         </th> <td>   0.899</td> \n",
       "</tr>\n",
       "<tr>\n",
       "  <th>Model:</th>                   <td>OLS</td>       <th>  Adj. R-squared:    </th> <td>   0.899</td> \n",
       "</tr>\n",
       "<tr>\n",
       "  <th>Method:</th>             <td>Least Squares</td>  <th>  F-statistic:       </th> <td>   3895.</td> \n",
       "</tr>\n",
       "<tr>\n",
       "  <th>Date:</th>             <td>Fri, 07 Oct 2022</td> <th>  Prob (F-statistic):</th> <td>4.28e-220</td>\n",
       "</tr>\n",
       "<tr>\n",
       "  <th>Time:</th>                 <td>11:08:01</td>     <th>  Log-Likelihood:    </th> <td> -3415.2</td> \n",
       "</tr>\n",
       "<tr>\n",
       "  <th>No. Observations:</th>      <td>   440</td>      <th>  AIC:               </th> <td>   6834.</td> \n",
       "</tr>\n",
       "<tr>\n",
       "  <th>Df Residuals:</th>          <td>   438</td>      <th>  BIC:               </th> <td>   6843.</td> \n",
       "</tr>\n",
       "<tr>\n",
       "  <th>Df Model:</th>              <td>     1</td>      <th>                     </th>     <td> </td>    \n",
       "</tr>\n",
       "<tr>\n",
       "  <th>Covariance Type:</th>      <td>nonrobust</td>    <th>                     </th>     <td> </td>    \n",
       "</tr>\n",
       "</table>\n",
       "<table class=\"simpletable\">\n",
       "<tr>\n",
       "      <td></td>         <th>coef</th>     <th>std err</th>      <th>t</th>      <th>P>|t|</th>  <th>[0.025</th>    <th>0.975]</th>  \n",
       "</tr>\n",
       "<tr>\n",
       "  <th>Intercept</th> <td>  -48.3948</td> <td>   31.833</td> <td>   -1.520</td> <td> 0.129</td> <td> -110.960</td> <td>   14.170</td>\n",
       "</tr>\n",
       "<tr>\n",
       "  <th>x3</th>        <td>    0.1317</td> <td>    0.002</td> <td>   62.409</td> <td> 0.000</td> <td>    0.128</td> <td>    0.136</td>\n",
       "</tr>\n",
       "</table>\n",
       "<table class=\"simpletable\">\n",
       "<tr>\n",
       "  <th>Omnibus:</th>       <td>285.860</td> <th>  Durbin-Watson:     </th> <td>   2.139</td>\n",
       "</tr>\n",
       "<tr>\n",
       "  <th>Prob(Omnibus):</th> <td> 0.000</td>  <th>  Jarque-Bera (JB):  </th> <td>4009.832</td>\n",
       "</tr>\n",
       "<tr>\n",
       "  <th>Skew:</th>          <td> 2.571</td>  <th>  Prob(JB):          </th> <td>    0.00</td>\n",
       "</tr>\n",
       "<tr>\n",
       "  <th>Kurtosis:</th>      <td>16.866</td>  <th>  Cond. No.          </th> <td>1.77e+04</td>\n",
       "</tr>\n",
       "</table><br/><br/>Notes:<br/>[1] Standard Errors assume that the covariance matrix of the errors is correctly specified.<br/>[2] The condition number is large, 1.77e+04. This might indicate that there are<br/>strong multicollinearity or other numerical problems."
      ],
      "text/plain": [
       "<class 'statsmodels.iolib.summary.Summary'>\n",
       "\"\"\"\n",
       "                            OLS Regression Results                            \n",
       "==============================================================================\n",
       "Dep. Variable:                      y   R-squared:                       0.899\n",
       "Model:                            OLS   Adj. R-squared:                  0.899\n",
       "Method:                 Least Squares   F-statistic:                     3895.\n",
       "Date:                Fri, 07 Oct 2022   Prob (F-statistic):          4.28e-220\n",
       "Time:                        11:08:01   Log-Likelihood:                -3415.2\n",
       "No. Observations:                 440   AIC:                             6834.\n",
       "Df Residuals:                     438   BIC:                             6843.\n",
       "Df Model:                           1                                         \n",
       "Covariance Type:            nonrobust                                         \n",
       "==============================================================================\n",
       "                 coef    std err          t      P>|t|      [0.025      0.975]\n",
       "------------------------------------------------------------------------------\n",
       "Intercept    -48.3948     31.833     -1.520      0.129    -110.960      14.170\n",
       "x3             0.1317      0.002     62.409      0.000       0.128       0.136\n",
       "==============================================================================\n",
       "Omnibus:                      285.860   Durbin-Watson:                   2.139\n",
       "Prob(Omnibus):                  0.000   Jarque-Bera (JB):             4009.832\n",
       "Skew:                           2.571   Prob(JB):                         0.00\n",
       "Kurtosis:                      16.866   Cond. No.                     1.77e+04\n",
       "==============================================================================\n",
       "\n",
       "Notes:\n",
       "[1] Standard Errors assume that the covariance matrix of the errors is correctly specified.\n",
       "[2] The condition number is large, 1.77e+04. This might indicate that there are\n",
       "strong multicollinearity or other numerical problems.\n",
       "\"\"\""
      ]
     },
     "execution_count": 16,
     "metadata": {},
     "output_type": "execute_result"
    }
   ],
   "source": [
    "model_3 = smf.ols('y ~ x3', data=df)\n",
    "results_3 = model_3.fit()\n",
    "results_3.summary()"
   ]
  },
  {
   "cell_type": "code",
   "execution_count": 17,
   "id": "e02542d6",
   "metadata": {},
   "outputs": [
    {
     "name": "stdout",
     "output_type": "stream",
     "text": [
      "3.001332515850663e-11\n",
      "142148254.43029362\n",
      "142148254.43029377\n"
     ]
    }
   ],
   "source": [
    "n3= len(x3)\n",
    "y_hat_3 = b0_x3 + b1_x3*x3\n",
    "resid_3 = y - y_hat_3\n",
    "print(np.sum(resid_3))\n",
    "print((np.sum((resid_3 - np.mean(resid_3))**2)))\n",
    "print(np.var(resid_3, ddof=1)*(n3-1))"
   ]
  },
  {
   "cell_type": "code",
   "execution_count": 18,
   "id": "c5d14b6e",
   "metadata": {},
   "outputs": [
    {
     "name": "stdout",
     "output_type": "stream",
     "text": [
      "324539.39367646945 142148254.43029362\n"
     ]
    },
    {
     "data": {
      "text/plain": [
       "569.6835908436099"
      ]
     },
     "execution_count": 18,
     "metadata": {},
     "output_type": "execute_result"
    }
   ],
   "source": [
    "SSE_3 = np.sum((y - y_hat_3)**2)\n",
    "MSE_3 = SSE_3 / (n3-2)\n",
    "print(MSE_3, SSE_3)\n",
    "resid_dev_3 = np.sqrt(MSE_3)\n",
    "resid_dev_3"
   ]
  },
  {
   "cell_type": "markdown",
   "id": "dfb35b0a",
   "metadata": {},
   "source": [
    "- MSE_1= 372203.5049168835\n",
    "- SSE_1= 163025135.15359497\n",
    "- MSE_2= 310191.8835402965\n",
    "- SSE_2= 135864044.99064988\n",
    "- MSE_3= 324539.39367646945\n",
    "- SSE_3= 142148254.43029362"
   ]
  },
  {
   "cell_type": "markdown",
   "id": "11b93902",
   "metadata": {},
   "source": [
    "Hence: MSE of model (X2, Y) is the smallest, so the fitted regression line is the line( X2,Y)"
   ]
  },
  {
   "cell_type": "markdown",
   "id": "2acbe7cf",
   "metadata": {},
   "source": [
    "# Homework LAB_1"
   ]
  },
  {
   "cell_type": "markdown",
   "id": "46b0b013",
   "metadata": {},
   "source": [
    "### 4."
   ]
  },
  {
   "cell_type": "code",
   "execution_count": 26,
   "id": "ab96a265",
   "metadata": {},
   "outputs": [
    {
     "name": "stdout",
     "output_type": "stream",
     "text": [
      "1937283386.178249\n",
      "1923164082.8258522\n",
      "1878814510.671821\n"
     ]
    }
   ],
   "source": [
    "SSTO_1 = np.sum((y - b0_x1)**2)\n",
    "print(SSTO_1)\n",
    "SSTO_2 = np.sum((y - b0_x2)**2)\n",
    "print(SSTO_2)\n",
    "SSTO_3 = np.sum((y - b0_x3)**2)\n",
    "print(SSTO_3)"
   ]
  },
  {
   "cell_type": "code",
   "execution_count": 36,
   "id": "1565aea6",
   "metadata": {},
   "outputs": [
    {
     "name": "stdout",
     "output_type": "stream",
     "text": [
      "0.9158485865740063 \n",
      " 0.9293538985030261 \n",
      " 0.9243415176842207\n"
     ]
    }
   ],
   "source": [
    "R2_1= 1 - SSE_1/SSTO_1\n",
    "R2_2= 1 - SSE_2/SSTO_2\n",
    "R2_3= 1 - SSE_3/SSTO_3\n",
    "print(R2_1,'\\n',R2_2,'\\n',R2_3)"
   ]
  },
  {
   "cell_type": "markdown",
   "id": "813a2094",
   "metadata": {},
   "source": [
    "* The variation in the number of active physicians is reduced by 91.6% when total population is considered.\n",
    "* The variation in the number of active physicians is reduced by 92.9% when number of hospital beds is considered.\n",
    "* The variation in the number of active physicians is reduced by 92.4% when total person income is considered.\n",
    "#####  Thus: By using coefficient of determination R^2 as the criterion, the number of hospital beds accounts for the largest reduction in the variability in the number of active physicians."
   ]
  },
  {
   "cell_type": "markdown",
   "id": "f3e3a902",
   "metadata": {},
   "source": [
    "### 5."
   ]
  },
  {
   "cell_type": "code",
   "execution_count": 37,
   "id": "e2b7db03",
   "metadata": {},
   "outputs": [],
   "source": [
    "# 90 percent confidence coefficient in each case. \n",
    "alpha = 0.1"
   ]
  },
  {
   "cell_type": "markdown",
   "id": "a5f26309",
   "metadata": {},
   "source": [
    "###### Case 1:"
   ]
  },
  {
   "cell_type": "code",
   "execution_count": 38,
   "id": "21c77b27",
   "metadata": {},
   "outputs": [
    {
     "data": {
      "text/plain": [
       "4.8369416072151935e-05"
      ]
     },
     "execution_count": 38,
     "metadata": {},
     "output_type": "execute_result"
    }
   ],
   "source": [
    "s2_b1_x1 = MSE_1/ np.sum(x1_err**2)\n",
    "s_b1_x1 = np.sqrt(s2_b1_x1)\n",
    "s_b1_x1"
   ]
  },
  {
   "cell_type": "code",
   "execution_count": 39,
   "id": "0504253c",
   "metadata": {},
   "outputs": [
    {
     "data": {
      "text/plain": [
       "1.6483399665616618"
      ]
     },
     "execution_count": 39,
     "metadata": {},
     "output_type": "execute_result"
    }
   ],
   "source": [
    "t_x1 = stats.t.ppf(q = 1 - alpha/2,df = len(x1)-2)\n",
    "t_x1"
   ]
  },
  {
   "cell_type": "code",
   "execution_count": 40,
   "id": "ddcd3999",
   "metadata": {
    "scrolled": true
   },
   "outputs": [
    {
     "name": "stdout",
     "output_type": "stream",
     "text": [
      "0.0027156956366879165 0.0028751541200298728\n"
     ]
    }
   ],
   "source": [
    "L1 = b1_x1 - t_x1 * s_b1_x1\n",
    "U1 = b1_x1 + t_x1 * s_b1_x1\n",
    "print(L1,U1)"
   ]
  },
  {
   "cell_type": "markdown",
   "id": "adbedb3d",
   "metadata": {},
   "source": [
    "* With confident coefficient .90, we estimate that mean number of active physicians increase by somewhere between 0.00271 and 0.00287 for each additional person in the total population."
   ]
  },
  {
   "cell_type": "markdown",
   "id": "fff612e5",
   "metadata": {},
   "source": [
    "###### Case 2:"
   ]
  },
  {
   "cell_type": "code",
   "execution_count": 41,
   "id": "3e35b8d8",
   "metadata": {},
   "outputs": [
    {
     "data": {
      "text/plain": [
       "0.011612125334784671"
      ]
     },
     "execution_count": 41,
     "metadata": {},
     "output_type": "execute_result"
    }
   ],
   "source": [
    "s2_b1_x2 = MSE_2/ np.sum(x2_err**2)\n",
    "s_b1_x2 = np.sqrt(s2_b1_x2)\n",
    "s_b1_x2"
   ]
  },
  {
   "cell_type": "code",
   "execution_count": 42,
   "id": "daabaabb",
   "metadata": {},
   "outputs": [
    {
     "data": {
      "text/plain": [
       "1.6483399665616618"
      ]
     },
     "execution_count": 42,
     "metadata": {},
     "output_type": "execute_result"
    }
   ],
   "source": [
    "t_x2 = stats.t.ppf(q = 1 - alpha/2,df = len(x2)-2)\n",
    "t_x2"
   ]
  },
  {
   "cell_type": "code",
   "execution_count": 48,
   "id": "00831e81",
   "metadata": {},
   "outputs": [
    {
     "name": "stdout",
     "output_type": "stream",
     "text": [
      "0.7239757137014157 0.7622571742735132\n"
     ]
    }
   ],
   "source": [
    "L2 = b1_x2 - t_x2 * s_b1_x2\n",
    "U2 = b1_x2 + t_x2 * s_b1_x2\n",
    "print(L2,U2)"
   ]
  },
  {
   "cell_type": "markdown",
   "id": "797bec5d",
   "metadata": {},
   "source": [
    "* With confident coefficient .90, we estimate that mean number of active physicians increase by somewhere between 0.72397 and 0.76225 for each additional bed in the number of hospital beds."
   ]
  },
  {
   "cell_type": "markdown",
   "id": "e54867c3",
   "metadata": {},
   "source": [
    "###### Case 3:"
   ]
  },
  {
   "cell_type": "code",
   "execution_count": 45,
   "id": "7802bff3",
   "metadata": {},
   "outputs": [
    {
     "data": {
      "text/plain": [
       "0.002110279102147496"
      ]
     },
     "execution_count": 45,
     "metadata": {},
     "output_type": "execute_result"
    }
   ],
   "source": [
    "s2_b1_x3 = MSE_3/ np.sum(x3_err**2)\n",
    "s_b1_x3 = np.sqrt(s2_b1_x3)\n",
    "s_b1_x3"
   ]
  },
  {
   "cell_type": "code",
   "execution_count": 46,
   "id": "2768f4b9",
   "metadata": {},
   "outputs": [
    {
     "data": {
      "text/plain": [
       "1.6483399665616618"
      ]
     },
     "execution_count": 46,
     "metadata": {},
     "output_type": "execute_result"
    }
   ],
   "source": [
    "t_x3 = stats.t.ppf(q = 1 - alpha/2,df = len(x3)-2)\n",
    "t_x3"
   ]
  },
  {
   "cell_type": "code",
   "execution_count": 47,
   "id": "d66a01c5",
   "metadata": {},
   "outputs": [
    {
     "name": "stdout",
     "output_type": "stream",
     "text": [
      "0.12822273179898655 0.13517964656832568\n"
     ]
    }
   ],
   "source": [
    "L3 = b1_x3 - t_x3 * s_b1_x3\n",
    "U3 = b1_x3 + t_x3 * s_b1_x3\n",
    "print(L3,U3)"
   ]
  },
  {
   "cell_type": "markdown",
   "id": "0dee1852",
   "metadata": {},
   "source": [
    "* With confident coefficient .90, we estimate that mean number of active physicians increase by somewhere between 0.72397 and 0.76225 for each additional personal income in the total personal income."
   ]
  },
  {
   "cell_type": "markdown",
   "id": "917fe20a",
   "metadata": {},
   "source": [
    "### 6."
   ]
  },
  {
   "cell_type": "code",
   "execution_count": 49,
   "id": "23d3e4c6",
   "metadata": {
    "scrolled": true
   },
   "outputs": [
    {
     "data": {
      "image/png": "[encoded data removed]",
      "text/plain": [
       "<Figure size 432x288 with 1 Axes>"
      ]
     },
     "metadata": {
      "needs_background": "light"
     },
     "output_type": "display_data"
    }
   ],
   "source": [
    "sns.residplot(x=x1, y=y, data=df);"
   ]
  },
  {
   "cell_type": "code",
   "execution_count": 50,
   "id": "0d75c6d7",
   "metadata": {},
   "outputs": [
    {
     "data": {
      "image/png": "[encoded data removed]",
      "text/plain": [
       "<Figure size 432x288 with 1 Axes>"
      ]
     },
     "metadata": {
      "needs_background": "light"
     },
     "output_type": "display_data"
    }
   ],
   "source": [
    "sns.residplot(x=x2, y=y, data=df);"
   ]
  },
  {
   "cell_type": "code",
   "execution_count": 51,
   "id": "d5443e2c",
   "metadata": {},
   "outputs": [
    {
     "data": {
      "image/png": "[encoded data removed]",
      "text/plain": [
       "<Figure size 432x288 with 1 Axes>"
      ]
     },
     "metadata": {
      "needs_background": "light"
     },
     "output_type": "display_data"
    }
   ],
   "source": [
    "sns.residplot(x=x3, y=y, data=df);"
   ]
  },
  {
   "cell_type": "markdown",
   "id": "a3ea54e2",
   "metadata": {},
   "source": [
    "* In summary, three plots exhibit the same trend. Nevertheless, the data points in graph 2 had the greatest tendency to surround the zero point among the three plots. Furthermore, normal linear regression are strongly fitted than residual plots."
   ]
  },
  {
   "cell_type": "markdown",
   "id": "0bda143c",
   "metadata": {},
   "source": [
    "##### 7.\n",
    "* Yes,there are various outliers.\n",
    "* if we omit the outliers, they sometimes could negatively impact the model and could make the model change much."
   ]
  }
 ],
 "metadata": {
  "kernelspec": {
   "display_name": "Python 3 (ipykernel)",
   "language": "python",
   "name": "python3"
  },
  "language_info": {
   "codemirror_mode": {
    "name": "ipython",
    "version": 3
   },
   "file_extension": ".py",
   "mimetype": "text/x-python",
   "name": "python",
   "nbconvert_exporter": "python",
   "pygments_lexer": "ipython3",
   "version": "3.9.12"
  }
 },
 "nbformat": 4,
 "nbformat_minor": 5
}
