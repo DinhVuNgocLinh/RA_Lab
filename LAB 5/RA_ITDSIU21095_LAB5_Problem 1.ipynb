{
 "cells": [
  {
   "cell_type": "markdown",
   "id": "1af37053",
   "metadata": {},
   "source": [
    "## Problem 1"
   ]
  },
  {
   "cell_type": "markdown",
   "id": "63dd3ac7",
   "metadata": {},
   "source": [
    "### 7.3. Refer to Brand preference Problem 6.5.\n",
    "a. Obtain the analysis of variance table that decomposes the regression sum of squares into\n",
    "extra sums of squares associated with X1 and with X2, given X1.\n",
    "\n",
    "b. Test whether X2 can be dropped from the regression model given that X1 is retained. Use\n",
    "the F∗ test statistic and level of significance .01. State the alternatives, decision rule, and\n",
    "conclusion. What is the P-value of the test?"
   ]
  },
  {
   "cell_type": "code",
   "execution_count": 1,
   "id": "2372beed",
   "metadata": {},
   "outputs": [],
   "source": [
    "import pandas as pd, numpy as np"
   ]
  },
  {
   "cell_type": "code",
   "execution_count": 2,
   "id": "77d09d05",
   "metadata": {
    "scrolled": true
   },
   "outputs": [
    {
     "data": {
      "text/html": [
       "<div>\n",
       "<style scoped>\n",
       "    .dataframe tbody tr th:only-of-type {\n",
       "        vertical-align: middle;\n",
       "    }\n",
       "\n",
       "    .dataframe tbody tr th {\n",
       "        vertical-align: top;\n",
       "    }\n",
       "\n",
       "    .dataframe thead th {\n",
       "        text-align: right;\n",
       "    }\n",
       "</style>\n",
       "<table border=\"1\" class=\"dataframe\">\n",
       "  <thead>\n",
       "    <tr style=\"text-align: right;\">\n",
       "      <th></th>\n",
       "      <th>Y</th>\n",
       "      <th>X1</th>\n",
       "      <th>X2</th>\n",
       "    </tr>\n",
       "  </thead>\n",
       "  <tbody>\n",
       "    <tr>\n",
       "      <th>0</th>\n",
       "      <td>64.0</td>\n",
       "      <td>4.0</td>\n",
       "      <td>2.0</td>\n",
       "    </tr>\n",
       "    <tr>\n",
       "      <th>1</th>\n",
       "      <td>73.0</td>\n",
       "      <td>4.0</td>\n",
       "      <td>4.0</td>\n",
       "    </tr>\n",
       "    <tr>\n",
       "      <th>2</th>\n",
       "      <td>61.0</td>\n",
       "      <td>4.0</td>\n",
       "      <td>2.0</td>\n",
       "    </tr>\n",
       "    <tr>\n",
       "      <th>3</th>\n",
       "      <td>76.0</td>\n",
       "      <td>4.0</td>\n",
       "      <td>4.0</td>\n",
       "    </tr>\n",
       "    <tr>\n",
       "      <th>4</th>\n",
       "      <td>72.0</td>\n",
       "      <td>6.0</td>\n",
       "      <td>2.0</td>\n",
       "    </tr>\n",
       "  </tbody>\n",
       "</table>\n",
       "</div>"
      ],
      "text/plain": [
       "      Y   X1   X2\n",
       "0  64.0  4.0  2.0\n",
       "1  73.0  4.0  4.0\n",
       "2  61.0  4.0  2.0\n",
       "3  76.0  4.0  4.0\n",
       "4  72.0  6.0  2.0"
      ]
     },
     "execution_count": 2,
     "metadata": {},
     "output_type": "execute_result"
    }
   ],
   "source": [
    "df = pd.read_csv('CH06PR05.txt', sep = '\\s+', header =None, names=['Y','X1','X2'])\n",
    "df.head()"
   ]
  },
  {
   "cell_type": "code",
   "execution_count": 3,
   "id": "b4def7f2",
   "metadata": {},
   "outputs": [],
   "source": [
    "x1= df['X1']\n",
    "x2= df['X2']\n",
    "y= df['Y']"
   ]
  },
  {
   "cell_type": "markdown",
   "id": "f4927bd6",
   "metadata": {},
   "source": [
    "### a. Obtain the analysis of variance table that decomposes the regression sum of squares into extra sums of squares associated with X1 and with X2, given X1."
   ]
  },
  {
   "cell_type": "markdown",
   "id": "df006607",
   "metadata": {},
   "source": [
    "#### Regression of Y on X1"
   ]
  },
  {
   "cell_type": "code",
   "execution_count": 4,
   "id": "55c7ca9b",
   "metadata": {
    "scrolled": true
   },
   "outputs": [],
   "source": [
    "import statsmodels.api as sm\n",
    "import statsmodels.formula.api as smf\n",
    "model1 = smf.ols('y ~ x1', data=df)\n",
    "results1 = model1.fit()"
   ]
  },
  {
   "cell_type": "code",
   "execution_count": 5,
   "id": "4650f31b",
   "metadata": {},
   "outputs": [],
   "source": [
    "sse1 = np.sum((results1.fittedvalues - df.Y)**2)\n",
    "ssr1 = np.sum((results1.fittedvalues - df.Y.mean())**2)"
   ]
  },
  {
   "cell_type": "markdown",
   "id": "636a0343",
   "metadata": {},
   "source": [
    "#### Regression of Y on X2"
   ]
  },
  {
   "cell_type": "code",
   "execution_count": 6,
   "id": "2017200a",
   "metadata": {},
   "outputs": [],
   "source": [
    "import statsmodels.api as sm\n",
    "import statsmodels.formula.api as smf\n",
    "model2 = smf.ols('y ~ x2', data=df)\n",
    "results2 = model2.fit()"
   ]
  },
  {
   "cell_type": "code",
   "execution_count": 7,
   "id": "fa0462e6",
   "metadata": {},
   "outputs": [],
   "source": [
    "sse2 = np.sum((results2.fittedvalues - df.Y)**2)\n",
    "ssr2 = np.sum((results2.fittedvalues - df.Y.mean())**2)"
   ]
  },
  {
   "cell_type": "markdown",
   "id": "51382fa7",
   "metadata": {},
   "source": [
    "#### Regression of Y on X1 and X2"
   ]
  },
  {
   "cell_type": "code",
   "execution_count": 8,
   "id": "716dcd4c",
   "metadata": {},
   "outputs": [],
   "source": [
    "import statsmodels.api as sm\n",
    "import statsmodels.formula.api as smf\n",
    "model3 = smf.ols('y ~ x1+x2', data=df)\n",
    "results3 = model3.fit()"
   ]
  },
  {
   "cell_type": "code",
   "execution_count": 9,
   "id": "dcbc50bf",
   "metadata": {},
   "outputs": [],
   "source": [
    "sse12 = np.sum((results3.fittedvalues - df.Y)**2)\n",
    "ssr12 = np.sum((results3.fittedvalues - df.Y.mean())**2)"
   ]
  },
  {
   "cell_type": "code",
   "execution_count": 10,
   "id": "cd97313b",
   "metadata": {},
   "outputs": [
    {
     "name": "stdout",
     "output_type": "stream",
     "text": [
      "SSR(X1|X2)= 1566.45\n"
     ]
    }
   ],
   "source": [
    "ssrX1_X2 = sse2 - sse12\n",
    "print('SSR(X1|X2)=',ssrX1_X2)"
   ]
  },
  {
   "cell_type": "markdown",
   "id": "7fa893c7",
   "metadata": {},
   "source": [
    "**The extra sum of squares SSR(X1|X2) is 1566.45**"
   ]
  },
  {
   "cell_type": "markdown",
   "id": "19d25ae0",
   "metadata": {},
   "source": [
    "### b. Test whether X2 can be dropped from the regression model given that X1 is retained. Use the F∗ test statistic and level of significance .01. State the alternatives, decision rule, and conclusion. What is the P-value of the test?"
   ]
  },
  {
   "cell_type": "markdown",
   "id": "5c11f0a6",
   "metadata": {},
   "source": [
    "#### The alternatives\n",
    "* H0: β2 = 0\n",
    "* Ha: β2 # 0\n",
    "\n",
    "#### The decision rule\n",
    "* If F∗ ≤ F(1−α; 1 , n-p), conclude H0\n",
    "* If F∗ > F(1−α; 1 , n-p), conclude Ha"
   ]
  },
  {
   "cell_type": "code",
   "execution_count": 11,
   "id": "b135eb83",
   "metadata": {},
   "outputs": [
    {
     "name": "stdout",
     "output_type": "stream",
     "text": [
      "SSR(X2|X1)= 306.2499999999984\n"
     ]
    }
   ],
   "source": [
    "ssrX2_X1 = ssr12 - ssr1\n",
    "print('SSR(X2|X1)=',ssrX2_X1)"
   ]
  },
  {
   "cell_type": "code",
   "execution_count": 12,
   "id": "f264a122",
   "metadata": {},
   "outputs": [
    {
     "name": "stdout",
     "output_type": "stream",
     "text": [
      "F*= 42.218981972428246\n"
     ]
    }
   ],
   "source": [
    "n = len(y)\n",
    "Fstar = (ssrX2_X1/1 / (sse12/(n-3)))\n",
    "print('F*=',Fstar)"
   ]
  },
  {
   "cell_type": "code",
   "execution_count": 13,
   "id": "ecc536f4",
   "metadata": {},
   "outputs": [
    {
     "data": {
      "text/plain": [
       "9.073805728515653"
      ]
     },
     "execution_count": 13,
     "metadata": {},
     "output_type": "execute_result"
    }
   ],
   "source": [
    "import scipy.stats as stats\n",
    "f = stats.f.ppf(q=1-0.01,dfn=1,dfd=n-3)\n",
    "f"
   ]
  },
  {
   "cell_type": "markdown",
   "id": "054ac796",
   "metadata": {},
   "source": [
    "**For α = 0.01, we have F = 9.07. Since F* = 42.2 > 9.07, we conclude Ha that X2 cannot be dropped from the regression model that already contains X1.**"
   ]
  },
  {
   "cell_type": "code",
   "execution_count": 14,
   "id": "a3e4e7fa",
   "metadata": {
    "scrolled": true
   },
   "outputs": [
    {
     "name": "stdout",
     "output_type": "stream",
     "text": [
      "p-value= 0.03576626606100286\n"
     ]
    }
   ],
   "source": [
    "p =1- stats.chi2.cdf(x=(ssrX2_X1/2) / ((sse12/n)**2),df=1)\n",
    "print('p-value=',p)"
   ]
  },
  {
   "cell_type": "markdown",
   "id": "fd63d0b6",
   "metadata": {},
   "source": [
    "**p- value = 0.03**"
   ]
  },
  {
   "cell_type": "markdown",
   "id": "bd7db0f4",
   "metadata": {},
   "source": [
    "### 7.12. Refer to Brand preference Problem 6.5.\n",
    "Calculate R^2 Y1, R^2 Y2, R^2 \n",
    "12, R^2 Y1|2, R^2 Y2|1, and R^2. Explain\n",
    "what each coefficient measures and interpret your results."
   ]
  },
  {
   "cell_type": "code",
   "execution_count": 15,
   "id": "af6d936b",
   "metadata": {},
   "outputs": [
    {
     "name": "stdout",
     "output_type": "stream",
     "text": [
      "R^2 Y1= 0.7963650228774783\n"
     ]
    }
   ],
   "source": [
    "sstoX1 = ssr1+sse1\n",
    "R2_1 = ssr1/sstoX1\n",
    "print('R^2 Y1=',R2_1)"
   ]
  },
  {
   "cell_type": "code",
   "execution_count": 16,
   "id": "722f32a1",
   "metadata": {
    "scrolled": true
   },
   "outputs": [
    {
     "name": "stdout",
     "output_type": "stream",
     "text": [
      "R^2 Y2= 0.1556939501779355\n"
     ]
    }
   ],
   "source": [
    "sstoX2 = ssr2+sse2\n",
    "R2_2 = ssr2/sstoX2\n",
    "print('R^2 Y2=',R2_2)"
   ]
  },
  {
   "cell_type": "code",
   "execution_count": 17,
   "id": "b2a84164",
   "metadata": {},
   "outputs": [
    {
     "name": "stdout",
     "output_type": "stream",
     "text": [
      "R^2 12= 0.9520589730554143\n"
     ]
    }
   ],
   "source": [
    "ssto12 = ssr12+sse12\n",
    "R2_12 = ssr12/ssto12\n",
    "print('R^2 12=',R2_12)"
   ]
  },
  {
   "cell_type": "code",
   "execution_count": 18,
   "id": "7ba87f39",
   "metadata": {},
   "outputs": [
    {
     "name": "stdout",
     "output_type": "stream",
     "text": [
      "R^2 Y1|2= 0.9432184254102063\n"
     ]
    }
   ],
   "source": [
    "R2_1_2 = ssrX1_X2 / sse2\n",
    "print('R^2 Y1|2=',R2_1_2)"
   ]
  },
  {
   "cell_type": "code",
   "execution_count": 19,
   "id": "bf1cc2e1",
   "metadata": {},
   "outputs": [
    {
     "name": "stdout",
     "output_type": "stream",
     "text": [
      "R^2 Y2|1= 0.7645737111471687\n"
     ]
    }
   ],
   "source": [
    "R2_2_1 = ssrX2_X1 / sse1\n",
    "print('R^2 Y2|1=',R2_2_1)"
   ]
  },
  {
   "cell_type": "code",
   "execution_count": 20,
   "id": "d11c057a",
   "metadata": {},
   "outputs": [
    {
     "name": "stdout",
     "output_type": "stream",
     "text": [
      "R^2= 0.15569395017793553\n"
     ]
    }
   ],
   "source": [
    "R2 = 1 - (sse2/sstoX2)\n",
    "print('R^2=',R2)"
   ]
  },
  {
   "cell_type": "markdown",
   "id": "8999f140",
   "metadata": {},
   "source": [
    "* R^2 Y1= 0.796\n",
    "* R^2 Y2= 0.155\n",
    "* R^2 12= 0.952\n",
    "* R^2 Y1|2= 0.943\n",
    "* R^2 Y2|1= 0.764\n",
    "* R^2= 0.155"
   ]
  },
  {
   "cell_type": "markdown",
   "id": "9288fdaf",
   "metadata": {},
   "source": [
    "**R^2 Y1|2 : The error sum of squares for the model (SSE(X2)) containing X2 is reduced by 94.3 percent when X1 is added to the model**\n",
    "\n",
    "**R^2 Y2|1 : when X2 is added to the regression model containing X1 here, the error sum\n",
    "of squares SSE(X1) is reduced by 76.4 percent**"
   ]
  }
 ],
 "metadata": {
  "kernelspec": {
   "display_name": "Python 3 (ipykernel)",
   "language": "python",
   "name": "python3"
  },
  "language_info": {
   "codemirror_mode": {
    "name": "ipython",
    "version": 3
   },
   "file_extension": ".py",
   "mimetype": "text/x-python",
   "name": "python",
   "nbconvert_exporter": "python",
   "pygments_lexer": "ipython3",
   "version": "3.9.12"
  }
 },
 "nbformat": 4,
 "nbformat_minor": 5
}
