{
 "cells": [
  {
   "cell_type": "markdown",
   "id": "c091c9c9",
   "metadata": {},
   "source": [
    "# Problem 3:\n",
    "**(P7.38, textbook) Refer to the SENIC data set in Appendix C.1. For \n",
    "predicting the average length of stay of patients in a hospital (𝑌), it has been decided \n",
    "to include age (𝑋1) and infection risk (𝑋2) as predictor variables. The question now is \n",
    "whether an additional predictor variable would be helpful in the model and, if so, which variable would be most helpful. Assume that a first-order multiple regression \n",
    "model is appropriat**"
   ]
  },
  {
   "cell_type": "code",
   "execution_count": 1,
   "id": "7b47741a",
   "metadata": {},
   "outputs": [],
   "source": [
    "import pandas as pd, numpy as np\n",
    "import matplotlib.pyplot as plt\n",
    "import seaborn as sns"
   ]
  },
  {
   "cell_type": "code",
   "execution_count": 2,
   "id": "c81f8443",
   "metadata": {},
   "outputs": [
    {
     "data": {
      "text/html": [
       "<div>\n",
       "<style scoped>\n",
       "    .dataframe tbody tr th:only-of-type {\n",
       "        vertical-align: middle;\n",
       "    }\n",
       "\n",
       "    .dataframe tbody tr th {\n",
       "        vertical-align: top;\n",
       "    }\n",
       "\n",
       "    .dataframe thead th {\n",
       "        text-align: right;\n",
       "    }\n",
       "</style>\n",
       "<table border=\"1\" class=\"dataframe\">\n",
       "  <thead>\n",
       "    <tr style=\"text-align: right;\">\n",
       "      <th></th>\n",
       "      <th>0</th>\n",
       "      <th>1</th>\n",
       "      <th>2</th>\n",
       "      <th>3</th>\n",
       "      <th>4</th>\n",
       "      <th>5</th>\n",
       "      <th>6</th>\n",
       "      <th>7</th>\n",
       "      <th>8</th>\n",
       "      <th>9</th>\n",
       "      <th>10</th>\n",
       "      <th>11</th>\n",
       "    </tr>\n",
       "  </thead>\n",
       "  <tbody>\n",
       "    <tr>\n",
       "      <th>0</th>\n",
       "      <td>1</td>\n",
       "      <td>7.13</td>\n",
       "      <td>55.7</td>\n",
       "      <td>4.1</td>\n",
       "      <td>9.0</td>\n",
       "      <td>39.6</td>\n",
       "      <td>279</td>\n",
       "      <td>2</td>\n",
       "      <td>4</td>\n",
       "      <td>207</td>\n",
       "      <td>241</td>\n",
       "      <td>60.0</td>\n",
       "    </tr>\n",
       "    <tr>\n",
       "      <th>1</th>\n",
       "      <td>2</td>\n",
       "      <td>8.82</td>\n",
       "      <td>58.2</td>\n",
       "      <td>1.6</td>\n",
       "      <td>3.8</td>\n",
       "      <td>51.7</td>\n",
       "      <td>80</td>\n",
       "      <td>2</td>\n",
       "      <td>2</td>\n",
       "      <td>51</td>\n",
       "      <td>52</td>\n",
       "      <td>40.0</td>\n",
       "    </tr>\n",
       "    <tr>\n",
       "      <th>2</th>\n",
       "      <td>3</td>\n",
       "      <td>8.34</td>\n",
       "      <td>56.9</td>\n",
       "      <td>2.7</td>\n",
       "      <td>8.1</td>\n",
       "      <td>74.0</td>\n",
       "      <td>107</td>\n",
       "      <td>2</td>\n",
       "      <td>3</td>\n",
       "      <td>82</td>\n",
       "      <td>54</td>\n",
       "      <td>20.0</td>\n",
       "    </tr>\n",
       "    <tr>\n",
       "      <th>3</th>\n",
       "      <td>4</td>\n",
       "      <td>8.95</td>\n",
       "      <td>53.7</td>\n",
       "      <td>5.6</td>\n",
       "      <td>18.9</td>\n",
       "      <td>122.8</td>\n",
       "      <td>147</td>\n",
       "      <td>2</td>\n",
       "      <td>4</td>\n",
       "      <td>53</td>\n",
       "      <td>148</td>\n",
       "      <td>40.0</td>\n",
       "    </tr>\n",
       "    <tr>\n",
       "      <th>4</th>\n",
       "      <td>5</td>\n",
       "      <td>11.20</td>\n",
       "      <td>56.5</td>\n",
       "      <td>5.7</td>\n",
       "      <td>34.5</td>\n",
       "      <td>88.9</td>\n",
       "      <td>180</td>\n",
       "      <td>2</td>\n",
       "      <td>1</td>\n",
       "      <td>134</td>\n",
       "      <td>151</td>\n",
       "      <td>40.0</td>\n",
       "    </tr>\n",
       "  </tbody>\n",
       "</table>\n",
       "</div>"
      ],
      "text/plain": [
       "   0      1     2    3     4      5    6   7   8    9    10    11\n",
       "0   1   7.13  55.7  4.1   9.0   39.6  279   2   4  207  241  60.0\n",
       "1   2   8.82  58.2  1.6   3.8   51.7   80   2   2   51   52  40.0\n",
       "2   3   8.34  56.9  2.7   8.1   74.0  107   2   3   82   54  20.0\n",
       "3   4   8.95  53.7  5.6  18.9  122.8  147   2   4   53  148  40.0\n",
       "4   5  11.20  56.5  5.7  34.5   88.9  180   2   1  134  151  40.0"
      ]
     },
     "execution_count": 2,
     "metadata": {},
     "output_type": "execute_result"
    }
   ],
   "source": [
    "df1 = pd.read_csv('APPENC01.txt', sep = '\\s+', header =None)\n",
    "df1.head()"
   ]
  },
  {
   "cell_type": "code",
   "execution_count": 3,
   "id": "5bf3c043",
   "metadata": {},
   "outputs": [
    {
     "data": {
      "text/html": [
       "<div>\n",
       "<style scoped>\n",
       "    .dataframe tbody tr th:only-of-type {\n",
       "        vertical-align: middle;\n",
       "    }\n",
       "\n",
       "    .dataframe tbody tr th {\n",
       "        vertical-align: top;\n",
       "    }\n",
       "\n",
       "    .dataframe thead th {\n",
       "        text-align: right;\n",
       "    }\n",
       "</style>\n",
       "<table border=\"1\" class=\"dataframe\">\n",
       "  <thead>\n",
       "    <tr style=\"text-align: right;\">\n",
       "      <th></th>\n",
       "      <th>Y</th>\n",
       "      <th>X1</th>\n",
       "      <th>X2</th>\n",
       "      <th>X3</th>\n",
       "      <th>X4</th>\n",
       "      <th>X5</th>\n",
       "      <th>X6</th>\n",
       "    </tr>\n",
       "  </thead>\n",
       "  <tbody>\n",
       "    <tr>\n",
       "      <th>0</th>\n",
       "      <td>7.13</td>\n",
       "      <td>55.7</td>\n",
       "      <td>4.1</td>\n",
       "      <td>9.0</td>\n",
       "      <td>207</td>\n",
       "      <td>241</td>\n",
       "      <td>60.0</td>\n",
       "    </tr>\n",
       "    <tr>\n",
       "      <th>1</th>\n",
       "      <td>8.82</td>\n",
       "      <td>58.2</td>\n",
       "      <td>1.6</td>\n",
       "      <td>3.8</td>\n",
       "      <td>51</td>\n",
       "      <td>52</td>\n",
       "      <td>40.0</td>\n",
       "    </tr>\n",
       "    <tr>\n",
       "      <th>2</th>\n",
       "      <td>8.34</td>\n",
       "      <td>56.9</td>\n",
       "      <td>2.7</td>\n",
       "      <td>8.1</td>\n",
       "      <td>82</td>\n",
       "      <td>54</td>\n",
       "      <td>20.0</td>\n",
       "    </tr>\n",
       "    <tr>\n",
       "      <th>3</th>\n",
       "      <td>8.95</td>\n",
       "      <td>53.7</td>\n",
       "      <td>5.6</td>\n",
       "      <td>18.9</td>\n",
       "      <td>53</td>\n",
       "      <td>148</td>\n",
       "      <td>40.0</td>\n",
       "    </tr>\n",
       "    <tr>\n",
       "      <th>4</th>\n",
       "      <td>11.20</td>\n",
       "      <td>56.5</td>\n",
       "      <td>5.7</td>\n",
       "      <td>34.5</td>\n",
       "      <td>134</td>\n",
       "      <td>151</td>\n",
       "      <td>40.0</td>\n",
       "    </tr>\n",
       "  </tbody>\n",
       "</table>\n",
       "</div>"
      ],
      "text/plain": [
       "       Y    X1   X2    X3   X4   X5    X6\n",
       "0   7.13  55.7  4.1   9.0  207  241  60.0\n",
       "1   8.82  58.2  1.6   3.8   51   52  40.0\n",
       "2   8.34  56.9  2.7   8.1   82   54  20.0\n",
       "3   8.95  53.7  5.6  18.9   53  148  40.0\n",
       "4  11.20  56.5  5.7  34.5  134  151  40.0"
      ]
     },
     "execution_count": 3,
     "metadata": {},
     "output_type": "execute_result"
    }
   ],
   "source": [
    "y = df1[1]\n",
    "x1 = df1[2]\n",
    "x2 = df1[3]\n",
    "x3 = df1[4]\n",
    "x4 = df1[9]\n",
    "x5 = df1[10]\n",
    "x6 = df1[11]\n",
    "df = pd.DataFrame({'Y':y,'X1':x1,'X2':x2,'X3':x3,'X4':x4,'X5':x5,'X6':x6})\n",
    "df.head()"
   ]
  },
  {
   "cell_type": "code",
   "execution_count": 4,
   "id": "636d650c",
   "metadata": {},
   "outputs": [],
   "source": [
    "import statsmodels.api as sm\n",
    "import statsmodels.formula.api as smf\n",
    "model12 = smf.ols('y ~ x1+x2', data=df)\n",
    "results12 = model12.fit()\n",
    "sse12 = np.sum((results12.fittedvalues - df.Y)**2)\n",
    "ssr12 = np.sum((results12.fittedvalues - df.Y.mean())**2)"
   ]
  },
  {
   "cell_type": "code",
   "execution_count": 5,
   "id": "ecfbdd33",
   "metadata": {},
   "outputs": [],
   "source": [
    "import statsmodels.api as sm\n",
    "import statsmodels.formula.api as smf\n",
    "model123 = smf.ols('y ~ x1+x2+x3', data=df)\n",
    "results123 = model123.fit()\n",
    "sse123 = np.sum((results123.fittedvalues - df.Y)**2)\n",
    "ssr123 = np.sum((results123.fittedvalues - df.Y.mean())**2)"
   ]
  },
  {
   "cell_type": "code",
   "execution_count": 6,
   "id": "67f48a41",
   "metadata": {
    "scrolled": true
   },
   "outputs": [],
   "source": [
    "ssr3_12 = sse12 - sse123"
   ]
  },
  {
   "cell_type": "code",
   "execution_count": 7,
   "id": "eeaa29e6",
   "metadata": {},
   "outputs": [],
   "source": [
    "import statsmodels.api as sm\n",
    "import statsmodels.formula.api as smf\n",
    "model124 = smf.ols('y ~ x1+x2+x4', data=df)\n",
    "results124 = model124.fit()\n",
    "sse124 = np.sum((results124.fittedvalues - df.Y)**2)\n",
    "ssr124 = np.sum((results124.fittedvalues - df.Y.mean())**2)"
   ]
  },
  {
   "cell_type": "code",
   "execution_count": 8,
   "id": "52dd2bc4",
   "metadata": {},
   "outputs": [],
   "source": [
    "ssr4_12 = sse12 - sse124"
   ]
  },
  {
   "cell_type": "code",
   "execution_count": 9,
   "id": "e6f6d02a",
   "metadata": {},
   "outputs": [],
   "source": [
    "import statsmodels.api as sm\n",
    "import statsmodels.formula.api as smf\n",
    "model125 = smf.ols('y ~ x1+x2+x5', data=df)\n",
    "results125 = model125.fit()\n",
    "sse125 = np.sum((results125.fittedvalues - df.Y)**2)\n",
    "ssr125 = np.sum((results125.fittedvalues - df.Y.mean())**2)"
   ]
  },
  {
   "cell_type": "code",
   "execution_count": 10,
   "id": "4d0427c0",
   "metadata": {},
   "outputs": [],
   "source": [
    "ssr5_12 = sse12 - sse125"
   ]
  },
  {
   "cell_type": "code",
   "execution_count": 11,
   "id": "57d5186e",
   "metadata": {},
   "outputs": [],
   "source": [
    "import statsmodels.api as sm\n",
    "import statsmodels.formula.api as smf\n",
    "model126 = smf.ols('y ~ x1+x2+x6', data=df)\n",
    "results126 = model126.fit()\n",
    "sse126 = np.sum((results126.fittedvalues - df.Y)**2)\n",
    "ssr126 = np.sum((results126.fittedvalues - df.Y.mean())**2)"
   ]
  },
  {
   "cell_type": "code",
   "execution_count": 12,
   "id": "179664ec",
   "metadata": {},
   "outputs": [],
   "source": [
    "ssr6_12 = sse12 - sse126"
   ]
  },
  {
   "cell_type": "markdown",
   "id": "9f05b40a",
   "metadata": {},
   "source": [
    "### a. For each of the following variables, calculate the coefficient of partial determination given that 𝑋1 and 𝑋2 are included in the model: routine culturing ratio (𝑋3), average daily census (𝑋4), number of nurses (𝑋5), and available facilities and services (𝑋6).\n"
   ]
  },
  {
   "cell_type": "code",
   "execution_count": 13,
   "id": "9831fe63",
   "metadata": {},
   "outputs": [
    {
     "name": "stdout",
     "output_type": "stream",
     "text": [
      "0.011672927814615352\n"
     ]
    }
   ],
   "source": [
    "R3_12 = ssr3_12 / sse12\n",
    "print(R3_12)"
   ]
  },
  {
   "cell_type": "markdown",
   "id": "4be7e0a2",
   "metadata": {},
   "source": [
    "**R^2 Y3|12 : the error sum of squares for the model containing both X1 and X2 (SSE(X1,X2)) is only reduced by 1.16 percent when X3 is added to the model.**"
   ]
  },
  {
   "cell_type": "code",
   "execution_count": 14,
   "id": "2f514546",
   "metadata": {},
   "outputs": [
    {
     "name": "stdout",
     "output_type": "stream",
     "text": [
      "0.13620333847831456\n"
     ]
    }
   ],
   "source": [
    "R4_12 = ssr4_12 / sse12\n",
    "print(R4_12)"
   ]
  },
  {
   "cell_type": "markdown",
   "id": "a49fc500",
   "metadata": {},
   "source": [
    "**R^2 Y4|12 : when X4 is added to the regression model containing X1 and X2 here, the error sum of squares SSE(X1,X2) is reduced by 13.6 percent.**"
   ]
  },
  {
   "cell_type": "code",
   "execution_count": 15,
   "id": "886a348c",
   "metadata": {},
   "outputs": [
    {
     "name": "stdout",
     "output_type": "stream",
     "text": [
      "0.03736634595438007\n"
     ]
    }
   ],
   "source": [
    "R5_12 = ssr5_12 / sse12\n",
    "print(R5_12)"
   ]
  },
  {
   "cell_type": "markdown",
   "id": "b4b4e9e5",
   "metadata": {},
   "source": [
    "**R^2 Y5|12 : when X5 is added to the regression model containing X1 and X2 here, the error sum of squares SSE(X1,X2) is reduced by only 3.7 percent.**"
   ]
  },
  {
   "cell_type": "code",
   "execution_count": 16,
   "id": "06e6dfd3",
   "metadata": {},
   "outputs": [
    {
     "name": "stdout",
     "output_type": "stream",
     "text": [
      "0.03638879218961961\n"
     ]
    }
   ],
   "source": [
    "R6_12 = ssr6_12 / sse12\n",
    "print(R6_12)"
   ]
  },
  {
   "cell_type": "markdown",
   "id": "356c537e",
   "metadata": {},
   "source": [
    "**R^2 Y6|12 : the error sum of squares for the model containing both X1 and X2 (SSE(X1,X2)) is only reduced by 3.6 percent when X6 is added to the model.**"
   ]
  },
  {
   "cell_type": "markdown",
   "id": "f8daa002",
   "metadata": {},
   "source": [
    "### b. On the basis of the results in part (a), which of the four additional predictor variables is best? Is the extra sum of squares associated with this variable larger than those for the other three variables?"
   ]
  },
  {
   "cell_type": "markdown",
   "id": "40bd34ff",
   "metadata": {},
   "source": [
    "* **The additional predictor X4 (average daily census ) is the best because the error sum of squares for the model containing both X1 and X2 could be reduced by 13.6 percent when X4 is added to the model. Meanwhile, adding X3 the error sum of squares for the model containing both X1 and X2 could be only reduced by 1.16 percent, adding X5 it could be only reduced by 3.7 percent, and adding X6 it could be only reduced by 3.6 percent**"
   ]
  },
  {
   "cell_type": "code",
   "execution_count": 21,
   "id": "b1600c0f",
   "metadata": {},
   "outputs": [
    {
     "name": "stdout",
     "output_type": "stream",
     "text": [
      "SSR(X3|X1,X2)= 3.2479971689028844\n",
      "SSR(X4|X1,X2)= 37.89863732548616\n",
      "SSR(X5|X1,X2)= 10.397201781725528\n",
      "SSR(X6|X1,X2)= 10.125197027578338\n"
     ]
    }
   ],
   "source": [
    "print('SSR(X3|X1,X2)=',ssr3_12)\n",
    "print('SSR(X4|X1,X2)=',ssr4_12)\n",
    "print('SSR(X5|X1,X2)=',ssr5_12)\n",
    "print('SSR(X6|X1,X2)=',ssr6_12)"
   ]
  },
  {
   "cell_type": "markdown",
   "id": "7fd511ed",
   "metadata": {},
   "source": [
    "* **The extra sum of squares associated with X4 (SSR(X4|X1,X2) = 37.9) is larger than those for the other three variables: X3 (SSR(X3|X1,X2) = 3.2), X5 (SSR(X5|X1,X2)), X6 (SSR(X6|X1,X2))**"
   ]
  },
  {
   "cell_type": "markdown",
   "id": "922be0a6",
   "metadata": {},
   "source": [
    "### c. Using the 𝐹* test statistic, test whether or not the variable determined to be best in part (b) is helpful in the regression model when 𝑋1 and 𝑋2 are included in the model; use 𝛼 = .05. State the alternatives, decision rule, and conclusion. Would the 𝐹* test statistics for the other three potential predictor variables be as large as the one here? Discuss."
   ]
  },
  {
   "cell_type": "markdown",
   "id": "dce569ac",
   "metadata": {},
   "source": [
    "#### The alternatives\n",
    "* H0: β2 = 0\n",
    "* Ha: β2 # 0\n",
    "\n",
    "#### The decision rule\n",
    "* If F∗ ≤ F(1−α; 1 , n-p), conclude H0\n",
    "* If F∗ > F(1−α; 1 , n-p), conclude Ha"
   ]
  },
  {
   "cell_type": "code",
   "execution_count": 24,
   "id": "5b019c31",
   "metadata": {},
   "outputs": [
    {
     "name": "stdout",
     "output_type": "stream",
     "text": [
      "F*= 17.187104969800327\n",
      "F= 3.9281951303723233\n"
     ]
    }
   ],
   "source": [
    "n = len(y)\n",
    "p = 4\n",
    "Fstar = (ssr4_12/1 / (sse124/(n-p)))\n",
    "print('F*=',Fstar)\n",
    "import scipy.stats as stats\n",
    "f = stats.f.ppf(q=1-0.05,dfn=1,dfd=n-4)\n",
    "print('F=',f)"
   ]
  },
  {
   "cell_type": "markdown",
   "id": "bc6d582b",
   "metadata": {},
   "source": [
    "* **For α = 0.01, we have F = 3.9. Since F* = 17.2 > 3.9, we conclude Ha that X4 cannot be dropped from the regression model that already contains both X1 and X2. Means that the variable determined to be best in part (b) (X4) could be useful in the regression model when X1 and X2 are included in the model**"
   ]
  },
  {
   "cell_type": "code",
   "execution_count": 28,
   "id": "f20c769b",
   "metadata": {},
   "outputs": [
    {
     "name": "stdout",
     "output_type": "stream",
     "text": [
      "F*= 1.2873765857487445\n"
     ]
    }
   ],
   "source": [
    "n = len(y)\n",
    "p = 4\n",
    "Fstar = (ssr3_12/1 / (sse123/(n-p)))\n",
    "print('F*=',Fstar)"
   ]
  },
  {
   "cell_type": "code",
   "execution_count": 29,
   "id": "a90a1d18",
   "metadata": {},
   "outputs": [
    {
     "name": "stdout",
     "output_type": "stream",
     "text": [
      "F*= 4.231029833530429\n"
     ]
    }
   ],
   "source": [
    "n = len(y)\n",
    "p = 4\n",
    "Fstar = (ssr5_12/1 / (sse125/(n-p)))\n",
    "print('F*=',Fstar)"
   ]
  },
  {
   "cell_type": "code",
   "execution_count": 30,
   "id": "c63b1e04",
   "metadata": {},
   "outputs": [
    {
     "name": "stdout",
     "output_type": "stream",
     "text": [
      "F*= 4.116160456125622\n"
     ]
    }
   ],
   "source": [
    "n = len(y)\n",
    "p = 4\n",
    "Fstar = (ssr6_12/1 / (sse126/(n-p)))\n",
    "print('F*=',Fstar)"
   ]
  },
  {
   "cell_type": "markdown",
   "id": "b40f7591",
   "metadata": {},
   "source": [
    "* **The F* test statistics for the other three potential predictor variables (X3, X5, and X6) wouldn't be as large as the F* statistics for the potential predictor variables X4 because the extra sum of squares associated with X4 (SSR(X4|X1,X2) = 37.9) is larger than those for the other three variables: X3 (SSR(X3|X1,X2) = 3.2), X5 (SSR(X5|X1,X2)), X6 (SSR(X6|X1,X2))**"
   ]
  }
 ],
 "metadata": {
  "kernelspec": {
   "display_name": "Python 3 (ipykernel)",
   "language": "python",
   "name": "python3"
  },
  "language_info": {
   "codemirror_mode": {
    "name": "ipython",
    "version": 3
   },
   "file_extension": ".py",
   "mimetype": "text/x-python",
   "name": "python",
   "nbconvert_exporter": "python",
   "pygments_lexer": "ipython3",
   "version": "3.9.12"
  }
 },
 "nbformat": 4,
 "nbformat_minor": 5
}
