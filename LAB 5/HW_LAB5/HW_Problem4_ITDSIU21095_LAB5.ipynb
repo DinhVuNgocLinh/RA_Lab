{
 "cells": [
  {
   "cell_type": "markdown",
   "id": "ad9fb843",
   "metadata": {},
   "source": [
    "# Problem 4:\n",
    "**(P8.43, textbook) Refer to University admissions data set in Appendix \n",
    "C.4. The director of admissions at a state university wished to determine how \n",
    "accurately students’ grade-point averages at the end of their freshman year (𝑌) can be \n",
    "predicted from the entrance examination (ACT) test score (𝑋2); the high school class \n",
    "rank (𝑋1, a percentile where 99 indicates student is at or near the top of his or her \n",
    "class and 1 indicates student is at or near the bottom of the class); and the academic \n",
    "year (𝑋3). The academic year variable covers the years 1996 through 2000. Develop a \n",
    "prediction model for the director of admissions. Justify your choice of model. Assess \n",
    "your model’s ability to predict and discuss its use as a tool for admissions decisions.**"
   ]
  },
  {
   "cell_type": "code",
   "execution_count": 1,
   "id": "27484ab4",
   "metadata": {},
   "outputs": [],
   "source": [
    "import pandas as pd, numpy as np\n",
    "import matplotlib.pyplot as plt\n",
    "import seaborn as sns"
   ]
  },
  {
   "cell_type": "code",
   "execution_count": 5,
   "id": "a2e7f27c",
   "metadata": {},
   "outputs": [
    {
     "data": {
      "text/html": [
       "<div>\n",
       "<style scoped>\n",
       "    .dataframe tbody tr th:only-of-type {\n",
       "        vertical-align: middle;\n",
       "    }\n",
       "\n",
       "    .dataframe tbody tr th {\n",
       "        vertical-align: top;\n",
       "    }\n",
       "\n",
       "    .dataframe thead th {\n",
       "        text-align: right;\n",
       "    }\n",
       "</style>\n",
       "<table border=\"1\" class=\"dataframe\">\n",
       "  <thead>\n",
       "    <tr style=\"text-align: right;\">\n",
       "      <th></th>\n",
       "      <th>Y</th>\n",
       "      <th>X1</th>\n",
       "      <th>X2</th>\n",
       "      <th>X3</th>\n",
       "    </tr>\n",
       "  </thead>\n",
       "  <tbody>\n",
       "    <tr>\n",
       "      <th>1</th>\n",
       "      <td>0.98</td>\n",
       "      <td>61</td>\n",
       "      <td>20</td>\n",
       "      <td>1996</td>\n",
       "    </tr>\n",
       "    <tr>\n",
       "      <th>2</th>\n",
       "      <td>1.13</td>\n",
       "      <td>84</td>\n",
       "      <td>20</td>\n",
       "      <td>1996</td>\n",
       "    </tr>\n",
       "    <tr>\n",
       "      <th>3</th>\n",
       "      <td>1.25</td>\n",
       "      <td>74</td>\n",
       "      <td>19</td>\n",
       "      <td>1996</td>\n",
       "    </tr>\n",
       "    <tr>\n",
       "      <th>4</th>\n",
       "      <td>1.32</td>\n",
       "      <td>95</td>\n",
       "      <td>23</td>\n",
       "      <td>1996</td>\n",
       "    </tr>\n",
       "    <tr>\n",
       "      <th>5</th>\n",
       "      <td>1.48</td>\n",
       "      <td>77</td>\n",
       "      <td>28</td>\n",
       "      <td>1996</td>\n",
       "    </tr>\n",
       "  </tbody>\n",
       "</table>\n",
       "</div>"
      ],
      "text/plain": [
       "      Y  X1  X2    X3\n",
       "1  0.98  61  20  1996\n",
       "2  1.13  84  20  1996\n",
       "3  1.25  74  19  1996\n",
       "4  1.32  95  23  1996\n",
       "5  1.48  77  28  1996"
      ]
     },
     "execution_count": 5,
     "metadata": {},
     "output_type": "execute_result"
    }
   ],
   "source": [
    "df = pd.read_csv('APPENC04.txt', sep = '\\s+', header =None, names=['Y','X1','X2','X3'])\n",
    "df.head()"
   ]
  },
  {
   "cell_type": "code",
   "execution_count": 6,
   "id": "097aa239",
   "metadata": {},
   "outputs": [],
   "source": [
    "x1= df['X1']\n",
    "x2= df['X2']\n",
    "x3= df['X3']\n",
    "y= df['Y']"
   ]
  },
  {
   "cell_type": "markdown",
   "id": "f23b0b03",
   "metadata": {},
   "source": [
    "### Regression of Y on X1"
   ]
  },
  {
   "cell_type": "code",
   "execution_count": 41,
   "id": "bd6f9c2d",
   "metadata": {},
   "outputs": [
    {
     "name": "stdout",
     "output_type": "stream",
     "text": [
      "R^2 = 0.15878535706175279\n",
      "R^2a = 0.1575887501727936\n"
     ]
    }
   ],
   "source": [
    "import statsmodels.api as sm\n",
    "import statsmodels.formula.api as smf\n",
    "model1 = smf.ols('y ~ x1', data=df)\n",
    "results1 = model1.fit()\n",
    "sse1 = np.sum((results1.fittedvalues - df.Y)**2)\n",
    "ssr1 = np.sum((results1.fittedvalues - df.Y.mean())**2)\n",
    "sstoX1 = ssr1+sse1\n",
    "R2_X1 = ssr1/sstoX1\n",
    "print('R^2 =',R2_X1)\n",
    "n=len(y)\n",
    "p1=2\n",
    "R2a_X1 = 1 - (sse1/(n-p1))/(sstoX1/(n-1))\n",
    "print('R^2a =',R2a_X1)"
   ]
  },
  {
   "cell_type": "markdown",
   "id": "db85f594",
   "metadata": {},
   "source": [
    "### Regression of Y on X2"
   ]
  },
  {
   "cell_type": "code",
   "execution_count": 42,
   "id": "9442c033",
   "metadata": {},
   "outputs": [
    {
     "name": "stdout",
     "output_type": "stream",
     "text": [
      "R^2 = 0.1336711825899664\n",
      "R^2a = 0.13243885141299627\n"
     ]
    }
   ],
   "source": [
    "import statsmodels.api as sm\n",
    "import statsmodels.formula.api as smf\n",
    "model2 = smf.ols('y ~ x2', data=df)\n",
    "results2 = model2.fit()\n",
    "sse2 = np.sum((results2.fittedvalues - df.Y)**2)\n",
    "ssr2 = np.sum((results2.fittedvalues - df.Y.mean())**2)\n",
    "sstoX2 = ssr2+sse2\n",
    "R2_X2 = ssr2/sstoX2\n",
    "print('R^2 =',R2_X2)\n",
    "n=len(y)\n",
    "p1=2\n",
    "R2a_X2 = 1 - (sse2/(n-p1))/(sstoX2/(n-1))\n",
    "print('R^2a =',R2a_X2)"
   ]
  },
  {
   "cell_type": "markdown",
   "id": "5bbd5118",
   "metadata": {},
   "source": [
    "### Regression of Y on X3"
   ]
  },
  {
   "cell_type": "code",
   "execution_count": 43,
   "id": "76fb4fb2",
   "metadata": {
    "scrolled": true
   },
   "outputs": [
    {
     "name": "stdout",
     "output_type": "stream",
     "text": [
      "R^2 = 0.0005780151264460155\n",
      "R^2a = -0.0008436377681109164\n"
     ]
    }
   ],
   "source": [
    "import statsmodels.api as sm\n",
    "import statsmodels.formula.api as smf\n",
    "model3 = smf.ols('y ~ x3', data=df)\n",
    "results3 = model3.fit()\n",
    "sse3 = np.sum((results3.fittedvalues - df.Y)**2)\n",
    "ssr3 = np.sum((results3.fittedvalues - df.Y.mean())**2)\n",
    "sstoX3 = ssr3+sse3\n",
    "R2_X3 = ssr3/sstoX3\n",
    "print('R^2 =',R2_X3)\n",
    "n=len(y)\n",
    "p1=2\n",
    "R2a_X3 = 1 - (sse3/(n-p1))/(sstoX3/(n-1))\n",
    "print('R^2a =',R2a_X3)"
   ]
  },
  {
   "cell_type": "markdown",
   "id": "4fe24152",
   "metadata": {},
   "source": [
    "### Regression of Y on X1 and X2"
   ]
  },
  {
   "cell_type": "code",
   "execution_count": 44,
   "id": "4e15a050",
   "metadata": {},
   "outputs": [
    {
     "name": "stdout",
     "output_type": "stream",
     "text": [
      "R^2 = 0.2033362320191845\n",
      "R^2a = 0.20106653467450986\n"
     ]
    }
   ],
   "source": [
    "import statsmodels.api as sm\n",
    "import statsmodels.formula.api as smf\n",
    "model12 = smf.ols('y ~ x1+x2', data=df)\n",
    "results12 = model12.fit()\n",
    "sse12 = np.sum((results12.fittedvalues - df.Y)**2)\n",
    "ssr12 = np.sum((results12.fittedvalues - df.Y.mean())**2)\n",
    "ssto12 = ssr12+sse12\n",
    "R2_X1X2 = ssr12/ssto12\n",
    "print('R^2 =',R2_X1X2)\n",
    "n=len(y)\n",
    "p2=3\n",
    "R2a_X1X2 = 1 - (sse12/(n-p2))/(ssto12/(n-1))\n",
    "print('R^2a =',R2a_X1X2)"
   ]
  },
  {
   "cell_type": "markdown",
   "id": "953fb963",
   "metadata": {},
   "source": [
    "### Regression of Y on X1 and X3"
   ]
  },
  {
   "cell_type": "code",
   "execution_count": 45,
   "id": "3d3981bb",
   "metadata": {},
   "outputs": [
    {
     "name": "stdout",
     "output_type": "stream",
     "text": [
      "R^2 = 0.1596954462049164\n",
      "R^2a = 0.15730141613712412\n"
     ]
    }
   ],
   "source": [
    "import statsmodels.api as sm\n",
    "import statsmodels.formula.api as smf\n",
    "model13 = smf.ols('y ~ x1+x3', data=df)\n",
    "results13 = model13.fit()\n",
    "sse13 = np.sum((results13.fittedvalues - df.Y)**2)\n",
    "ssr13 = np.sum((results13.fittedvalues - df.Y.mean())**2)\n",
    "ssto13 = ssr13+sse13\n",
    "R2_X1X3 = ssr13/ssto13\n",
    "print('R^2 =',R2_X1X3)\n",
    "n=len(y)\n",
    "p2=3\n",
    "R2a_X1X3 = 1 - (sse13/(n-p2))/(ssto13/(n-1))\n",
    "print('R^2a =',R2a_X1X3)"
   ]
  },
  {
   "cell_type": "markdown",
   "id": "ef19041f",
   "metadata": {},
   "source": [
    "### Regression of Y on X2 and X3"
   ]
  },
  {
   "cell_type": "code",
   "execution_count": 46,
   "id": "d66a06e7",
   "metadata": {},
   "outputs": [
    {
     "name": "stdout",
     "output_type": "stream",
     "text": [
      "R^2 = 0.13401058637869417\n",
      "R^2a = 0.13154338007208088\n"
     ]
    }
   ],
   "source": [
    "import statsmodels.api as sm\n",
    "import statsmodels.formula.api as smf\n",
    "model23 = smf.ols('y ~ x2+x3', data=df)\n",
    "results23 = model23.fit()\n",
    "sse23 = np.sum((results23.fittedvalues - df.Y)**2)\n",
    "ssr23 = np.sum((results23.fittedvalues - df.Y.mean())**2)\n",
    "ssto23 = ssr23+sse23\n",
    "R2_X2X3 = ssr23/ssto23\n",
    "print('R^2 =',R2_X2X3)\n",
    "n=len(y)\n",
    "p2=3\n",
    "R2a_X2X3 = 1 - (sse23/(n-p2))/(ssto23/(n-1))\n",
    "print('R^2a =',R2a_X2X3)"
   ]
  },
  {
   "cell_type": "markdown",
   "id": "78b412d9",
   "metadata": {},
   "source": [
    "### Regression of Y on X1, X2 and X3"
   ]
  },
  {
   "cell_type": "code",
   "execution_count": 47,
   "id": "d92365cc",
   "metadata": {},
   "outputs": [
    {
     "name": "stdout",
     "output_type": "stream",
     "text": [
      "R^2 = 0.20395902134699967\n",
      "R^2a = 0.2005522839205247\n"
     ]
    }
   ],
   "source": [
    "import statsmodels.api as sm\n",
    "import statsmodels.formula.api as smf\n",
    "model123 = smf.ols('y ~ x1+x2+x3', data=df)\n",
    "results123 = model123.fit()\n",
    "sse123 = np.sum((results123.fittedvalues - df.Y)**2)\n",
    "ssr123 = np.sum((results123.fittedvalues - df.Y.mean())**2)\n",
    "ssto123 = ssr123+sse123\n",
    "R2_X1X2X3 = ssr123/ssto123\n",
    "print('R^2 =',R2_X1X2X3)\n",
    "n=len(y)\n",
    "p3=4\n",
    "R2a_X1X2X3 = 1 - (sse123/(n-p3))/(ssto123/(n-1))\n",
    "print('R^2a =',R2a_X1X2X3)"
   ]
  },
  {
   "cell_type": "markdown",
   "id": "2655370a",
   "metadata": {},
   "source": [
    "* Model X1: R^2a= 0.1575\n",
    "* Model X2: R^2a= 0.1324\n",
    "* Model X3: R^2a= 0.0008\n",
    "* Model X1&X2: R^2a= 0.201\n",
    "* Model X1&X3: R^2a= 0.1573\n",
    "* Model X2&X3: R^2a= 0.1315\n",
    "* Model X1&X2&X3: R^2a= 0.2005\n",
    "\n",
    "**We can see that the adjusting R^2 (R^2a) of model X1&X2 is highest means that this model is best fit among those model above**"
   ]
  }
 ],
 "metadata": {
  "kernelspec": {
   "display_name": "Python 3 (ipykernel)",
   "language": "python",
   "name": "python3"
  },
  "language_info": {
   "codemirror_mode": {
    "name": "ipython",
    "version": 3
   },
   "file_extension": ".py",
   "mimetype": "text/x-python",
   "name": "python",
   "nbconvert_exporter": "python",
   "pygments_lexer": "ipython3",
   "version": "3.9.12"
  }
 },
 "nbformat": 4,
 "nbformat_minor": 5
}
