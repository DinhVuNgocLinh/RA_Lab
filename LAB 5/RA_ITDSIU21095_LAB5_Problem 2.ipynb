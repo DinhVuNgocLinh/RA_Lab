{
 "cells": [
  {
   "cell_type": "markdown",
   "id": "9da8ad62",
   "metadata": {},
   "source": [
    "## Problem 2"
   ]
  },
  {
   "cell_type": "code",
   "execution_count": 1,
   "id": "c416d3f1",
   "metadata": {},
   "outputs": [],
   "source": [
    "import pandas as pd, numpy as np\n",
    "import matplotlib.pyplot as plt\n",
    "import seaborn as sns"
   ]
  },
  {
   "cell_type": "code",
   "execution_count": 2,
   "id": "f6c2fa99",
   "metadata": {},
   "outputs": [],
   "source": [
    "df1 = pd.read_csv('CH01PR19.txt', sep = '\\s+', header =None, names=['Y','X1'])"
   ]
  },
  {
   "cell_type": "code",
   "execution_count": 3,
   "id": "17b8c481",
   "metadata": {},
   "outputs": [],
   "source": [
    "df2 = pd.read_csv('CH08PR16.txt', sep = '\\s+', header =None, names=['X2'])"
   ]
  },
  {
   "cell_type": "code",
   "execution_count": 4,
   "id": "33c36ff0",
   "metadata": {},
   "outputs": [
    {
     "data": {
      "text/html": [
       "<div>\n",
       "<style scoped>\n",
       "    .dataframe tbody tr th:only-of-type {\n",
       "        vertical-align: middle;\n",
       "    }\n",
       "\n",
       "    .dataframe tbody tr th {\n",
       "        vertical-align: top;\n",
       "    }\n",
       "\n",
       "    .dataframe thead th {\n",
       "        text-align: right;\n",
       "    }\n",
       "</style>\n",
       "<table border=\"1\" class=\"dataframe\">\n",
       "  <thead>\n",
       "    <tr style=\"text-align: right;\">\n",
       "      <th></th>\n",
       "      <th>Y</th>\n",
       "      <th>X1</th>\n",
       "      <th>X2</th>\n",
       "    </tr>\n",
       "  </thead>\n",
       "  <tbody>\n",
       "    <tr>\n",
       "      <th>0</th>\n",
       "      <td>3.897</td>\n",
       "      <td>21</td>\n",
       "      <td>0</td>\n",
       "    </tr>\n",
       "    <tr>\n",
       "      <th>1</th>\n",
       "      <td>3.885</td>\n",
       "      <td>14</td>\n",
       "      <td>1</td>\n",
       "    </tr>\n",
       "    <tr>\n",
       "      <th>2</th>\n",
       "      <td>3.778</td>\n",
       "      <td>28</td>\n",
       "      <td>0</td>\n",
       "    </tr>\n",
       "    <tr>\n",
       "      <th>3</th>\n",
       "      <td>2.540</td>\n",
       "      <td>22</td>\n",
       "      <td>1</td>\n",
       "    </tr>\n",
       "    <tr>\n",
       "      <th>4</th>\n",
       "      <td>3.028</td>\n",
       "      <td>21</td>\n",
       "      <td>0</td>\n",
       "    </tr>\n",
       "  </tbody>\n",
       "</table>\n",
       "</div>"
      ],
      "text/plain": [
       "       Y  X1  X2\n",
       "0  3.897  21   0\n",
       "1  3.885  14   1\n",
       "2  3.778  28   0\n",
       "3  2.540  22   1\n",
       "4  3.028  21   0"
      ]
     },
     "execution_count": 4,
     "metadata": {},
     "output_type": "execute_result"
    }
   ],
   "source": [
    "Y = df1['Y']\n",
    "X1 = df1['X1']\n",
    "X2 = df2['X2']\n",
    "df = pd.DataFrame({'Y':Y,'X1':X1,'X2':X2})\n",
    "df.head()"
   ]
  },
  {
   "cell_type": "code",
   "execution_count": 5,
   "id": "85722bdc",
   "metadata": {},
   "outputs": [],
   "source": [
    "x1 = df1['X1']\n",
    "x2 = df2['X2']\n",
    "y = df1['Y']"
   ]
  },
  {
   "cell_type": "markdown",
   "id": "bdaac2b0",
   "metadata": {},
   "source": [
    "### a. Explain how each regression coefficient in model (8.33) is interpreted here"
   ]
  },
  {
   "cell_type": "code",
   "execution_count": 13,
   "id": "805312e0",
   "metadata": {},
   "outputs": [
    {
     "data": {
      "text/html": [
       "<table class=\"simpletable\">\n",
       "<caption>OLS Regression Results</caption>\n",
       "<tr>\n",
       "  <th>Dep. Variable:</th>            <td>y</td>        <th>  R-squared:         </th> <td>   0.077</td>\n",
       "</tr>\n",
       "<tr>\n",
       "  <th>Model:</th>                   <td>OLS</td>       <th>  Adj. R-squared:    </th> <td>   0.062</td>\n",
       "</tr>\n",
       "<tr>\n",
       "  <th>Method:</th>             <td>Least Squares</td>  <th>  F-statistic:       </th> <td>   4.914</td>\n",
       "</tr>\n",
       "<tr>\n",
       "  <th>Date:</th>             <td>Sat, 19 Nov 2022</td> <th>  Prob (F-statistic):</th>  <td>0.00893</td>\n",
       "</tr>\n",
       "<tr>\n",
       "  <th>Time:</th>                 <td>23:08:33</td>     <th>  Log-Likelihood:    </th> <td> -112.19</td>\n",
       "</tr>\n",
       "<tr>\n",
       "  <th>No. Observations:</th>      <td>   120</td>      <th>  AIC:               </th> <td>   230.4</td>\n",
       "</tr>\n",
       "<tr>\n",
       "  <th>Df Residuals:</th>          <td>   117</td>      <th>  BIC:               </th> <td>   238.7</td>\n",
       "</tr>\n",
       "<tr>\n",
       "  <th>Df Model:</th>              <td>     2</td>      <th>                     </th>     <td> </td>   \n",
       "</tr>\n",
       "<tr>\n",
       "  <th>Covariance Type:</th>      <td>nonrobust</td>    <th>                     </th>     <td> </td>   \n",
       "</tr>\n",
       "</table>\n",
       "<table class=\"simpletable\">\n",
       "<tr>\n",
       "      <td></td>         <th>coef</th>     <th>std err</th>      <th>t</th>      <th>P>|t|</th>  <th>[0.025</th>    <th>0.975]</th>  \n",
       "</tr>\n",
       "<tr>\n",
       "  <th>Intercept</th> <td>    2.1984</td> <td>    0.339</td> <td>    6.488</td> <td> 0.000</td> <td>    1.527</td> <td>    2.870</td>\n",
       "</tr>\n",
       "<tr>\n",
       "  <th>x1</th>        <td>    0.0379</td> <td>    0.013</td> <td>    2.949</td> <td> 0.004</td> <td>    0.012</td> <td>    0.063</td>\n",
       "</tr>\n",
       "<tr>\n",
       "  <th>x2</th>        <td>   -0.0943</td> <td>    0.120</td> <td>   -0.786</td> <td> 0.433</td> <td>   -0.332</td> <td>    0.143</td>\n",
       "</tr>\n",
       "</table>\n",
       "<table class=\"simpletable\">\n",
       "<tr>\n",
       "  <th>Omnibus:</th>       <td>26.256</td> <th>  Durbin-Watson:     </th> <td>   1.820</td>\n",
       "</tr>\n",
       "<tr>\n",
       "  <th>Prob(Omnibus):</th> <td> 0.000</td> <th>  Jarque-Bera (JB):  </th> <td>  45.317</td>\n",
       "</tr>\n",
       "<tr>\n",
       "  <th>Skew:</th>          <td>-0.977</td> <th>  Prob(JB):          </th> <td>1.44e-10</td>\n",
       "</tr>\n",
       "<tr>\n",
       "  <th>Kurtosis:</th>      <td> 5.291</td> <th>  Cond. No.          </th> <td>    151.</td>\n",
       "</tr>\n",
       "</table><br/><br/>Notes:<br/>[1] Standard Errors assume that the covariance matrix of the errors is correctly specified."
      ],
      "text/plain": [
       "<class 'statsmodels.iolib.summary.Summary'>\n",
       "\"\"\"\n",
       "                            OLS Regression Results                            \n",
       "==============================================================================\n",
       "Dep. Variable:                      y   R-squared:                       0.077\n",
       "Model:                            OLS   Adj. R-squared:                  0.062\n",
       "Method:                 Least Squares   F-statistic:                     4.914\n",
       "Date:                Sat, 19 Nov 2022   Prob (F-statistic):            0.00893\n",
       "Time:                        23:08:33   Log-Likelihood:                -112.19\n",
       "No. Observations:                 120   AIC:                             230.4\n",
       "Df Residuals:                     117   BIC:                             238.7\n",
       "Df Model:                           2                                         \n",
       "Covariance Type:            nonrobust                                         \n",
       "==============================================================================\n",
       "                 coef    std err          t      P>|t|      [0.025      0.975]\n",
       "------------------------------------------------------------------------------\n",
       "Intercept      2.1984      0.339      6.488      0.000       1.527       2.870\n",
       "x1             0.0379      0.013      2.949      0.004       0.012       0.063\n",
       "x2            -0.0943      0.120     -0.786      0.433      -0.332       0.143\n",
       "==============================================================================\n",
       "Omnibus:                       26.256   Durbin-Watson:                   1.820\n",
       "Prob(Omnibus):                  0.000   Jarque-Bera (JB):               45.317\n",
       "Skew:                          -0.977   Prob(JB):                     1.44e-10\n",
       "Kurtosis:                       5.291   Cond. No.                         151.\n",
       "==============================================================================\n",
       "\n",
       "Notes:\n",
       "[1] Standard Errors assume that the covariance matrix of the errors is correctly specified.\n",
       "\"\"\""
      ]
     },
     "execution_count": 13,
     "metadata": {},
     "output_type": "execute_result"
    }
   ],
   "source": [
    "import statsmodels.api as sm\n",
    "import statsmodels.formula.api as smf\n",
    "model = smf.ols('y ~ x1+x2', data=df)\n",
    "results = model.fit()\n",
    "results.summary()"
   ]
  },
  {
   "cell_type": "markdown",
   "id": "528d5ae5",
   "metadata": {},
   "source": [
    "* b1 = 0.0379; for every unit increase or decrease in X1, mean Y is increase or decrease by 0.0379 units.\n",
    "* b2 = -0.0943; for every unit increase or decrease in X2, mean Y is increase or decrease by 0.0943 units."
   ]
  },
  {
   "cell_type": "markdown",
   "id": "6453fc99",
   "metadata": {},
   "source": [
    "### b. Fit the regression model and state the estimated regression function."
   ]
  },
  {
   "cell_type": "code",
   "execution_count": 14,
   "id": "972a8317",
   "metadata": {},
   "outputs": [
    {
     "data": {
      "image/png": "[encoded data removed]",
      "text/plain": [
       "<Figure size 402.375x360 with 1 Axes>"
      ]
     },
     "metadata": {
      "needs_background": "light"
     },
     "output_type": "display_data"
    }
   ],
   "source": [
    "sns.lmplot(x='X1',y='Y',hue='X2',data=df)\n",
    "plt.show()"
   ]
  },
  {
   "cell_type": "markdown",
   "id": "04ee78d6",
   "metadata": {},
   "source": [
    "**Coefficients**\n",
    "* b0 = 2.1984\t\n",
    "* b1 = 0.0379\t\n",
    "* b2 = -0.0943\n",
    "\n",
    "**Regression function:**\n",
    "Y_hat = beta[0] + beta[1]*X1 + beta[2]*X2 \n",
    "#### Y_hat = 2.1984 + (0.0379)X1 + (-0.0943)X2"
   ]
  },
  {
   "cell_type": "markdown",
   "id": "28b7907a",
   "metadata": {},
   "source": [
    "### c. Test whether the X2 variable can be dropped from the regression model; use α = .01. State the alternatives, decision rule, and conclusion."
   ]
  },
  {
   "cell_type": "markdown",
   "id": "354c1342",
   "metadata": {},
   "source": [
    "#### The alternatives:\n",
    "* H0: β2 = 0\n",
    "* Ha: β2 ≠ 0\n",
    "\n",
    "#### The decision rule:\n",
    "* If F∗ ≤ F(1−α; 1 , n-p), conclude H0\n",
    "* If F∗ > F(1−α; 1 , n-p), conclude Ha"
   ]
  },
  {
   "cell_type": "code",
   "execution_count": 8,
   "id": "d7a78361",
   "metadata": {},
   "outputs": [],
   "source": [
    "import statsmodels.api as sm\n",
    "import statsmodels.formula.api as smf\n",
    "model1 = smf.ols('y ~ x1', data=df)\n",
    "results1 = model1.fit()\n",
    "sse1 = np.sum((results1.fittedvalues - df.Y)**2)\n",
    "ssr1 = np.sum((results1.fittedvalues - df.Y.mean())**2)"
   ]
  },
  {
   "cell_type": "code",
   "execution_count": 9,
   "id": "4174b21d",
   "metadata": {},
   "outputs": [],
   "source": [
    "import statsmodels.api as sm\n",
    "import statsmodels.formula.api as smf\n",
    "model3 = smf.ols('y ~ x1+x2', data=df)\n",
    "results3 = model3.fit()"
   ]
  },
  {
   "cell_type": "code",
   "execution_count": 10,
   "id": "3cb042c2",
   "metadata": {},
   "outputs": [],
   "source": [
    "sse12 = np.sum((results3.fittedvalues - df.Y)**2)\n",
    "ssr12 = np.sum((results3.fittedvalues - df.Y.mean())**2)"
   ]
  },
  {
   "cell_type": "code",
   "execution_count": 11,
   "id": "f62f485c",
   "metadata": {},
   "outputs": [
    {
     "name": "stdout",
     "output_type": "stream",
     "text": [
      "SSR(X2|X1)= 0.24071276344662396\n",
      "F*= 0.6179313729082031\n",
      "F= 6.856563808110685\n"
     ]
    }
   ],
   "source": [
    "ssrX2_X1 = ssr12 - ssr1\n",
    "print('SSR(X2|X1)=',ssrX2_X1)\n",
    "n = len(y)\n",
    "Fstar = (ssrX2_X1/1 / (sse12/(n-3)))\n",
    "print('F*=',Fstar)\n",
    "import scipy.stats as stats\n",
    "f = stats.f.ppf(q=1-0.01,dfn=1,dfd=n-3)\n",
    "print('F=',f)"
   ]
  },
  {
   "cell_type": "markdown",
   "id": "f3e6960d",
   "metadata": {},
   "source": [
    "**For α = 0.01, we have F(0.99; 1,n-3) = 6.856. Since\n",
    "F∗ = 0.6179 ≤ 6.856, we conclude H0, that X2 can be dropped from the\n",
    "regression model that already contains X1.**\n"
   ]
  },
  {
   "attachments": {
    "image.png": {
     "image/png": "[encoded data removed]"
    }
   },
   "cell_type": "markdown",
   "id": "0c7f707d",
   "metadata": {},
   "source": [
    "### d.Fit regression model (8.49) and state the estimated regression function.![image.png](attachment:image.png)"
   ]
  },
  {
   "cell_type": "code",
   "execution_count": 15,
   "id": "0c0f0785",
   "metadata": {},
   "outputs": [
    {
     "data": {
      "text/html": [
       "<table class=\"simpletable\">\n",
       "<caption>OLS Regression Results</caption>\n",
       "<tr>\n",
       "  <th>Dep. Variable:</th>            <td>y</td>        <th>  R-squared:         </th> <td>   0.119</td>\n",
       "</tr>\n",
       "<tr>\n",
       "  <th>Model:</th>                   <td>OLS</td>       <th>  Adj. R-squared:    </th> <td>   0.097</td>\n",
       "</tr>\n",
       "<tr>\n",
       "  <th>Method:</th>             <td>Least Squares</td>  <th>  F-statistic:       </th> <td>   5.244</td>\n",
       "</tr>\n",
       "<tr>\n",
       "  <th>Date:</th>             <td>Sat, 19 Nov 2022</td> <th>  Prob (F-statistic):</th>  <td>0.00198</td>\n",
       "</tr>\n",
       "<tr>\n",
       "  <th>Time:</th>                 <td>23:09:15</td>     <th>  Log-Likelihood:    </th> <td> -109.40</td>\n",
       "</tr>\n",
       "<tr>\n",
       "  <th>No. Observations:</th>      <td>   120</td>      <th>  AIC:               </th> <td>   226.8</td>\n",
       "</tr>\n",
       "<tr>\n",
       "  <th>Df Residuals:</th>          <td>   116</td>      <th>  BIC:               </th> <td>   237.9</td>\n",
       "</tr>\n",
       "<tr>\n",
       "  <th>Df Model:</th>              <td>     3</td>      <th>                     </th>     <td> </td>   \n",
       "</tr>\n",
       "<tr>\n",
       "  <th>Covariance Type:</th>      <td>nonrobust</td>    <th>                     </th>     <td> </td>   \n",
       "</tr>\n",
       "</table>\n",
       "<table class=\"simpletable\">\n",
       "<tr>\n",
       "      <td></td>         <th>coef</th>     <th>std err</th>      <th>t</th>      <th>P>|t|</th>  <th>[0.025</th>    <th>0.975]</th>  \n",
       "</tr>\n",
       "<tr>\n",
       "  <th>Intercept</th> <td>    3.2263</td> <td>    0.549</td> <td>    5.872</td> <td> 0.000</td> <td>    2.138</td> <td>    4.315</td>\n",
       "</tr>\n",
       "<tr>\n",
       "  <th>x1</th>        <td>   -0.0028</td> <td>    0.021</td> <td>   -0.129</td> <td> 0.898</td> <td>   -0.045</td> <td>    0.040</td>\n",
       "</tr>\n",
       "<tr>\n",
       "  <th>x2</th>        <td>   -1.6496</td> <td>    0.672</td> <td>   -2.454</td> <td> 0.016</td> <td>   -2.981</td> <td>   -0.318</td>\n",
       "</tr>\n",
       "<tr>\n",
       "  <th>x1:x2</th>     <td>    0.0622</td> <td>    0.026</td> <td>    2.350</td> <td> 0.020</td> <td>    0.010</td> <td>    0.115</td>\n",
       "</tr>\n",
       "</table>\n",
       "<table class=\"simpletable\">\n",
       "<tr>\n",
       "  <th>Omnibus:</th>       <td>28.768</td> <th>  Durbin-Watson:     </th> <td>   1.936</td>\n",
       "</tr>\n",
       "<tr>\n",
       "  <th>Prob(Omnibus):</th> <td> 0.000</td> <th>  Jarque-Bera (JB):  </th> <td>  63.541</td>\n",
       "</tr>\n",
       "<tr>\n",
       "  <th>Skew:</th>          <td>-0.948</td> <th>  Prob(JB):          </th> <td>1.59e-14</td>\n",
       "</tr>\n",
       "<tr>\n",
       "  <th>Kurtosis:</th>      <td> 6.019</td> <th>  Cond. No.          </th> <td>    454.</td>\n",
       "</tr>\n",
       "</table><br/><br/>Notes:<br/>[1] Standard Errors assume that the covariance matrix of the errors is correctly specified."
      ],
      "text/plain": [
       "<class 'statsmodels.iolib.summary.Summary'>\n",
       "\"\"\"\n",
       "                            OLS Regression Results                            \n",
       "==============================================================================\n",
       "Dep. Variable:                      y   R-squared:                       0.119\n",
       "Model:                            OLS   Adj. R-squared:                  0.097\n",
       "Method:                 Least Squares   F-statistic:                     5.244\n",
       "Date:                Sat, 19 Nov 2022   Prob (F-statistic):            0.00198\n",
       "Time:                        23:09:15   Log-Likelihood:                -109.40\n",
       "No. Observations:                 120   AIC:                             226.8\n",
       "Df Residuals:                     116   BIC:                             237.9\n",
       "Df Model:                           3                                         \n",
       "Covariance Type:            nonrobust                                         \n",
       "==============================================================================\n",
       "                 coef    std err          t      P>|t|      [0.025      0.975]\n",
       "------------------------------------------------------------------------------\n",
       "Intercept      3.2263      0.549      5.872      0.000       2.138       4.315\n",
       "x1            -0.0028      0.021     -0.129      0.898      -0.045       0.040\n",
       "x2            -1.6496      0.672     -2.454      0.016      -2.981      -0.318\n",
       "x1:x2          0.0622      0.026      2.350      0.020       0.010       0.115\n",
       "==============================================================================\n",
       "Omnibus:                       28.768   Durbin-Watson:                   1.936\n",
       "Prob(Omnibus):                  0.000   Jarque-Bera (JB):               63.541\n",
       "Skew:                          -0.948   Prob(JB):                     1.59e-14\n",
       "Kurtosis:                       6.019   Cond. No.                         454.\n",
       "==============================================================================\n",
       "\n",
       "Notes:\n",
       "[1] Standard Errors assume that the covariance matrix of the errors is correctly specified.\n",
       "\"\"\""
      ]
     },
     "execution_count": 15,
     "metadata": {},
     "output_type": "execute_result"
    }
   ],
   "source": [
    "import statsmodels.api as sm\n",
    "import statsmodels.formula.api as smf\n",
    "model1 = smf.ols('y ~ x1*x2', data=df)\n",
    "results1 = model1.fit()\n",
    "results1.summary()"
   ]
  },
  {
   "cell_type": "markdown",
   "id": "aeb72f70",
   "metadata": {},
   "source": [
    "**Coefficients**\n",
    "* b0 = 3.2263\t\n",
    "* b1 = -0.0028\t\n",
    "* b2 = -1.6496\n",
    "* b3 = 0.0622\n",
    "\n",
    "**Regression function:**\n",
    "Y_hat = beta[0] + beta[1]*X1 + beta[2]*X2 + beta[3]*X1*X2\n",
    "#### Y_hat = 3.2263\t + (-0.0028)X1 + (-1.6496)X2 + (0.0622)X1X2"
   ]
  },
  {
   "cell_type": "markdown",
   "id": "8cfb016f",
   "metadata": {},
   "source": [
    "### e. Test whether the interaction term can be dropped from the model; use 𝛼=.05. State thealternatives, decision rule, and conclusion. If the interaction term cannot be dropped fromthe model, describe the nature of the interaction effect."
   ]
  },
  {
   "cell_type": "markdown",
   "id": "ba4a43bd",
   "metadata": {},
   "source": [
    "#### The alternatives:\n",
    "* H0:β1=β2=β3=0\n",
    "* Ha:β1≠0,β2≠0,β3≠0\n",
    "\n",
    "#### The decision rule:\n",
    "* If F∗ ≤ F(1−α, p-1 , n-p), conclude H0\n",
    "* If F∗ > F(1−α, p-1 , n-p), conclude Ha"
   ]
  },
  {
   "cell_type": "code",
   "execution_count": 16,
   "id": "d4a55708",
   "metadata": {},
   "outputs": [
    {
     "name": "stdout",
     "output_type": "stream",
     "text": [
      "F*= 4.9141276865928445\n",
      "F= 3.073762904449709\n"
     ]
    }
   ],
   "source": [
    "p = 3\n",
    "n = len(y)\n",
    "F_star = (ssr12/(p-1)) / ((sse12)/(n-p))\n",
    "print('F*=',F_star)\n",
    "F = stats.f.ppf(q=1-0.05,dfn=p-1,dfd=n-p)\n",
    "print('F=',F)"
   ]
  },
  {
   "cell_type": "markdown",
   "id": "4f1dce03",
   "metadata": {},
   "source": [
    "**Since F∗ =4.914 > F=3.074, we conclude Ha that β1,β2, and β3 is significantly different from zero. To put it another way, the interaction term shouldn't be dropped from the model.**"
   ]
  }
 ],
 "metadata": {
  "kernelspec": {
   "display_name": "Python 3 (ipykernel)",
   "language": "python",
   "name": "python3"
  },
  "language_info": {
   "codemirror_mode": {
    "name": "ipython",
    "version": 3
   },
   "file_extension": ".py",
   "mimetype": "text/x-python",
   "name": "python",
   "nbconvert_exporter": "python",
   "pygments_lexer": "ipython3",
   "version": "3.9.12"
  }
 },
 "nbformat": 4,
 "nbformat_minor": 5
}
