{
 "cells": [
  {
   "cell_type": "markdown",
   "id": "00dfb922",
   "metadata": {},
   "source": [
    "**Student name: Đinh Vũ Ngọc Linh**\n",
    "\n",
    "**Student ID: ITDSIU21095**"
   ]
  },
  {
   "cell_type": "markdown",
   "id": "957d2e37",
   "metadata": {},
   "source": [
    "# Problem 1:"
   ]
  },
  {
   "cell_type": "code",
   "execution_count": 1,
   "id": "aac099cb",
   "metadata": {},
   "outputs": [],
   "source": [
    "import pandas as pd, numpy as np\n",
    "import matplotlib.pyplot as plt\n",
    "import seaborn as sns\n",
    "import scipy.stats as stats\n",
    "import statsmodels.api as sm\n",
    "import statsmodels.formula.api as smf"
   ]
  },
  {
   "cell_type": "markdown",
   "id": "d1dd73f9",
   "metadata": {},
   "source": [
    "### a."
   ]
  },
  {
   "cell_type": "code",
   "execution_count": 2,
   "id": "332740af",
   "metadata": {
    "scrolled": false
   },
   "outputs": [
    {
     "data": {
      "text/html": [
       "<div>\n",
       "<style scoped>\n",
       "    .dataframe tbody tr th:only-of-type {\n",
       "        vertical-align: middle;\n",
       "    }\n",
       "\n",
       "    .dataframe tbody tr th {\n",
       "        vertical-align: top;\n",
       "    }\n",
       "\n",
       "    .dataframe thead th {\n",
       "        text-align: right;\n",
       "    }\n",
       "</style>\n",
       "<table border=\"1\" class=\"dataframe\">\n",
       "  <thead>\n",
       "    <tr style=\"text-align: right;\">\n",
       "      <th></th>\n",
       "      <th>Y</th>\n",
       "      <th>X</th>\n",
       "    </tr>\n",
       "  </thead>\n",
       "  <tbody>\n",
       "    <tr>\n",
       "      <th>0</th>\n",
       "      <td>3.897</td>\n",
       "      <td>21</td>\n",
       "    </tr>\n",
       "    <tr>\n",
       "      <th>1</th>\n",
       "      <td>3.885</td>\n",
       "      <td>14</td>\n",
       "    </tr>\n",
       "    <tr>\n",
       "      <th>2</th>\n",
       "      <td>3.778</td>\n",
       "      <td>28</td>\n",
       "    </tr>\n",
       "    <tr>\n",
       "      <th>3</th>\n",
       "      <td>2.540</td>\n",
       "      <td>22</td>\n",
       "    </tr>\n",
       "    <tr>\n",
       "      <th>4</th>\n",
       "      <td>3.028</td>\n",
       "      <td>21</td>\n",
       "    </tr>\n",
       "  </tbody>\n",
       "</table>\n",
       "</div>"
      ],
      "text/plain": [
       "       Y   X\n",
       "0  3.897  21\n",
       "1  3.885  14\n",
       "2  3.778  28\n",
       "3  2.540  22\n",
       "4  3.028  21"
      ]
     },
     "execution_count": 2,
     "metadata": {},
     "output_type": "execute_result"
    }
   ],
   "source": [
    "df = pd.read_csv('1.19.txt', sep = '\\s+')\n",
    "df.head()\n",
    "# Y = GPA\n",
    "# X = ACT"
   ]
  },
  {
   "cell_type": "code",
   "execution_count": 3,
   "id": "d9a27dbf",
   "metadata": {},
   "outputs": [
    {
     "name": "stdout",
     "output_type": "stream",
     "text": [
      "24.725 3.0740500000000006\n"
     ]
    },
    {
     "data": {
      "text/plain": [
       "0    -3.725\n",
       "1   -10.725\n",
       "2     3.275\n",
       "3    -2.725\n",
       "4    -3.725\n",
       "Name: X, dtype: float64"
      ]
     },
     "execution_count": 3,
     "metadata": {},
     "output_type": "execute_result"
    }
   ],
   "source": [
    "X = df['X']\n",
    "Y = df['Y']\n",
    "X_bar = np.mean(X)\n",
    "Y_bar = np.mean(Y)\n",
    "X_err = X - X_bar\n",
    "Y_err = Y - Y_bar\n",
    "print(X_bar, Y_bar)\n",
    "X_err.head()"
   ]
  },
  {
   "cell_type": "code",
   "execution_count": 4,
   "id": "4967b1b9",
   "metadata": {},
   "outputs": [
    {
     "name": "stdout",
     "output_type": "stream",
     "text": [
      "92.40565 \n",
      " 2379.925\n"
     ]
    }
   ],
   "source": [
    "A = np.sum(X_err*Y_err)\n",
    "B = np.sum(X_err**2)\n",
    "print(A,'\\n',B)"
   ]
  },
  {
   "cell_type": "code",
   "execution_count": 5,
   "id": "92129c65",
   "metadata": {},
   "outputs": [
    {
     "name": "stdout",
     "output_type": "stream",
     "text": [
      "0.038827126905259614 2.1140492872674566\n"
     ]
    }
   ],
   "source": [
    "b1 = A / B\n",
    "b0 = Y_bar - b1*X_bar\n",
    "print(b1, b0)"
   ]
  },
  {
   "cell_type": "code",
   "execution_count": 6,
   "id": "40f481dc",
   "metadata": {},
   "outputs": [
    {
     "name": "stdout",
     "output_type": "stream",
     "text": [
      "-15.259060873767076\n",
      "49.405453699999995\n",
      "49.4054537\n"
     ]
    }
   ],
   "source": [
    "X_hat = 28\n",
    "n = len(X)\n",
    "Y_hat = b0 + b1* X_hat\n",
    "resid = Y - Y_hat\n",
    "print(np.sum(resid))\n",
    "print((np.sum((resid - np.mean(resid))**2)))\n",
    "print(np.var(resid, ddof=1)*(n-1))"
   ]
  },
  {
   "cell_type": "code",
   "execution_count": 7,
   "id": "89d6f45e",
   "metadata": {},
   "outputs": [
    {
     "name": "stdout",
     "output_type": "stream",
     "text": [
      "0.43513371347099783 \n",
      " 51.34577818957774\n"
     ]
    }
   ],
   "source": [
    "SSE = np.sum((Y - Y_hat)**2)\n",
    "MSE = SSE / (n-2)\n",
    "print(MSE, \"\\n\", SSE)"
   ]
  },
  {
   "cell_type": "code",
   "execution_count": 8,
   "id": "86dbb2ec",
   "metadata": {},
   "outputs": [
    {
     "name": "stdout",
     "output_type": "stream",
     "text": [
      "0.004898838859112428 \n",
      " 0.06999170564511503\n"
     ]
    }
   ],
   "source": [
    "s2_Yh= MSE * (1/n + ((X_hat-X_bar)**2)/sum(((X-X_hat)**2)))\n",
    "s_Yh = np.sqrt(s2_Yh)\n",
    "print(s2_Yh,'\\n' ,s_Yh)"
   ]
  },
  {
   "cell_type": "code",
   "execution_count": 9,
   "id": "ee8c7ddb",
   "metadata": {},
   "outputs": [
    {
     "data": {
      "text/plain": [
       "1.9802722492407059"
      ]
     },
     "execution_count": 9,
     "metadata": {},
     "output_type": "execute_result"
    }
   ],
   "source": [
    "t = stats.t.ppf(q = 1- 0.05/2, df=n-2)\n",
    "t"
   ]
  },
  {
   "cell_type": "code",
   "execution_count": 10,
   "id": "d51db8fa",
   "metadata": {},
   "outputs": [
    {
     "name": "stdout",
     "output_type": "stream",
     "text": [
      "L = 3.0626062082486802\n",
      "U = 3.339811472980771\n"
     ]
    }
   ],
   "source": [
    "L = Y_hat - t * s_Yh\n",
    "U = Y_hat + t * s_Yh\n",
    "print('L =',L)\n",
    "print('U =',U)"
   ]
  },
  {
   "cell_type": "markdown",
   "id": "3e13a5dd",
   "metadata": {},
   "source": [
    "**95 percent interval estimate of the mean freshman GPA for students whose \n",
    "ACT test score is 28 that is between 3.06 and 3.34**"
   ]
  },
  {
   "cell_type": "markdown",
   "id": "7a058dc4",
   "metadata": {},
   "source": [
    "### b."
   ]
  },
  {
   "cell_type": "code",
   "execution_count": 11,
   "id": "b6d596df",
   "metadata": {},
   "outputs": [
    {
     "data": {
      "text/plain": [
       "0.6633494948593164"
      ]
     },
     "execution_count": 11,
     "metadata": {},
     "output_type": "execute_result"
    }
   ],
   "source": [
    "s2_pred = MSE + s2_Yh\n",
    "s_pred = np.sqrt(s2_pred)\n",
    "s_pred"
   ]
  },
  {
   "cell_type": "code",
   "execution_count": 12,
   "id": "42348bf4",
   "metadata": {},
   "outputs": [
    {
     "name": "stdout",
     "output_type": "stream",
     "text": [
      "L = 1.8875962443969811\n",
      "U = 4.51482143683247\n"
     ]
    }
   ],
   "source": [
    "L2 = Y_hat - t * s_pred\n",
    "U2 = Y_hat + t * s_pred\n",
    "print('L =',L2)\n",
    "print('U =',U2)"
   ]
  },
  {
   "cell_type": "markdown",
   "id": "8b7bab05",
   "metadata": {},
   "source": [
    "**Mary Jones freshman GPA \n",
    "using a 95 percent prediction interval that is between 1.9 and 4.5**"
   ]
  },
  {
   "cell_type": "markdown",
   "id": "5a012ac2",
   "metadata": {},
   "source": [
    "### c.\n",
    "**The prediction interval is larger than the confidence interval and that is expected because the variance of the prediction interval is larger and therefore the interval should be wider.**"
   ]
  },
  {
   "cell_type": "markdown",
   "id": "8bd74260",
   "metadata": {},
   "source": [
    "### d."
   ]
  },
  {
   "cell_type": "code",
   "execution_count": 13,
   "id": "2d48b168",
   "metadata": {},
   "outputs": [
    {
     "data": {
      "text/plain": [
       "6.146180682334335"
      ]
     },
     "execution_count": 13,
     "metadata": {},
     "output_type": "execute_result"
    }
   ],
   "source": [
    "W2 =2* stats.f.ppf(q = 1- 0.05,dfn = 2, dfd=n-2)\n",
    "W2"
   ]
  },
  {
   "cell_type": "code",
   "execution_count": 14,
   "id": "63fc5d40",
   "metadata": {},
   "outputs": [
    {
     "data": {
      "text/plain": [
       "2.4791491851710608"
      ]
     },
     "execution_count": 14,
     "metadata": {},
     "output_type": "execute_result"
    }
   ],
   "source": [
    "W = np.sqrt(W2)\n",
    "W"
   ]
  },
  {
   "cell_type": "code",
   "execution_count": 15,
   "id": "029cc0a2",
   "metadata": {},
   "outputs": [
    {
     "name": "stdout",
     "output_type": "stream",
     "text": [
      "L = -3.2664202141307976\n",
      "U = 9.668837895360248\n"
     ]
    }
   ],
   "source": [
    "L3 = Y_hat - A * s_Yh\n",
    "U3 = Y_hat + A * s_Yh\n",
    "print('L =',L3)\n",
    "print('U =',U3)"
   ]
  },
  {
   "cell_type": "markdown",
   "id": "b68ebef6",
   "metadata": {},
   "source": [
    "**Confident band when Xh= 28: 3.027688960595906 and 3.3747287206335455**\n",
    "\n",
    "No, the confident band is a bit wider  at this point Xh = 28 than the confident interval in part (a) because it is not just presenting the confidence intervals at a single Xh, it is presenting the confidence intervals for entire regression line."
   ]
  },
  {
   "cell_type": "markdown",
   "id": "38c79cfe",
   "metadata": {},
   "source": [
    "# Problem 2:"
   ]
  },
  {
   "cell_type": "markdown",
   "id": "7fb58bcb",
   "metadata": {},
   "source": [
    "### a."
   ]
  },
  {
   "cell_type": "code",
   "execution_count": 16,
   "id": "fdd61eda",
   "metadata": {},
   "outputs": [
    {
     "data": {
      "text/html": [
       "<div>\n",
       "<style scoped>\n",
       "    .dataframe tbody tr th:only-of-type {\n",
       "        vertical-align: middle;\n",
       "    }\n",
       "\n",
       "    .dataframe tbody tr th {\n",
       "        vertical-align: top;\n",
       "    }\n",
       "\n",
       "    .dataframe thead th {\n",
       "        text-align: right;\n",
       "    }\n",
       "</style>\n",
       "<table border=\"1\" class=\"dataframe\">\n",
       "  <thead>\n",
       "    <tr style=\"text-align: right;\">\n",
       "      <th></th>\n",
       "      <th>crime_rate</th>\n",
       "      <th>percentage</th>\n",
       "    </tr>\n",
       "  </thead>\n",
       "  <tbody>\n",
       "    <tr>\n",
       "      <th>0</th>\n",
       "      <td>8487</td>\n",
       "      <td>74</td>\n",
       "    </tr>\n",
       "    <tr>\n",
       "      <th>1</th>\n",
       "      <td>8179</td>\n",
       "      <td>82</td>\n",
       "    </tr>\n",
       "    <tr>\n",
       "      <th>2</th>\n",
       "      <td>8362</td>\n",
       "      <td>81</td>\n",
       "    </tr>\n",
       "    <tr>\n",
       "      <th>3</th>\n",
       "      <td>8220</td>\n",
       "      <td>81</td>\n",
       "    </tr>\n",
       "    <tr>\n",
       "      <th>4</th>\n",
       "      <td>6246</td>\n",
       "      <td>87</td>\n",
       "    </tr>\n",
       "  </tbody>\n",
       "</table>\n",
       "</div>"
      ],
      "text/plain": [
       "   crime_rate  percentage\n",
       "0        8487          74\n",
       "1        8179          82\n",
       "2        8362          81\n",
       "3        8220          81\n",
       "4        6246          87"
      ]
     },
     "execution_count": 16,
     "metadata": {},
     "output_type": "execute_result"
    }
   ],
   "source": [
    "df1 = pd.read_csv('CH01PR28.txt', sep='\\s+', header=None, names=['crime_rate', 'percentage'])\n",
    "df1.head()\n",
    "# Y = crime rate\n",
    "# X = percentage"
   ]
  },
  {
   "cell_type": "code",
   "execution_count": 17,
   "id": "02404e64",
   "metadata": {},
   "outputs": [
    {
     "name": "stdout",
     "output_type": "stream",
     "text": [
      "78.5952380952381 7111.202380952381\n"
     ]
    },
    {
     "data": {
      "text/plain": [
       "0   -4.595238\n",
       "1    3.404762\n",
       "2    2.404762\n",
       "3    2.404762\n",
       "4    8.404762\n",
       "Name: percentage, dtype: float64"
      ]
     },
     "execution_count": 17,
     "metadata": {},
     "output_type": "execute_result"
    }
   ],
   "source": [
    "X1 = df1['percentage']\n",
    "Y1 = df1['crime_rate']\n",
    "X1_bar = np.mean(X1)\n",
    "Y1_bar = np.mean(Y1)\n",
    "X1_err = X1 - X1_bar\n",
    "Y1_err = Y1 - Y1_bar\n",
    "print(X1_bar, Y1_bar)\n",
    "X1_err.head()"
   ]
  },
  {
   "cell_type": "code",
   "execution_count": 18,
   "id": "b4b9fdf7",
   "metadata": {},
   "outputs": [
    {
     "name": "stdout",
     "output_type": "stream",
     "text": [
      "92.40565 2379.925\n"
     ]
    }
   ],
   "source": [
    "A1 = np.sum(X1_err*Y1_err)\n",
    "B1 = np.sum(X1_err**2)\n",
    "print(A,B)"
   ]
  },
  {
   "cell_type": "code",
   "execution_count": 19,
   "id": "6efc0ad8",
   "metadata": {},
   "outputs": [
    {
     "name": "stdout",
     "output_type": "stream",
     "text": [
      "-170.57518863868833 20517.599945150243\n"
     ]
    }
   ],
   "source": [
    "b1_2 = A1 / B1\n",
    "b0_2 = Y1_bar - b1_2*X1_bar\n",
    "print(b1_2, b0_2)"
   ]
  },
  {
   "cell_type": "code",
   "execution_count": 20,
   "id": "9abdea13",
   "metadata": {},
   "outputs": [
    {
     "data": {
      "text/html": [
       "<table class=\"simpletable\">\n",
       "<caption>OLS Regression Results</caption>\n",
       "<tr>\n",
       "  <th>Dep. Variable:</th>           <td>Y1</td>        <th>  R-squared:         </th> <td>   0.170</td>\n",
       "</tr>\n",
       "<tr>\n",
       "  <th>Model:</th>                   <td>OLS</td>       <th>  Adj. R-squared:    </th> <td>   0.160</td>\n",
       "</tr>\n",
       "<tr>\n",
       "  <th>Method:</th>             <td>Least Squares</td>  <th>  F-statistic:       </th> <td>   16.83</td>\n",
       "</tr>\n",
       "<tr>\n",
       "  <th>Date:</th>             <td>Sat, 08 Oct 2022</td> <th>  Prob (F-statistic):</th> <td>9.57e-05</td>\n",
       "</tr>\n",
       "<tr>\n",
       "  <th>Time:</th>                 <td>22:49:06</td>     <th>  Log-Likelihood:    </th> <td> -770.43</td>\n",
       "</tr>\n",
       "<tr>\n",
       "  <th>No. Observations:</th>      <td>    84</td>      <th>  AIC:               </th> <td>   1545.</td>\n",
       "</tr>\n",
       "<tr>\n",
       "  <th>Df Residuals:</th>          <td>    82</td>      <th>  BIC:               </th> <td>   1550.</td>\n",
       "</tr>\n",
       "<tr>\n",
       "  <th>Df Model:</th>              <td>     1</td>      <th>                     </th>     <td> </td>   \n",
       "</tr>\n",
       "<tr>\n",
       "  <th>Covariance Type:</th>      <td>nonrobust</td>    <th>                     </th>     <td> </td>   \n",
       "</tr>\n",
       "</table>\n",
       "<table class=\"simpletable\">\n",
       "<tr>\n",
       "      <td></td>         <th>coef</th>     <th>std err</th>      <th>t</th>      <th>P>|t|</th>  <th>[0.025</th>    <th>0.975]</th>  \n",
       "</tr>\n",
       "<tr>\n",
       "  <th>Intercept</th> <td> 2.052e+04</td> <td> 3277.643</td> <td>    6.260</td> <td> 0.000</td> <td>  1.4e+04</td> <td>  2.7e+04</td>\n",
       "</tr>\n",
       "<tr>\n",
       "  <th>X1</th>        <td> -170.5752</td> <td>   41.574</td> <td>   -4.103</td> <td> 0.000</td> <td> -253.280</td> <td>  -87.871</td>\n",
       "</tr>\n",
       "</table>\n",
       "<table class=\"simpletable\">\n",
       "<tr>\n",
       "  <th>Omnibus:</th>       <td> 2.224</td> <th>  Durbin-Watson:     </th> <td>   1.495</td>\n",
       "</tr>\n",
       "<tr>\n",
       "  <th>Prob(Omnibus):</th> <td> 0.329</td> <th>  Jarque-Bera (JB):  </th> <td>   2.229</td>\n",
       "</tr>\n",
       "<tr>\n",
       "  <th>Skew:</th>          <td> 0.360</td> <th>  Prob(JB):          </th> <td>   0.328</td>\n",
       "</tr>\n",
       "<tr>\n",
       "  <th>Kurtosis:</th>      <td> 2.655</td> <th>  Cond. No.          </th> <td>1.01e+03</td>\n",
       "</tr>\n",
       "</table><br/><br/>Notes:<br/>[1] Standard Errors assume that the covariance matrix of the errors is correctly specified.<br/>[2] The condition number is large, 1.01e+03. This might indicate that there are<br/>strong multicollinearity or other numerical problems."
      ],
      "text/plain": [
       "<class 'statsmodels.iolib.summary.Summary'>\n",
       "\"\"\"\n",
       "                            OLS Regression Results                            \n",
       "==============================================================================\n",
       "Dep. Variable:                     Y1   R-squared:                       0.170\n",
       "Model:                            OLS   Adj. R-squared:                  0.160\n",
       "Method:                 Least Squares   F-statistic:                     16.83\n",
       "Date:                Sat, 08 Oct 2022   Prob (F-statistic):           9.57e-05\n",
       "Time:                        22:49:06   Log-Likelihood:                -770.43\n",
       "No. Observations:                  84   AIC:                             1545.\n",
       "Df Residuals:                      82   BIC:                             1550.\n",
       "Df Model:                           1                                         \n",
       "Covariance Type:            nonrobust                                         \n",
       "==============================================================================\n",
       "                 coef    std err          t      P>|t|      [0.025      0.975]\n",
       "------------------------------------------------------------------------------\n",
       "Intercept   2.052e+04   3277.643      6.260      0.000     1.4e+04     2.7e+04\n",
       "X1          -170.5752     41.574     -4.103      0.000    -253.280     -87.871\n",
       "==============================================================================\n",
       "Omnibus:                        2.224   Durbin-Watson:                   1.495\n",
       "Prob(Omnibus):                  0.329   Jarque-Bera (JB):                2.229\n",
       "Skew:                           0.360   Prob(JB):                        0.328\n",
       "Kurtosis:                       2.655   Cond. No.                     1.01e+03\n",
       "==============================================================================\n",
       "\n",
       "Notes:\n",
       "[1] Standard Errors assume that the covariance matrix of the errors is correctly specified.\n",
       "[2] The condition number is large, 1.01e+03. This might indicate that there are\n",
       "strong multicollinearity or other numerical problems.\n",
       "\"\"\""
      ]
     },
     "execution_count": 20,
     "metadata": {},
     "output_type": "execute_result"
    }
   ],
   "source": [
    "model = smf.ols('Y1 ~ X1', data=df1)\n",
    "results = model.fit()\n",
    "results.summary()"
   ]
  },
  {
   "cell_type": "code",
   "execution_count": 21,
   "id": "ea29dd8b",
   "metadata": {
    "scrolled": false
   },
   "outputs": [
    {
     "data": {
      "image/png": "[encoded data removed]",
      "text/plain": [
       "<Figure size 360x360 with 1 Axes>"
      ]
     },
     "metadata": {
      "needs_background": "light"
     },
     "output_type": "display_data"
    }
   ],
   "source": [
    "sns.relplot(x='percentage', y='crime_rate', data=df1)\n",
    "\n",
    "sns.lineplot(x=X1, y=b0_2+b1_2*X1, color='red')\n",
    "sns.lineplot(x=X1, y=L_d, color='red')\n",
    "plt.show()"
   ]
  },
  {
   "cell_type": "markdown",
   "id": "5099d0af",
   "metadata": {},
   "source": [
    "### b."
   ]
  },
  {
   "cell_type": "code",
   "execution_count": 22,
   "id": "28e8e30a",
   "metadata": {},
   "outputs": [
    {
     "name": "stdout",
     "output_type": "stream",
     "text": [
      "-5.093170329928398e-11\n",
      "455273165.2925345\n",
      "455273165.2925346\n"
     ]
    }
   ],
   "source": [
    "n1 = len(X1)\n",
    "Y1_hat = b0_2 + b1_2* X1\n",
    "resid1 = Y1 - Y1_hat\n",
    "print(np.sum(resid1))\n",
    "print((np.sum((resid1 - np.mean(resid1))**2)))\n",
    "print(np.var(resid1, ddof=1)*(n1-1))"
   ]
  },
  {
   "cell_type": "code",
   "execution_count": 23,
   "id": "3d85b826",
   "metadata": {},
   "outputs": [
    {
     "name": "stdout",
     "output_type": "stream",
     "text": [
      "5552111.771860177 455273165.2925345\n"
     ]
    }
   ],
   "source": [
    "SSE_1 = np.sum((Y1 - Y1_hat)**2)\n",
    "MSE_1 = SSE_1 / (n1-2)\n",
    "print(MSE_1, SSE_1)"
   ]
  },
  {
   "cell_type": "code",
   "execution_count": 24,
   "id": "b518d8dd",
   "metadata": {},
   "outputs": [
    {
     "data": {
      "text/plain": [
       "41.57432781088715"
      ]
     },
     "execution_count": 24,
     "metadata": {},
     "output_type": "execute_result"
    }
   ],
   "source": [
    "s2_b1_2= MSE_1/ B1\n",
    "s_b1_2 = np.sqrt(s2_b1_2)\n",
    "s_b1_2"
   ]
  },
  {
   "cell_type": "code",
   "execution_count": 25,
   "id": "5ed1b065",
   "metadata": {},
   "outputs": [
    {
     "data": {
      "text/plain": [
       "2.3726873452471393"
      ]
     },
     "execution_count": 25,
     "metadata": {},
     "output_type": "execute_result"
    }
   ],
   "source": [
    "t1 = stats.t.ppf(q = 1- 0.02/2, df=n1-2)\n",
    "t1\n"
   ]
  },
  {
   "cell_type": "code",
   "execution_count": 26,
   "id": "0ca451d5",
   "metadata": {},
   "outputs": [
    {
     "data": {
      "text/plain": [
       "-4.1028970910750235"
      ]
     },
     "execution_count": 26,
     "metadata": {},
     "output_type": "execute_result"
    }
   ],
   "source": [
    "t_star = b1_2/s_b1_2\n",
    "t_star"
   ]
  },
  {
   "cell_type": "markdown",
   "id": "5bedc627",
   "metadata": {},
   "source": [
    "**Thus, |t_star| = 4.102 > t = 2.372, so we conclude Ha.**"
   ]
  },
  {
   "cell_type": "markdown",
   "id": "44b1c345",
   "metadata": {},
   "source": [
    "### c."
   ]
  },
  {
   "cell_type": "code",
   "execution_count": 27,
   "id": "c3ab0060",
   "metadata": {},
   "outputs": [
    {
     "name": "stdout",
     "output_type": "stream",
     "text": [
      "548736107.5595237\n"
     ]
    }
   ],
   "source": [
    "SSTO_1 = np.sum((Y1 - Y1_bar)**2)\n",
    "print(SSTO_1)"
   ]
  },
  {
   "cell_type": "code",
   "execution_count": 28,
   "id": "732ff98f",
   "metadata": {
    "scrolled": true
   },
   "outputs": [
    {
     "data": {
      "text/plain": [
       "0.17032402457104745"
      ]
     },
     "execution_count": 28,
     "metadata": {},
     "output_type": "execute_result"
    }
   ],
   "source": [
    "R2 = 1 - SSE_1/SSTO_1\n",
    "R2"
   ]
  },
  {
   "cell_type": "markdown",
   "id": "1f9eb841",
   "metadata": {},
   "source": [
    "**The coefficient of determination R-square is 0.1703**"
   ]
  },
  {
   "cell_type": "markdown",
   "id": "aa725145",
   "metadata": {},
   "source": [
    "### d."
   ]
  },
  {
   "cell_type": "code",
   "execution_count": 29,
   "id": "73e537af",
   "metadata": {},
   "outputs": [
    {
     "data": {
      "text/plain": [
       "1.9893185569368186"
      ]
     },
     "execution_count": 29,
     "metadata": {},
     "output_type": "execute_result"
    }
   ],
   "source": [
    "t2 = stats.t.ppf(q = 1-0.05/2, df= n1 -2)\n",
    "t2"
   ]
  },
  {
   "cell_type": "code",
   "execution_count": 30,
   "id": "98f6434e",
   "metadata": {},
   "outputs": [
    {
     "name": "stdout",
     "output_type": "stream",
     "text": [
      "L= -253.2797704450606\n",
      "U= -87.87060683231607\n"
     ]
    }
   ],
   "source": [
    "L_d = b1_2 - t2* s_b1_2\n",
    "U_d = b1_2 + t2* s_b1_2\n",
    "print('L=',L_d)\n",
    "print('U=',U_d)"
   ]
  },
  {
   "cell_type": "markdown",
   "id": "b9c2ea9c",
   "metadata": {},
   "source": [
    "**We can conclude that the 95% confidence interval on the slope is from -253.28 to -87.87.**\n",
    "\n",
    "With confidence coefficient .95, we estimate that the mean Crime rate purity increases by somewhere between -253.28 and -87.87 for every each point increase in n the percentage of individuals in the county having at least a high-school diploma"
   ]
  },
  {
   "cell_type": "markdown",
   "id": "d6167b4f",
   "metadata": {},
   "source": [
    "### e."
   ]
  },
  {
   "cell_type": "code",
   "execution_count": 31,
   "id": "d93fc3ba",
   "metadata": {},
   "outputs": [
    {
     "data": {
      "text/plain": [
       "7724.460797248617"
      ]
     },
     "execution_count": 31,
     "metadata": {},
     "output_type": "execute_result"
    }
   ],
   "source": [
    "Xh_2 = 75\n",
    "Y1_hat2 = b0_2 + b1_2* Xh_2\n",
    "Y1_hat2"
   ]
  },
  {
   "cell_type": "code",
   "execution_count": 32,
   "id": "1113366f",
   "metadata": {},
   "outputs": [
    {
     "name": "stdout",
     "output_type": "stream",
     "text": [
      "7077162.462351341 580327321.91281\n"
     ]
    }
   ],
   "source": [
    "SSE_2 = np.sum((Y1 - Y1_hat2)**2)\n",
    "MSE_2 = SSE_2 / (n1-2)\n",
    "print(MSE_2, SSE_2)"
   ]
  },
  {
   "cell_type": "code",
   "execution_count": 33,
   "id": "47d5cfbb",
   "metadata": {},
   "outputs": [
    {
     "name": "stdout",
     "output_type": "stream",
     "text": [
      "112729.75474445238 \n",
      " 335.752520086525\n"
     ]
    }
   ],
   "source": [
    "s2_Yh_1= MSE_2 * (1/n1 + ((Xh_2-X1_bar)**2)/sum(((X1-X1_bar)**2)))\n",
    "s_Yh_1 = np.sqrt(s2_Yh_1)\n",
    "print(s2_Yh_1,'\\n' ,s_Yh_1)"
   ]
  },
  {
   "cell_type": "code",
   "execution_count": 34,
   "id": "19bd2f5e",
   "metadata": {},
   "outputs": [
    {
     "data": {
      "text/plain": [
       "1.9802722492407059"
      ]
     },
     "execution_count": 34,
     "metadata": {},
     "output_type": "execute_result"
    }
   ],
   "source": [
    "t_2 = stats.t.ppf(q = 1- 0.05/2, df=n-2)\n",
    "t_2"
   ]
  },
  {
   "cell_type": "code",
   "execution_count": 35,
   "id": "7905d7f9",
   "metadata": {},
   "outputs": [
    {
     "name": "stdout",
     "output_type": "stream",
     "text": [
      "L = 7059.579399108639\n",
      "U = 8389.342195388595\n"
     ]
    }
   ],
   "source": [
    "L_2 = Y1_hat2 - t_2*s_Yh_1\n",
    "U_2 = Y1_hat2 + t_2*s_Yh_1\n",
    "print('L =',L_2)\n",
    "print('U =',U_2)"
   ]
  },
  {
   "cell_type": "markdown",
   "id": "5f7f47a1",
   "metadata": {},
   "source": [
    "**With the 95% confidence interval for the mean Crime rate purity when the percentage of individuals in the county having at least a high-school diploma is 75% that is between 7059.58 and 8389.34**\n",
    "\n",
    "For the population of all medium-sized counties in which 75% of individuals in the county having at least a high-school diploma, we are 95% certain that the mean Crime rate purity was between 7059 and 8389\n"
   ]
  }
 ],
 "metadata": {
  "kernelspec": {
   "display_name": "Python 3 (ipykernel)",
   "language": "python",
   "name": "python3"
  },
  "language_info": {
   "codemirror_mode": {
    "name": "ipython",
    "version": 3
   },
   "file_extension": ".py",
   "mimetype": "text/x-python",
   "name": "python",
   "nbconvert_exporter": "python",
   "pygments_lexer": "ipython3",
   "version": "3.9.12"
  }
 },
 "nbformat": 4,
 "nbformat_minor": 5
}
