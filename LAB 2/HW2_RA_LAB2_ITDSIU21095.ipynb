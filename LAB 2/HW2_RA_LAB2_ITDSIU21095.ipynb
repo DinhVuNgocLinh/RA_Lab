{
 "cells": [
  {
   "cell_type": "code",
   "execution_count": 1,
   "id": "0dcebcfa",
   "metadata": {},
   "outputs": [],
   "source": [
    "import pandas as pd, numpy as np\n",
    "import matplotlib.pyplot as plt\n",
    "import seaborn as sns\n",
    "import scipy.stats as stats\n",
    "import statsmodels.api as sm\n",
    "import statsmodels.formula.api as smf"
   ]
  },
  {
   "cell_type": "code",
   "execution_count": 22,
   "id": "21d1e97d",
   "metadata": {
    "scrolled": true
   },
   "outputs": [
    {
     "data": {
      "text/html": [
       "<div>\n",
       "<style scoped>\n",
       "    .dataframe tbody tr th:only-of-type {\n",
       "        vertical-align: middle;\n",
       "    }\n",
       "\n",
       "    .dataframe tbody tr th {\n",
       "        vertical-align: top;\n",
       "    }\n",
       "\n",
       "    .dataframe thead th {\n",
       "        text-align: right;\n",
       "    }\n",
       "</style>\n",
       "<table border=\"1\" class=\"dataframe\">\n",
       "  <thead>\n",
       "    <tr style=\"text-align: right;\">\n",
       "      <th></th>\n",
       "      <th>the hardness of the plastic</th>\n",
       "      <th>the elapsed time</th>\n",
       "    </tr>\n",
       "  </thead>\n",
       "  <tbody>\n",
       "    <tr>\n",
       "      <th>0</th>\n",
       "      <td>199.0</td>\n",
       "      <td>16.0</td>\n",
       "    </tr>\n",
       "    <tr>\n",
       "      <th>1</th>\n",
       "      <td>205.0</td>\n",
       "      <td>16.0</td>\n",
       "    </tr>\n",
       "    <tr>\n",
       "      <th>2</th>\n",
       "      <td>196.0</td>\n",
       "      <td>16.0</td>\n",
       "    </tr>\n",
       "    <tr>\n",
       "      <th>3</th>\n",
       "      <td>200.0</td>\n",
       "      <td>16.0</td>\n",
       "    </tr>\n",
       "    <tr>\n",
       "      <th>4</th>\n",
       "      <td>218.0</td>\n",
       "      <td>24.0</td>\n",
       "    </tr>\n",
       "  </tbody>\n",
       "</table>\n",
       "</div>"
      ],
      "text/plain": [
       "   the hardness of the plastic  the elapsed time\n",
       "0                        199.0              16.0\n",
       "1                        205.0              16.0\n",
       "2                        196.0              16.0\n",
       "3                        200.0              16.0\n",
       "4                        218.0              24.0"
      ]
     },
     "execution_count": 22,
     "metadata": {},
     "output_type": "execute_result"
    }
   ],
   "source": [
    "df = pd.read_csv('CH01PR22.txt', sep = '\\s+', header = None, names = ['the hardness of the plastic','the elapsed time'])\n",
    "df.head()"
   ]
  },
  {
   "cell_type": "markdown",
   "id": "0be31759",
   "metadata": {},
   "source": [
    "## a"
   ]
  },
  {
   "cell_type": "code",
   "execution_count": 23,
   "id": "d41587ab",
   "metadata": {
    "scrolled": true
   },
   "outputs": [
    {
     "name": "stdout",
     "output_type": "stream",
     "text": [
      "28.0 225.5625\n"
     ]
    },
    {
     "data": {
      "text/plain": [
       "0   -12.0\n",
       "1   -12.0\n",
       "2   -12.0\n",
       "3   -12.0\n",
       "4    -4.0\n",
       "Name: the elapsed time, dtype: float64"
      ]
     },
     "execution_count": 23,
     "metadata": {},
     "output_type": "execute_result"
    }
   ],
   "source": [
    "X = df['the elapsed time']\n",
    "Y = df['the hardness of the plastic']\n",
    "X_bar = np.mean(X)\n",
    "Y_bar = np.mean(Y)\n",
    "X_err = X - X_bar\n",
    "Y_err = Y - Y_bar\n",
    "print(X_bar, Y_bar)\n",
    "X_err.head()"
   ]
  },
  {
   "cell_type": "code",
   "execution_count": 24,
   "id": "465dbd4b",
   "metadata": {},
   "outputs": [
    {
     "name": "stdout",
     "output_type": "stream",
     "text": [
      "2604.0 \n",
      " 1280.0\n"
     ]
    }
   ],
   "source": [
    "A = np.sum(X_err*Y_err)\n",
    "B = np.sum(X_err**2)\n",
    "print(A,'\\n',B)"
   ]
  },
  {
   "cell_type": "code",
   "execution_count": 25,
   "id": "e2d0c6eb",
   "metadata": {},
   "outputs": [
    {
     "name": "stdout",
     "output_type": "stream",
     "text": [
      "2.034375 168.60000000000002\n"
     ]
    }
   ],
   "source": [
    "b1 = A / B\n",
    "b0 = Y_bar - b1*X_bar\n",
    "print(b1, b0)"
   ]
  },
  {
   "cell_type": "code",
   "execution_count": 26,
   "id": "7fc43eda",
   "metadata": {},
   "outputs": [],
   "source": [
    "n= len(X)\n",
    "Y_hat = b0 + b1 * X\n",
    "resid = Y - Y_hat"
   ]
  },
  {
   "cell_type": "code",
   "execution_count": 27,
   "id": "00544b84",
   "metadata": {},
   "outputs": [
    {
     "name": "stdout",
     "output_type": "stream",
     "text": [
      "10.458928571428588 146.42500000000024\n"
     ]
    }
   ],
   "source": [
    "SSE = np.sum((Y - Y_hat)**2)\n",
    "MSE = SSE / (n-2)\n",
    "print(MSE, SSE)"
   ]
  },
  {
   "cell_type": "code",
   "execution_count": 28,
   "id": "c36dfe8e",
   "metadata": {},
   "outputs": [
    {
     "data": {
      "text/plain": [
       "5297.512499999998"
      ]
     },
     "execution_count": 28,
     "metadata": {},
     "output_type": "execute_result"
    }
   ],
   "source": [
    "SSR = np.sum((Y_hat - Y_bar)**2)\n",
    "MSR = SSR/1\n",
    "SSR"
   ]
  },
  {
   "cell_type": "code",
   "execution_count": 29,
   "id": "38391f42",
   "metadata": {},
   "outputs": [
    {
     "data": {
      "text/plain": [
       "5443.937499999998"
      ]
     },
     "execution_count": 29,
     "metadata": {},
     "output_type": "execute_result"
    }
   ],
   "source": [
    "SSTO = SSE + SSR\n",
    "SSTO"
   ]
  },
  {
   "cell_type": "code",
   "execution_count": 30,
   "id": "042cf737",
   "metadata": {},
   "outputs": [
    {
     "name": "stdout",
     "output_type": "stream",
     "text": [
      "                            OLS Regression Results                            \n",
      "==============================================================================\n",
      "Dep. Variable:                      Y   R-squared:                       0.973\n",
      "Model:                            OLS   Adj. R-squared:                  0.971\n",
      "Method:                 Least Squares   F-statistic:                     506.5\n",
      "Date:                Fri, 14 Oct 2022   Prob (F-statistic):           2.16e-12\n",
      "Time:                        19:14:19   Log-Likelihood:                -40.414\n",
      "No. Observations:                  16   AIC:                             84.83\n",
      "Df Residuals:                      14   BIC:                             86.37\n",
      "Df Model:                           1                                         \n",
      "Covariance Type:            nonrobust                                         \n",
      "==============================================================================\n",
      "                 coef    std err          t      P>|t|      [0.025      0.975]\n",
      "------------------------------------------------------------------------------\n",
      "Intercept    168.6000      2.657     63.454      0.000     162.901     174.299\n",
      "X              2.0344      0.090     22.506      0.000       1.840       2.228\n",
      "==============================================================================\n",
      "Omnibus:                        0.955   Durbin-Watson:                   2.466\n",
      "Prob(Omnibus):                  0.620   Jarque-Bera (JB):                0.711\n",
      "Skew:                           0.068   Prob(JB):                        0.701\n",
      "Kurtosis:                       1.976   Cond. No.                         96.7\n",
      "==============================================================================\n",
      "\n",
      "Notes:\n",
      "[1] Standard Errors assume that the covariance matrix of the errors is correctly specified.\n"
     ]
    },
    {
     "name": "stderr",
     "output_type": "stream",
     "text": [
      "C:\\Users\\PC\\anaconda3\\lib\\site-packages\\scipy\\stats\\stats.py:1541: UserWarning: kurtosistest only valid for n>=20 ... continuing anyway, n=16\n",
      "  warnings.warn(\"kurtosistest only valid for n>=20 ... continuing \"\n"
     ]
    }
   ],
   "source": [
    "model = smf.ols('Y ~ X', data=df)\n",
    "results = model.fit()\n",
    "print(results.summary())"
   ]
  },
  {
   "cell_type": "code",
   "execution_count": 31,
   "id": "a5a30f5d",
   "metadata": {},
   "outputs": [
    {
     "name": "stdout",
     "output_type": "stream",
     "text": [
      "             sum_sq    df           F        PR(>F)\n",
      "X         5297.5125   1.0  506.506232  2.158814e-12\n",
      "Residual   146.4250  14.0         NaN           NaN\n"
     ]
    }
   ],
   "source": [
    "anova_result = sm.stats.anova_lm(results, typ=2)\n",
    "print(anova_result)"
   ]
  },
  {
   "attachments": {
    "image.png": {
     "image/png": "[encoded data removed]"
    }
   },
   "cell_type": "markdown",
   "id": "151e5dbd",
   "metadata": {},
   "source": [
    "![image.png](attachment:image.png)"
   ]
  },
  {
   "cell_type": "markdown",
   "id": "f57a1c0e",
   "metadata": {},
   "source": [
    "**MODEL Y = 168.6 + 2.03X**"
   ]
  },
  {
   "cell_type": "markdown",
   "id": "33e5bc40",
   "metadata": {},
   "source": [
    "## b"
   ]
  },
  {
   "cell_type": "markdown",
   "id": "f1b81597",
   "metadata": {},
   "source": [
    "The alternative conclusions are:\n",
    "\n",
    "H0 : β1 == 0\n",
    "\n",
    "Ha : β1 != 0"
   ]
  },
  {
   "cell_type": "code",
   "execution_count": 32,
   "id": "e2b8baf9",
   "metadata": {},
   "outputs": [
    {
     "data": {
      "text/plain": [
       "8.861592665176424"
      ]
     },
     "execution_count": 32,
     "metadata": {},
     "output_type": "execute_result"
    }
   ],
   "source": [
    "alpha = 0.01\n",
    "f = stats.f.ppf(q = 1 - alpha, dfn = 1, dfd = n-2)\n",
    "f"
   ]
  },
  {
   "cell_type": "markdown",
   "id": "c2abc54f",
   "metadata": {},
   "source": [
    "The decision rule is:\n",
    "\n",
    "If F* <= 8.86, conclude H0\n",
    "\n",
    "If F* >= 8.86, conclude Ha"
   ]
  },
  {
   "cell_type": "code",
   "execution_count": 33,
   "id": "a4ac592d",
   "metadata": {},
   "outputs": [
    {
     "data": {
      "text/plain": [
       "506.50623185931266"
      ]
     },
     "execution_count": 33,
     "metadata": {},
     "output_type": "execute_result"
    }
   ],
   "source": [
    "# F star is:\n",
    "f_star = MSR /MSE\n",
    "f_star"
   ]
  },
  {
   "cell_type": "markdown",
   "id": "d2ddf8c5",
   "metadata": {},
   "source": [
    "Since F* = 506.5 > F = 8.86, we conclude Ha, that B1 != 0, or that there is a linear assiciation between X and Y."
   ]
  },
  {
   "cell_type": "markdown",
   "id": "96450466",
   "metadata": {},
   "source": [
    "## c"
   ]
  },
  {
   "cell_type": "code",
   "execution_count": 57,
   "id": "b29a922f",
   "metadata": {},
   "outputs": [
    {
     "data": {
      "image/png": "[encoded data removed]",
      "text/plain": [
       "<Figure size 360x360 with 1 Axes>"
      ]
     },
     "metadata": {
      "needs_background": "light"
     },
     "output_type": "display_data"
    }
   ],
   "source": [
    "#Plot the deviations 𝑌𝑖 − 𝑌𝑖_hat against 𝑋𝑖\n",
    "sns.relplot(x ='the elapsed time', y ='the hardness of the plastic',data=df, color ='black')\n",
    "x =np.linspace(20,120,20);\n",
    "sns.scatterplot(x='the elapsed time', y='the hardness of the plastic', data=df, color = 'black')\n",
    "sns.lineplot(x ='the elapsed time', y= Y_bar, data=df,color = 'red')\n",
    "plt.show()"
   ]
  },
  {
   "cell_type": "code",
   "execution_count": 54,
   "id": "c31644e9",
   "metadata": {
    "scrolled": true
   },
   "outputs": [
    {
     "data": {
      "image/png": "[encoded data removed]",
      "text/plain": [
       "<Figure size 432x288 with 1 Axes>"
      ]
     },
     "metadata": {
      "needs_background": "light"
     },
     "output_type": "display_data"
    }
   ],
   "source": [
    "#Plot the deviations Y𝑖_hat − 𝑌_bar against 𝑋𝑖\n",
    "sns.scatterplot(x='the elapsed time', y='the hardness of the plastic', data=df, color = 'black')\n",
    "sns.lineplot(x='the elapsed time', y= Y_hat, data=df, color = 'red')\n",
    "plt.show()"
   ]
  },
  {
   "cell_type": "markdown",
   "id": "b102b392",
   "metadata": {},
   "source": [
    "On the graphs, it is apparent that the residuals Yi − Yi_hat much smaller than the deviations Yi_hat − Y_bar of the predictors from the mean.  Thus the SSR should be much larger than the SSE, and we expect R^2 = SSR /SSTO to be close to 1."
   ]
  },
  {
   "cell_type": "markdown",
   "id": "0a6fcddb",
   "metadata": {},
   "source": [
    "## d"
   ]
  },
  {
   "cell_type": "code",
   "execution_count": 16,
   "id": "1307a24f",
   "metadata": {},
   "outputs": [
    {
     "name": "stdout",
     "output_type": "stream",
     "text": [
      "0.9731031078148857 0.9864598865716161\n"
     ]
    }
   ],
   "source": [
    "# Coefficient of determination:\n",
    "R2 = SSR/SSTO\n",
    "r = np.sqrt(R2)\n",
    "print(R2,r)"
   ]
  },
  {
   "cell_type": "markdown",
   "id": "02c2de20",
   "metadata": {},
   "source": [
    "R^2 = 0.973 and r = 0.986"
   ]
  }
 ],
 "metadata": {
  "kernelspec": {
   "display_name": "Python 3 (ipykernel)",
   "language": "python",
   "name": "python3"
  },
  "language_info": {
   "codemirror_mode": {
    "name": "ipython",
    "version": 3
   },
   "file_extension": ".py",
   "mimetype": "text/x-python",
   "name": "python",
   "nbconvert_exporter": "python",
   "pygments_lexer": "ipython3",
   "version": "3.9.12"
  }
 },
 "nbformat": 4,
 "nbformat_minor": 5
}
