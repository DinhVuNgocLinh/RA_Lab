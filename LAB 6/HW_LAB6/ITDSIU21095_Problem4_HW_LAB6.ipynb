{
 "cells": [
  {
   "cell_type": "markdown",
   "id": "5c085cd8",
   "metadata": {},
   "source": [
    "# Problem 4.\n",
    "**Refer to Real estate sales data set in Appendix C.7. Residential sales that \n",
    "occurred during the year 2002 were available from a city in the midwest. Data on 522 \n",
    "arms-length transactions include sales price, style, finished square feet, number of \n",
    "bedrooms, pool, lot size, year built, air conditioning, and whether or not the lot is \n",
    "adjacent to a highway. The city tax assessor was interested in predicting sales price \n",
    "based on the demographic variable information given above.**\n",
    "\n",
    "**a) Select a random sample of 300 observations to use in the model-building data set. \n",
    "Develop a best subset model for predicting sales price. Justify your choice of model. \n",
    "Assess your model’s ability to predict and discuss its use as a tool for predicting sales \n",
    "price.**\n",
    "\n",
    "**b) Fit the regression model identified above to the validation data set. Compare the \n",
    "estimated regression coefficients and their estimated standard errors with those \n",
    "obtained in a). Also compare the error mean square and coefficients of multiple \n",
    "determination. Does the model fitted to the validation data set yield similar estimates \n",
    "as the model fitted to the model-building data set?**\n",
    "\n",
    "**c) Calculate the mean squared prediction error (9.20) and compare it to MSE obtained \n",
    "from the model-building data set. Is there evidence of a substantial bias problem in \n",
    "MSE here?**"
   ]
  },
  {
   "cell_type": "code",
   "execution_count": 1,
   "id": "0262a0e3",
   "metadata": {},
   "outputs": [],
   "source": [
    "import pandas as pd, numpy as np\n",
    "import matplotlib.pyplot as plt\n",
    "import seaborn as sns\n",
    "import math"
   ]
  },
  {
   "cell_type": "code",
   "execution_count": 2,
   "id": "e855d2f1",
   "metadata": {
    "scrolled": true
   },
   "outputs": [
    {
     "data": {
      "text/html": [
       "<div>\n",
       "<style scoped>\n",
       "    .dataframe tbody tr th:only-of-type {\n",
       "        vertical-align: middle;\n",
       "    }\n",
       "\n",
       "    .dataframe tbody tr th {\n",
       "        vertical-align: top;\n",
       "    }\n",
       "\n",
       "    .dataframe thead th {\n",
       "        text-align: right;\n",
       "    }\n",
       "</style>\n",
       "<table border=\"1\" class=\"dataframe\">\n",
       "  <thead>\n",
       "    <tr style=\"text-align: right;\">\n",
       "      <th></th>\n",
       "      <th>Y</th>\n",
       "      <th>X2</th>\n",
       "      <th>X3</th>\n",
       "      <th>N.1</th>\n",
       "      <th>X7</th>\n",
       "      <th>N.2</th>\n",
       "      <th>X4</th>\n",
       "      <th>X6</th>\n",
       "      <th>N.3</th>\n",
       "      <th>X1</th>\n",
       "      <th>X5</th>\n",
       "      <th>X8</th>\n",
       "    </tr>\n",
       "  </thead>\n",
       "  <tbody>\n",
       "    <tr>\n",
       "      <th>1</th>\n",
       "      <td>360000</td>\n",
       "      <td>3032</td>\n",
       "      <td>4</td>\n",
       "      <td>4</td>\n",
       "      <td>1</td>\n",
       "      <td>2</td>\n",
       "      <td>0</td>\n",
       "      <td>1972</td>\n",
       "      <td>2</td>\n",
       "      <td>1</td>\n",
       "      <td>22221</td>\n",
       "      <td>0</td>\n",
       "    </tr>\n",
       "    <tr>\n",
       "      <th>2</th>\n",
       "      <td>340000</td>\n",
       "      <td>2058</td>\n",
       "      <td>4</td>\n",
       "      <td>2</td>\n",
       "      <td>1</td>\n",
       "      <td>2</td>\n",
       "      <td>0</td>\n",
       "      <td>1976</td>\n",
       "      <td>2</td>\n",
       "      <td>1</td>\n",
       "      <td>22912</td>\n",
       "      <td>0</td>\n",
       "    </tr>\n",
       "    <tr>\n",
       "      <th>3</th>\n",
       "      <td>250000</td>\n",
       "      <td>1780</td>\n",
       "      <td>4</td>\n",
       "      <td>3</td>\n",
       "      <td>1</td>\n",
       "      <td>2</td>\n",
       "      <td>0</td>\n",
       "      <td>1980</td>\n",
       "      <td>2</td>\n",
       "      <td>1</td>\n",
       "      <td>21345</td>\n",
       "      <td>0</td>\n",
       "    </tr>\n",
       "    <tr>\n",
       "      <th>4</th>\n",
       "      <td>205500</td>\n",
       "      <td>1638</td>\n",
       "      <td>4</td>\n",
       "      <td>2</td>\n",
       "      <td>1</td>\n",
       "      <td>2</td>\n",
       "      <td>0</td>\n",
       "      <td>1963</td>\n",
       "      <td>2</td>\n",
       "      <td>1</td>\n",
       "      <td>17342</td>\n",
       "      <td>0</td>\n",
       "    </tr>\n",
       "    <tr>\n",
       "      <th>5</th>\n",
       "      <td>275500</td>\n",
       "      <td>2196</td>\n",
       "      <td>4</td>\n",
       "      <td>3</td>\n",
       "      <td>1</td>\n",
       "      <td>2</td>\n",
       "      <td>0</td>\n",
       "      <td>1968</td>\n",
       "      <td>2</td>\n",
       "      <td>7</td>\n",
       "      <td>21786</td>\n",
       "      <td>0</td>\n",
       "    </tr>\n",
       "  </tbody>\n",
       "</table>\n",
       "</div>"
      ],
      "text/plain": [
       "        Y    X2  X3  N.1  X7  N.2  X4    X6  N.3  X1     X5  X8\n",
       "1  360000  3032   4    4   1    2   0  1972    2   1  22221   0\n",
       "2  340000  2058   4    2   1    2   0  1976    2   1  22912   0\n",
       "3  250000  1780   4    3   1    2   0  1980    2   1  21345   0\n",
       "4  205500  1638   4    2   1    2   0  1963    2   1  17342   0\n",
       "5  275500  2196   4    3   1    2   0  1968    2   7  21786   0"
      ]
     },
     "execution_count": 2,
     "metadata": {},
     "output_type": "execute_result"
    }
   ],
   "source": [
    "df = pd.read_csv('APPENC07.txt', sep = '\\s+', header =None, names=['Y','X2','X3','N.1','X7','N.2','X4','X6','N.3','X1','X5','X8'])\n",
    "df.head()"
   ]
  },
  {
   "cell_type": "code",
   "execution_count": 3,
   "id": "adda78c9",
   "metadata": {
    "scrolled": true
   },
   "outputs": [
    {
     "data": {
      "text/html": [
       "<div>\n",
       "<style scoped>\n",
       "    .dataframe tbody tr th:only-of-type {\n",
       "        vertical-align: middle;\n",
       "    }\n",
       "\n",
       "    .dataframe tbody tr th {\n",
       "        vertical-align: top;\n",
       "    }\n",
       "\n",
       "    .dataframe thead th {\n",
       "        text-align: right;\n",
       "    }\n",
       "</style>\n",
       "<table border=\"1\" class=\"dataframe\">\n",
       "  <thead>\n",
       "    <tr style=\"text-align: right;\">\n",
       "      <th></th>\n",
       "      <th>Y</th>\n",
       "      <th>X1</th>\n",
       "      <th>X2</th>\n",
       "      <th>X3</th>\n",
       "      <th>X4</th>\n",
       "      <th>X5</th>\n",
       "      <th>X6</th>\n",
       "      <th>X7</th>\n",
       "      <th>X8</th>\n",
       "    </tr>\n",
       "  </thead>\n",
       "  <tbody>\n",
       "    <tr>\n",
       "      <th>1</th>\n",
       "      <td>360000</td>\n",
       "      <td>1</td>\n",
       "      <td>3032</td>\n",
       "      <td>4</td>\n",
       "      <td>0</td>\n",
       "      <td>22221</td>\n",
       "      <td>1972</td>\n",
       "      <td>1</td>\n",
       "      <td>0</td>\n",
       "    </tr>\n",
       "    <tr>\n",
       "      <th>2</th>\n",
       "      <td>340000</td>\n",
       "      <td>1</td>\n",
       "      <td>2058</td>\n",
       "      <td>4</td>\n",
       "      <td>0</td>\n",
       "      <td>22912</td>\n",
       "      <td>1976</td>\n",
       "      <td>1</td>\n",
       "      <td>0</td>\n",
       "    </tr>\n",
       "    <tr>\n",
       "      <th>3</th>\n",
       "      <td>250000</td>\n",
       "      <td>1</td>\n",
       "      <td>1780</td>\n",
       "      <td>4</td>\n",
       "      <td>0</td>\n",
       "      <td>21345</td>\n",
       "      <td>1980</td>\n",
       "      <td>1</td>\n",
       "      <td>0</td>\n",
       "    </tr>\n",
       "    <tr>\n",
       "      <th>4</th>\n",
       "      <td>205500</td>\n",
       "      <td>1</td>\n",
       "      <td>1638</td>\n",
       "      <td>4</td>\n",
       "      <td>0</td>\n",
       "      <td>17342</td>\n",
       "      <td>1963</td>\n",
       "      <td>1</td>\n",
       "      <td>0</td>\n",
       "    </tr>\n",
       "    <tr>\n",
       "      <th>5</th>\n",
       "      <td>275500</td>\n",
       "      <td>7</td>\n",
       "      <td>2196</td>\n",
       "      <td>4</td>\n",
       "      <td>0</td>\n",
       "      <td>21786</td>\n",
       "      <td>1968</td>\n",
       "      <td>1</td>\n",
       "      <td>0</td>\n",
       "    </tr>\n",
       "  </tbody>\n",
       "</table>\n",
       "</div>"
      ],
      "text/plain": [
       "        Y  X1    X2  X3  X4     X5    X6  X7  X8\n",
       "1  360000   1  3032   4   0  22221  1972   1   0\n",
       "2  340000   1  2058   4   0  22912  1976   1   0\n",
       "3  250000   1  1780   4   0  21345  1980   1   0\n",
       "4  205500   1  1638   4   0  17342  1963   1   0\n",
       "5  275500   7  2196   4   0  21786  1968   1   0"
      ]
     },
     "execution_count": 3,
     "metadata": {},
     "output_type": "execute_result"
    }
   ],
   "source": [
    "y = df['Y']\n",
    "x1 = df['X1']\n",
    "x2 = df['X2']\n",
    "x3 = df['X3']\n",
    "x4= df['X4']\n",
    "x5= df['X5']\n",
    "x6= df['X6']\n",
    "x7= df['X7']\n",
    "x8= df['X8']\n",
    "df1 = pd.DataFrame({'Y':y,'X1':x1,'X2':x2,'X3':x3,\n",
    "                   'X4':x4,'X5':x5,'X6':x6,'X7':x7,'X8':x8})\n",
    "df1.head()"
   ]
  },
  {
   "cell_type": "markdown",
   "id": "8c4c37ac",
   "metadata": {},
   "source": [
    "#### a) Select a random sample of 300 observations to use in the model-building data set. Develop a best subset model for predicting sales price. Justify your choice of model. Assess your model’s ability to predict and discuss its use as a tool for predicting sales price."
   ]
  },
  {
   "cell_type": "code",
   "execution_count": 4,
   "id": "1b1aa98f",
   "metadata": {
    "scrolled": false
   },
   "outputs": [
    {
     "data": {
      "text/html": [
       "<div>\n",
       "<style scoped>\n",
       "    .dataframe tbody tr th:only-of-type {\n",
       "        vertical-align: middle;\n",
       "    }\n",
       "\n",
       "    .dataframe tbody tr th {\n",
       "        vertical-align: top;\n",
       "    }\n",
       "\n",
       "    .dataframe thead th {\n",
       "        text-align: right;\n",
       "    }\n",
       "</style>\n",
       "<table border=\"1\" class=\"dataframe\">\n",
       "  <thead>\n",
       "    <tr style=\"text-align: right;\">\n",
       "      <th></th>\n",
       "      <th>Y</th>\n",
       "      <th>X1</th>\n",
       "      <th>X2</th>\n",
       "      <th>X3</th>\n",
       "      <th>X4</th>\n",
       "      <th>X5</th>\n",
       "      <th>X6</th>\n",
       "      <th>X7</th>\n",
       "      <th>X8</th>\n",
       "    </tr>\n",
       "  </thead>\n",
       "  <tbody>\n",
       "    <tr>\n",
       "      <th>177</th>\n",
       "      <td>259000</td>\n",
       "      <td>1</td>\n",
       "      <td>2556</td>\n",
       "      <td>3</td>\n",
       "      <td>0</td>\n",
       "      <td>80886</td>\n",
       "      <td>1957</td>\n",
       "      <td>1</td>\n",
       "      <td>0</td>\n",
       "    </tr>\n",
       "    <tr>\n",
       "      <th>362</th>\n",
       "      <td>242000</td>\n",
       "      <td>5</td>\n",
       "      <td>2514</td>\n",
       "      <td>4</td>\n",
       "      <td>0</td>\n",
       "      <td>17535</td>\n",
       "      <td>1953</td>\n",
       "      <td>1</td>\n",
       "      <td>0</td>\n",
       "    </tr>\n",
       "    <tr>\n",
       "      <th>49</th>\n",
       "      <td>178000</td>\n",
       "      <td>7</td>\n",
       "      <td>2038</td>\n",
       "      <td>2</td>\n",
       "      <td>0</td>\n",
       "      <td>47884</td>\n",
       "      <td>1918</td>\n",
       "      <td>0</td>\n",
       "      <td>0</td>\n",
       "    </tr>\n",
       "    <tr>\n",
       "      <th>160</th>\n",
       "      <td>437632</td>\n",
       "      <td>5</td>\n",
       "      <td>2936</td>\n",
       "      <td>4</td>\n",
       "      <td>0</td>\n",
       "      <td>22844</td>\n",
       "      <td>1980</td>\n",
       "      <td>1</td>\n",
       "      <td>0</td>\n",
       "    </tr>\n",
       "    <tr>\n",
       "      <th>228</th>\n",
       "      <td>274900</td>\n",
       "      <td>7</td>\n",
       "      <td>2472</td>\n",
       "      <td>3</td>\n",
       "      <td>0</td>\n",
       "      <td>22451</td>\n",
       "      <td>1969</td>\n",
       "      <td>1</td>\n",
       "      <td>0</td>\n",
       "    </tr>\n",
       "    <tr>\n",
       "      <th>...</th>\n",
       "      <td>...</td>\n",
       "      <td>...</td>\n",
       "      <td>...</td>\n",
       "      <td>...</td>\n",
       "      <td>...</td>\n",
       "      <td>...</td>\n",
       "      <td>...</td>\n",
       "      <td>...</td>\n",
       "      <td>...</td>\n",
       "    </tr>\n",
       "    <tr>\n",
       "      <th>431</th>\n",
       "      <td>175000</td>\n",
       "      <td>1</td>\n",
       "      <td>1672</td>\n",
       "      <td>3</td>\n",
       "      <td>0</td>\n",
       "      <td>22617</td>\n",
       "      <td>1949</td>\n",
       "      <td>1</td>\n",
       "      <td>0</td>\n",
       "    </tr>\n",
       "    <tr>\n",
       "      <th>73</th>\n",
       "      <td>920000</td>\n",
       "      <td>1</td>\n",
       "      <td>3857</td>\n",
       "      <td>4</td>\n",
       "      <td>0</td>\n",
       "      <td>32793</td>\n",
       "      <td>1997</td>\n",
       "      <td>1</td>\n",
       "      <td>0</td>\n",
       "    </tr>\n",
       "    <tr>\n",
       "      <th>124</th>\n",
       "      <td>400000</td>\n",
       "      <td>1</td>\n",
       "      <td>2537</td>\n",
       "      <td>3</td>\n",
       "      <td>0</td>\n",
       "      <td>11053</td>\n",
       "      <td>1993</td>\n",
       "      <td>1</td>\n",
       "      <td>0</td>\n",
       "    </tr>\n",
       "    <tr>\n",
       "      <th>293</th>\n",
       "      <td>235000</td>\n",
       "      <td>7</td>\n",
       "      <td>2313</td>\n",
       "      <td>4</td>\n",
       "      <td>0</td>\n",
       "      <td>24705</td>\n",
       "      <td>1972</td>\n",
       "      <td>1</td>\n",
       "      <td>0</td>\n",
       "    </tr>\n",
       "    <tr>\n",
       "      <th>102</th>\n",
       "      <td>570000</td>\n",
       "      <td>1</td>\n",
       "      <td>2547</td>\n",
       "      <td>2</td>\n",
       "      <td>0</td>\n",
       "      <td>21789</td>\n",
       "      <td>1996</td>\n",
       "      <td>1</td>\n",
       "      <td>0</td>\n",
       "    </tr>\n",
       "  </tbody>\n",
       "</table>\n",
       "<p>300 rows × 9 columns</p>\n",
       "</div>"
      ],
      "text/plain": [
       "          Y  X1    X2  X3  X4     X5    X6  X7  X8\n",
       "177  259000   1  2556   3   0  80886  1957   1   0\n",
       "362  242000   5  2514   4   0  17535  1953   1   0\n",
       "49   178000   7  2038   2   0  47884  1918   0   0\n",
       "160  437632   5  2936   4   0  22844  1980   1   0\n",
       "228  274900   7  2472   3   0  22451  1969   1   0\n",
       "..      ...  ..   ...  ..  ..    ...   ...  ..  ..\n",
       "431  175000   1  1672   3   0  22617  1949   1   0\n",
       "73   920000   1  3857   4   0  32793  1997   1   0\n",
       "124  400000   1  2537   3   0  11053  1993   1   0\n",
       "293  235000   7  2313   4   0  24705  1972   1   0\n",
       "102  570000   1  2547   2   0  21789  1996   1   0\n",
       "\n",
       "[300 rows x 9 columns]"
      ]
     },
     "execution_count": 4,
     "metadata": {},
     "output_type": "execute_result"
    }
   ],
   "source": [
    "data1=df1.sample(n =300)\n",
    "data1"
   ]
  },
  {
   "cell_type": "code",
   "execution_count": 7,
   "id": "7ff45592",
   "metadata": {},
   "outputs": [],
   "source": [
    "y = data1['Y']\n",
    "x1 = data1['X1']\n",
    "x2 = data1['X2']\n",
    "x3 = data1['X3']\n",
    "x4= data1['X4']\n",
    "x5= data1['X5']\n",
    "x6= data1['X6']\n",
    "x7= data1['X7']\n",
    "x8= data1['X8']\n",
    "n=len(data1)\n",
    "import statsmodels.api as sm\n",
    "import statsmodels.formula.api as smf\n",
    "model = smf.ols('y ~ x1+x2+x3+x4+x5+x6+x7+x8', data=data1)\n",
    "results = model.fit()\n",
    "sse = np.sum((results.fittedvalues - data1.Y)**2)\n",
    "mse = sse/(n-9)"
   ]
  },
  {
   "cell_type": "code",
   "execution_count": 8,
   "id": "9d9f0dd9",
   "metadata": {
    "scrolled": true
   },
   "outputs": [
    {
     "name": "stdout",
     "output_type": "stream",
     "text": [
      "                sum_sq     df           F        PR(>F)\n",
      "x1        1.938366e+11    1.0   37.056153  3.615607e-09\n",
      "x2        1.871538e+12    1.0  357.785930  1.359362e-52\n",
      "x3        4.154982e+10    1.0    7.943168  5.157782e-03\n",
      "x4        1.753401e+10    1.0    3.352014  6.814532e-02\n",
      "x5        1.191716e+11    1.0   22.782289  2.876781e-06\n",
      "x6        3.258508e+11    1.0   62.293596  6.060009e-14\n",
      "x7        3.066298e+08    1.0    0.058619  8.088626e-01\n",
      "x8        1.018909e+10    1.0    1.947869  1.638806e-01\n",
      "Residual  1.522188e+12  291.0         NaN           NaN\n"
     ]
    }
   ],
   "source": [
    "anova_result = sm.stats.anova_lm(results, typ=2)\n",
    "print(anova_result)"
   ]
  },
  {
   "cell_type": "markdown",
   "id": "1d6b145c",
   "metadata": {},
   "source": [
    "### Regression of Y on X1"
   ]
  },
  {
   "cell_type": "code",
   "execution_count": 9,
   "id": "145a314d",
   "metadata": {
    "scrolled": true
   },
   "outputs": [
    {
     "name": "stdout",
     "output_type": "stream",
     "text": [
      "R^2 = 0.08469827523087155\n",
      "R^2a = 0.08162679293298858\n",
      "Cp= 798.8302794215367\n",
      "AICp= 7105.725715435214\n",
      "BICp= 7113.133280384526\n"
     ]
    }
   ],
   "source": [
    "import statsmodels.api as sm\n",
    "import statsmodels.formula.api as smf\n",
    "model1 = smf.ols('y ~ x1', data=data1)\n",
    "results1 = model1.fit()\n",
    "sse1 = np.sum((results1.fittedvalues - data1.Y)**2)\n",
    "ssr1 = np.sum((results1.fittedvalues - data1.Y.mean())**2)\n",
    "sstoX1 = ssr1+sse1\n",
    "R2_X1 = ssr1/sstoX1\n",
    "print('R^2 =',R2_X1)\n",
    "\n",
    "n=len(y)\n",
    "p1=2\n",
    "R2a_X1 = 1 - (sse1/(n-p1))/(sstoX1/(n-1))\n",
    "print('R^2a =',R2a_X1)\n",
    "\n",
    "Cp1 = sse1/mse - (n-2*p1)\n",
    "print('Cp=',Cp1)\n",
    "aic1 = n * math.log(sse1/n)+ 2*p1\n",
    "print('AICp=',aic1)\n",
    "bic1 = n * math.log(sse1/n)+ p1*math.log(n) \n",
    "print('BICp=',bic1)"
   ]
  },
  {
   "cell_type": "markdown",
   "id": "27d1892f",
   "metadata": {},
   "source": [
    "### Regression of Y on X2"
   ]
  },
  {
   "cell_type": "code",
   "execution_count": 10,
   "id": "68badcae",
   "metadata": {},
   "outputs": [
    {
     "name": "stdout",
     "output_type": "stream",
     "text": [
      "R^2 = 0.6267146045117246\n",
      "R^2a = 0.6254619689563947\n",
      "Cp= 150.502112677098\n",
      "AICp= 6836.652564736088\n",
      "BICp= 6844.0601296854\n"
     ]
    }
   ],
   "source": [
    "import statsmodels.api as sm\n",
    "import statsmodels.formula.api as smf\n",
    "model2 = smf.ols('y ~ x2', data=data1)\n",
    "results2 = model2.fit()\n",
    "sse2 = np.sum((results2.fittedvalues - data1.Y)**2)\n",
    "ssr2 = np.sum((results2.fittedvalues - data1.Y.mean())**2)\n",
    "sstoX2 = ssr2+sse2\n",
    "R2_X2 = ssr2/sstoX2\n",
    "print('R^2 =',R2_X2)\n",
    "\n",
    "n=len(y)\n",
    "p1=2\n",
    "R2a_X2 = 1 - (sse2/(n-p1))/(sstoX2/(n-1))\n",
    "print('R^2a =',R2a_X2)\n",
    "\n",
    "Cp2 = sse2/mse - (n-2*p1)\n",
    "print('Cp=',Cp2)\n",
    "\n",
    "aic2 = n * math.log(sse2/n)+ 2*p1\n",
    "print('AICp=',aic2)\n",
    "bic2 = n * math.log(sse2/n)+ p1*math.log(n) \n",
    "print('BICp=',bic2)"
   ]
  },
  {
   "cell_type": "markdown",
   "id": "41d62948",
   "metadata": {},
   "source": [
    "### Regression of Y on X3"
   ]
  },
  {
   "cell_type": "code",
   "execution_count": 11,
   "id": "a2bc9744",
   "metadata": {},
   "outputs": [
    {
     "name": "stdout",
     "output_type": "stream",
     "text": [
      "R^2 = 0.14682337004154908\n",
      "R^2a = 0.14396036121618516\n",
      "Cp= 724.5198820191725\n",
      "AICp= 7084.639564558229\n",
      "BICp= 7092.047129507541\n"
     ]
    }
   ],
   "source": [
    "import statsmodels.api as sm\n",
    "import statsmodels.formula.api as smf\n",
    "model3 = smf.ols('y ~ x3', data=data1)\n",
    "results3 = model3.fit()\n",
    "sse3 = np.sum((results3.fittedvalues - data1.Y)**2)\n",
    "ssr3 = np.sum((results3.fittedvalues - data1.Y.mean())**2)\n",
    "sstoX3 = ssr3+sse3\n",
    "R2_X3 = ssr3/sstoX3\n",
    "print('R^2 =',R2_X3)\n",
    "\n",
    "n=len(y)\n",
    "p1=2\n",
    "R2a_X3 = 1 - (sse3/(n-p1))/(sstoX3/(n-1))\n",
    "print('R^2a =',R2a_X3)\n",
    "\n",
    "Cp3 = sse3/mse - (n-2*p1)\n",
    "print('Cp=',Cp3)\n",
    "\n",
    "aic3 = n * math.log(sse3/n)+ 2*p1\n",
    "print('AICp=',aic3)\n",
    "bic3 = n * math.log(sse3/n)+ p1*math.log(n) \n",
    "print('BICp=',bic3)"
   ]
  },
  {
   "cell_type": "markdown",
   "id": "95d26531",
   "metadata": {},
   "source": [
    "### Regression of Y on X4"
   ]
  },
  {
   "cell_type": "code",
   "execution_count": 12,
   "id": "09803a7a",
   "metadata": {},
   "outputs": [
    {
     "name": "stdout",
     "output_type": "stream",
     "text": [
      "R^2 = 0.022425970865090683\n",
      "R^2a = 0.019145521102893137\n",
      "Cp= 873.3167602660997\n",
      "AICp= 7125.471792642476\n",
      "BICp= 7132.879357591789\n"
     ]
    }
   ],
   "source": [
    "import statsmodels.api as sm\n",
    "import statsmodels.formula.api as smf\n",
    "model4 = smf.ols('y ~ x4', data=data1)\n",
    "results4 = model4.fit()\n",
    "sse4 = np.sum((results4.fittedvalues - data1.Y)**2)\n",
    "ssr4 = np.sum((results4.fittedvalues - data1.Y.mean())**2)\n",
    "sstoX4 = ssr4+sse4\n",
    "R2_X4 = ssr4/sstoX4\n",
    "print('R^2 =',R2_X4)\n",
    "\n",
    "n=len(y)\n",
    "p1=2\n",
    "R2a_X4 = 1 - (sse4/(n-p1))/(sstoX4/(n-1))\n",
    "print('R^2a =',R2a_X4)\n",
    "\n",
    "Cp4 = sse4/mse - (n-2*p1)\n",
    "print('Cp=',Cp4)\n",
    "\n",
    "aic4 = n * math.log(sse4/n)+ 2*p1\n",
    "print('AICp=',aic4)\n",
    "bic4 = n * math.log(sse4/n)+ p1*math.log(n) \n",
    "print('BICp=',bic4)"
   ]
  },
  {
   "cell_type": "markdown",
   "id": "9d49abd1",
   "metadata": {},
   "source": [
    "### Regression of Y on X5"
   ]
  },
  {
   "cell_type": "code",
   "execution_count": 13,
   "id": "898e7033",
   "metadata": {},
   "outputs": [
    {
     "name": "stdout",
     "output_type": "stream",
     "text": [
      "R^2 = 0.04390881474277787\n",
      "R^2a = 0.04070045506070663\n",
      "Cp= 847.620241480111\n",
      "AICp= 7118.805573177114\n",
      "BICp= 7126.213138126426\n"
     ]
    }
   ],
   "source": [
    "import statsmodels.api as sm\n",
    "import statsmodels.formula.api as smf\n",
    "model5 = smf.ols('y ~ x5', data=data1)\n",
    "results5 = model5.fit()\n",
    "sse5 = np.sum((results5.fittedvalues - data1.Y)**2)\n",
    "ssr5 = np.sum((results5.fittedvalues - data1.Y.mean())**2)\n",
    "sstoX5 = ssr5+sse5\n",
    "R2_X5 = ssr5/sstoX5\n",
    "print('R^2 =',R2_X5)\n",
    "\n",
    "n=len(y)\n",
    "p1=2\n",
    "R2a_X5 = 1 - (sse5/(n-p1))/(sstoX5/(n-1))\n",
    "print('R^2a =',R2a_X5)\n",
    "\n",
    "Cp5 = sse5/mse - (n-2*p1)\n",
    "print('Cp=',Cp5)\n",
    "\n",
    "aic5 = n * math.log(sse5/n)+ 2*p1\n",
    "print('AICp=',aic5)\n",
    "bic5 = n * math.log(sse5/n)+ p1*math.log(n) \n",
    "print('BICp=',bic5)"
   ]
  },
  {
   "cell_type": "markdown",
   "id": "e85ec857",
   "metadata": {},
   "source": [
    "### Regression of Y on X6"
   ]
  },
  {
   "cell_type": "code",
   "execution_count": 14,
   "id": "e94b45d2",
   "metadata": {},
   "outputs": [
    {
     "name": "stdout",
     "output_type": "stream",
     "text": [
      "R^2 = 0.3081472378283676\n",
      "R^2a = 0.3058255842640333\n",
      "Cp= 531.5537261966687\n",
      "AICp= 7021.761534470902\n",
      "BICp= 7029.1690994202145\n"
     ]
    }
   ],
   "source": [
    "import statsmodels.api as sm\n",
    "import statsmodels.formula.api as smf\n",
    "model6 = smf.ols('y ~ x6', data=data1)\n",
    "results6 = model6.fit()\n",
    "sse6 = np.sum((results6.fittedvalues - data1.Y)**2)\n",
    "ssr6 = np.sum((results6.fittedvalues - data1.Y.mean())**2)\n",
    "sstoX6 = ssr6+sse6\n",
    "R2_X6 = ssr6/sstoX6\n",
    "print('R^2 =',R2_X6)\n",
    "\n",
    "n=len(y)\n",
    "p1=2\n",
    "R2a_X6 = 1 - (sse6/(n-p1))/(sstoX6/(n-1))\n",
    "print('R^2a =',R2a_X6)\n",
    "\n",
    "Cp6 = sse6/mse - (n-2*p1)\n",
    "print('Cp=',Cp6)\n",
    "\n",
    "aic6 = n * math.log(sse6/n)+ 2*p1\n",
    "print('AICp=',aic6)\n",
    "bic6 = n * math.log(sse6/n)+ p1*math.log(n) \n",
    "print('BICp=',bic6)"
   ]
  },
  {
   "cell_type": "markdown",
   "id": "68df6e7b",
   "metadata": {},
   "source": [
    "### Regression of Y on X7"
   ]
  },
  {
   "cell_type": "code",
   "execution_count": 15,
   "id": "5ccab1d1",
   "metadata": {},
   "outputs": [
    {
     "name": "stdout",
     "output_type": "stream",
     "text": [
      "R^2 = 0.09314014438001295\n",
      "R^2a = 0.0900969905020933\n",
      "Cp= 788.732610304038\n",
      "AICp= 7102.945963198573\n",
      "BICp= 7110.353528147885\n"
     ]
    }
   ],
   "source": [
    "import statsmodels.api as sm\n",
    "import statsmodels.formula.api as smf\n",
    "model7 = smf.ols('y ~ x7', data=data1)\n",
    "results7 = model7.fit()\n",
    "sse7 = np.sum((results7.fittedvalues - data1.Y)**2)\n",
    "ssr7 = np.sum((results7.fittedvalues - data1.Y.mean())**2)\n",
    "sstoX7 = ssr7+sse7\n",
    "R2_X7 = ssr7/sstoX7\n",
    "print('R^2 =',R2_X7)\n",
    "\n",
    "n=len(y)\n",
    "p1=2\n",
    "R2a_X7 = 1 - (sse7/(n-p1))/(sstoX7/(n-1))\n",
    "print('R^2a =',R2a_X7)\n",
    "\n",
    "Cp7 = sse7/mse - (n-2*p1)\n",
    "print('Cp=',Cp7)\n",
    "\n",
    "aic7 = n * math.log(sse7/n)+ 2*p1\n",
    "print('AICp=',aic7)\n",
    "bic7 = n * math.log(sse7/n)+ p1*math.log(n) \n",
    "print('BICp=',bic7)"
   ]
  },
  {
   "cell_type": "markdown",
   "id": "53e48f88",
   "metadata": {},
   "source": [
    "### Regression of Y on X8"
   ]
  },
  {
   "cell_type": "code",
   "execution_count": 16,
   "id": "bca9e35b",
   "metadata": {},
   "outputs": [
    {
     "name": "stdout",
     "output_type": "stream",
     "text": [
      "R^2 = 0.006037557885916396\n",
      "R^2a = 0.002702113449291943\n",
      "Cp= 892.9196193842672\n",
      "AICp= 7130.459412410572\n",
      "BICp= 7137.866977359885\n"
     ]
    }
   ],
   "source": [
    "import statsmodels.api as sm\n",
    "import statsmodels.formula.api as smf\n",
    "model8 = smf.ols('y ~ x8', data=data1)\n",
    "results8 = model8.fit()\n",
    "sse8 = np.sum((results8.fittedvalues - data1.Y)**2)\n",
    "ssr8 = np.sum((results8.fittedvalues - data1.Y.mean())**2)\n",
    "sstoX8 = ssr8+sse8\n",
    "R2_X8 = ssr8/sstoX8\n",
    "print('R^2 =',R2_X8)\n",
    "\n",
    "n=len(y)\n",
    "p1=2\n",
    "R2a_X8 = 1 - (sse8/(n-p1))/(sstoX8/(n-1))\n",
    "print('R^2a =',R2a_X8)\n",
    "\n",
    "Cp8 = sse8/mse - (n-2*p1)\n",
    "print('Cp=',Cp8)\n",
    "\n",
    "aic8 = n * math.log(sse8/n)+ 2*p1\n",
    "print('AICp=',aic8)\n",
    "bic8 = n * math.log(sse8/n)+ p1*math.log(n) \n",
    "print('BICp=',bic8)"
   ]
  },
  {
   "cell_type": "code",
   "execution_count": 17,
   "id": "22fd872c",
   "metadata": {},
   "outputs": [
    {
     "data": {
      "text/plain": [
       "6718.216305304037"
      ]
     },
     "execution_count": 17,
     "metadata": {},
     "output_type": "execute_result"
    }
   ],
   "source": [
    "n = len(data1)\n",
    "p = 7\n",
    "AIC_full = n*math.log(np.sum(results.resid**2))- n*math.log(n) + 2*p\n",
    "AIC_full"
   ]
  },
  {
   "cell_type": "code",
   "execution_count": 18,
   "id": "ffa12b9b",
   "metadata": {},
   "outputs": [
    {
     "data": {
      "text/plain": [
       "6744.14278262663"
      ]
     },
     "execution_count": 18,
     "metadata": {},
     "output_type": "execute_result"
    }
   ],
   "source": [
    "BIC_full = n*math.log(np.sum(results.resid**2)) - n*math.log(n) + math.log(n)*p\n",
    "BIC_full"
   ]
  },
  {
   "cell_type": "code",
   "execution_count": 19,
   "id": "ff6a92e5",
   "metadata": {},
   "outputs": [
    {
     "name": "stdout",
     "output_type": "stream",
     "text": [
      "     R^2_a,p          Cp         AICp         BICp\n",
      "X1  0.081627  798.830279  7105.725715  7113.133280\n",
      "X2  0.625462  150.502113  6836.652565  6844.060130\n",
      "X3  0.143960  724.519882  7084.639565  7092.047130\n",
      "X4  0.019146  873.316760  7125.471793  7132.879358\n",
      "X5  0.040700  847.620241  7118.805573  7126.213138\n",
      "X6  0.305826  531.553726  7021.761534  7029.169099\n",
      "X7  0.090097  788.732610  7102.945963  7110.353528\n",
      "X8  0.002702  892.919619  7130.459412  7137.866977\n"
     ]
    }
   ],
   "source": [
    "table = {'R^2_a,p':[R2a_X1,R2a_X2,R2a_X3,R2a_X4,R2a_X5,R2a_X6,R2a_X7,R2a_X8],\n",
    "        'Cp':[Cp1,Cp2,Cp3,Cp4,Cp5,Cp6,Cp7,Cp8],\n",
    "        'AICp':[aic1,aic2,aic3,aic4,aic5,aic6,aic7,aic8],\n",
    "        'BICp':[bic1,bic2,bic3,bic4,bic5,bic6,bic7,bic8]}\n",
    "t = pd.DataFrame(table)\n",
    "t.index = ['X1','X2','X3','X4','X5','X6','X7','X8']\n",
    "print(t)"
   ]
  },
  {
   "cell_type": "markdown",
   "id": "72faf776",
   "metadata": {},
   "source": [
    "**The model contains Y and X2 is the best subset contains 1 predictor**\n"
   ]
  },
  {
   "cell_type": "markdown",
   "id": "7f8d5c7d",
   "metadata": {},
   "source": [
    "#### b) Fit the regression model identified above to the validation data set. Compare the estimated regression coefficients and their estimated standard errors with those obtained in a). Also compare the error mean square and coefficients of multiple determination. Does the model fitted to the validation data set yield similar estimates as the model fitted to the model-building data set?"
   ]
  },
  {
   "cell_type": "code",
   "execution_count": 20,
   "id": "db8a8937",
   "metadata": {},
   "outputs": [
    {
     "data": {
      "text/html": [
       "<table class=\"simpletable\">\n",
       "<caption>OLS Regression Results</caption>\n",
       "<tr>\n",
       "  <th>Dep. Variable:</th>            <td>y</td>        <th>  R-squared:         </th> <td>   0.798</td>\n",
       "</tr>\n",
       "<tr>\n",
       "  <th>Model:</th>                   <td>OLS</td>       <th>  Adj. R-squared:    </th> <td>   0.792</td>\n",
       "</tr>\n",
       "<tr>\n",
       "  <th>Method:</th>             <td>Least Squares</td>  <th>  F-statistic:       </th> <td>   141.6</td>\n",
       "</tr>\n",
       "<tr>\n",
       "  <th>Date:</th>             <td>Sun, 11 Dec 2022</td> <th>  Prob (F-statistic):</th> <td>7.85e-72</td>\n",
       "</tr>\n",
       "<tr>\n",
       "  <th>Time:</th>                 <td>23:00:19</td>     <th>  Log-Likelihood:    </th> <td> -2779.4</td>\n",
       "</tr>\n",
       "<tr>\n",
       "  <th>No. Observations:</th>      <td>   222</td>      <th>  AIC:               </th> <td>   5573.</td>\n",
       "</tr>\n",
       "<tr>\n",
       "  <th>Df Residuals:</th>          <td>   215</td>      <th>  BIC:               </th> <td>   5597.</td>\n",
       "</tr>\n",
       "<tr>\n",
       "  <th>Df Model:</th>              <td>     6</td>      <th>                     </th>     <td> </td>   \n",
       "</tr>\n",
       "<tr>\n",
       "  <th>Covariance Type:</th>      <td>nonrobust</td>    <th>                     </th>     <td> </td>   \n",
       "</tr>\n",
       "</table>\n",
       "<table class=\"simpletable\">\n",
       "<tr>\n",
       "      <td></td>         <th>coef</th>     <th>std err</th>      <th>t</th>      <th>P>|t|</th>  <th>[0.025</th>    <th>0.975]</th>  \n",
       "</tr>\n",
       "<tr>\n",
       "  <th>Intercept</th> <td>-4.059e+06</td> <td> 6.78e+05</td> <td>   -5.985</td> <td> 0.000</td> <td> -5.4e+06</td> <td>-2.72e+06</td>\n",
       "</tr>\n",
       "<tr>\n",
       "  <th>x1</th>        <td>  -1.3e+04</td> <td> 2294.936</td> <td>   -5.663</td> <td> 0.000</td> <td>-1.75e+04</td> <td>-8472.079</td>\n",
       "</tr>\n",
       "<tr>\n",
       "  <th>x2</th>        <td>  184.2558</td> <td>    9.949</td> <td>   18.520</td> <td> 0.000</td> <td>  164.645</td> <td>  203.866</td>\n",
       "</tr>\n",
       "<tr>\n",
       "  <th>x3</th>        <td>-1.837e+04</td> <td> 5230.271</td> <td>   -3.512</td> <td> 0.001</td> <td>-2.87e+04</td> <td>-8060.674</td>\n",
       "</tr>\n",
       "<tr>\n",
       "  <th>x4</th>        <td> 5215.5223</td> <td>  1.7e+04</td> <td>    0.306</td> <td> 0.760</td> <td>-2.83e+04</td> <td> 3.88e+04</td>\n",
       "</tr>\n",
       "<tr>\n",
       "  <th>x5</th>        <td>    0.9922</td> <td>    0.462</td> <td>    2.146</td> <td> 0.033</td> <td>    0.081</td> <td>    1.904</td>\n",
       "</tr>\n",
       "<tr>\n",
       "  <th>x6</th>        <td> 2035.7612</td> <td>  348.454</td> <td>    5.842</td> <td> 0.000</td> <td> 1348.939</td> <td> 2722.584</td>\n",
       "</tr>\n",
       "</table>\n",
       "<table class=\"simpletable\">\n",
       "<tr>\n",
       "  <th>Omnibus:</th>       <td>31.162</td> <th>  Durbin-Watson:     </th> <td>   2.080</td>\n",
       "</tr>\n",
       "<tr>\n",
       "  <th>Prob(Omnibus):</th> <td> 0.000</td> <th>  Jarque-Bera (JB):  </th> <td>  81.908</td>\n",
       "</tr>\n",
       "<tr>\n",
       "  <th>Skew:</th>          <td> 0.598</td> <th>  Prob(JB):          </th> <td>1.64e-18</td>\n",
       "</tr>\n",
       "<tr>\n",
       "  <th>Kurtosis:</th>      <td> 5.725</td> <th>  Cond. No.          </th> <td>3.87e+06</td>\n",
       "</tr>\n",
       "</table><br/><br/>Notes:<br/>[1] Standard Errors assume that the covariance matrix of the errors is correctly specified.<br/>[2] The condition number is large, 3.87e+06. This might indicate that there are<br/>strong multicollinearity or other numerical problems."
      ],
      "text/plain": [
       "<class 'statsmodels.iolib.summary.Summary'>\n",
       "\"\"\"\n",
       "                            OLS Regression Results                            \n",
       "==============================================================================\n",
       "Dep. Variable:                      y   R-squared:                       0.798\n",
       "Model:                            OLS   Adj. R-squared:                  0.792\n",
       "Method:                 Least Squares   F-statistic:                     141.6\n",
       "Date:                Sun, 11 Dec 2022   Prob (F-statistic):           7.85e-72\n",
       "Time:                        23:00:19   Log-Likelihood:                -2779.4\n",
       "No. Observations:                 222   AIC:                             5573.\n",
       "Df Residuals:                     215   BIC:                             5597.\n",
       "Df Model:                           6                                         \n",
       "Covariance Type:            nonrobust                                         \n",
       "==============================================================================\n",
       "                 coef    std err          t      P>|t|      [0.025      0.975]\n",
       "------------------------------------------------------------------------------\n",
       "Intercept  -4.059e+06   6.78e+05     -5.985      0.000    -5.4e+06   -2.72e+06\n",
       "x1           -1.3e+04   2294.936     -5.663      0.000   -1.75e+04   -8472.079\n",
       "x2           184.2558      9.949     18.520      0.000     164.645     203.866\n",
       "x3         -1.837e+04   5230.271     -3.512      0.001   -2.87e+04   -8060.674\n",
       "x4          5215.5223    1.7e+04      0.306      0.760   -2.83e+04    3.88e+04\n",
       "x5             0.9922      0.462      2.146      0.033       0.081       1.904\n",
       "x6          2035.7612    348.454      5.842      0.000    1348.939    2722.584\n",
       "==============================================================================\n",
       "Omnibus:                       31.162   Durbin-Watson:                   2.080\n",
       "Prob(Omnibus):                  0.000   Jarque-Bera (JB):               81.908\n",
       "Skew:                           0.598   Prob(JB):                     1.64e-18\n",
       "Kurtosis:                       5.725   Cond. No.                     3.87e+06\n",
       "==============================================================================\n",
       "\n",
       "Notes:\n",
       "[1] Standard Errors assume that the covariance matrix of the errors is correctly specified.\n",
       "[2] The condition number is large, 3.87e+06. This might indicate that there are\n",
       "strong multicollinearity or other numerical problems.\n",
       "\"\"\""
      ]
     },
     "execution_count": 20,
     "metadata": {},
     "output_type": "execute_result"
    }
   ],
   "source": [
    "data2=df1.sample(n =222)\n",
    "y = data2['Y']\n",
    "x1 = data2['X1']\n",
    "x2 = data2['X2']\n",
    "x3 = data2['X3']\n",
    "x4= data2['X4']\n",
    "x5= data2['X5']\n",
    "x6= data2['X6']\n",
    "x7= data2['X7']\n",
    "x8= data2['X8']\n",
    "import statsmodels.api as sm\n",
    "import statsmodels.formula.api as smf\n",
    "model1 = smf.ols('y ~ x1+x2+x3+x4+x5+x6', data=data2)\n",
    "results1 = model1.fit()\n",
    "results1.summary()"
   ]
  },
  {
   "cell_type": "markdown",
   "id": "752d4e9c",
   "metadata": {},
   "source": [
    "##### The regression model identified above to the validation data set: "
   ]
  },
  {
   "cell_type": "markdown",
   "id": "2d729edb",
   "metadata": {},
   "source": [
    "#### Y^ = −4.071e + 06 + (-1.14e+04)X1 + (163.3282)X2 + (-8168.8044)X3 + (-1.025e+04)X4 + (0.4746)X5 + (2100.6208)X6"
   ]
  },
  {
   "cell_type": "markdown",
   "id": "b4cb794e",
   "metadata": {},
   "source": [
    "#### c) Calculate the mean squared prediction error (9.20) and compare it to MSE obtained from the model-building data set. Is there evidence of a substantial bias problem in MSE here?\n"
   ]
  },
  {
   "cell_type": "code",
   "execution_count": null,
   "id": "f862d16d",
   "metadata": {},
   "outputs": [],
   "source": []
  },
  {
   "cell_type": "code",
   "execution_count": null,
   "id": "5f44c133",
   "metadata": {},
   "outputs": [],
   "source": []
  }
 ],
 "metadata": {
  "kernelspec": {
   "display_name": "Python 3 (ipykernel)",
   "language": "python",
   "name": "python3"
  },
  "language_info": {
   "codemirror_mode": {
    "name": "ipython",
    "version": 3
   },
   "file_extension": ".py",
   "mimetype": "text/x-python",
   "name": "python",
   "nbconvert_exporter": "python",
   "pygments_lexer": "ipython3",
   "version": "3.9.12"
  }
 },
 "nbformat": 4,
 "nbformat_minor": 5
}
