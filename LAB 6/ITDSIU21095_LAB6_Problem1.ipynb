{
 "cells": [
  {
   "cell_type": "markdown",
   "id": "81446afb",
   "metadata": {},
   "source": [
    "# Problem 1.\n",
    "**Refer to Patient satisfaction Problem 6.15. The hospital administrator \n",
    "wishes to determine the best subset of predictor variables for predicting patient \n",
    "satisfaction**\n",
    "\n",
    "**a. Indicate which subset of predictor variables you would recommend as best for \n",
    "predicting patient satisfaction according to each of the following criteria: (1) 𝑅𝑎,𝑝\n",
    "2\n",
    ", (2) \n",
    "𝐴𝐼𝐶𝑝, (3) 𝐶𝑝, (4) 𝐵𝐼𝐶𝑝. Support your recommendations with appropriate graphs.**\n",
    "\n",
    "**b. Do the four criteria in part (a) identify the same best subset? Does this always \n",
    "happen?**\n",
    "\n",
    "**(Option) c. Would forward stepwise regression have any advantages here as a \n",
    "screening procedure over the all-possible-regressions procedure?**"
   ]
  },
  {
   "cell_type": "code",
   "execution_count": 28,
   "id": "0ed6bc41",
   "metadata": {},
   "outputs": [],
   "source": [
    "import pandas as pd, numpy as np\n",
    "import matplotlib.pyplot as plt\n",
    "import seaborn as sns\n",
    "import math"
   ]
  },
  {
   "cell_type": "code",
   "execution_count": 2,
   "id": "43ad84f9",
   "metadata": {},
   "outputs": [
    {
     "data": {
      "text/html": [
       "<div>\n",
       "<style scoped>\n",
       "    .dataframe tbody tr th:only-of-type {\n",
       "        vertical-align: middle;\n",
       "    }\n",
       "\n",
       "    .dataframe tbody tr th {\n",
       "        vertical-align: top;\n",
       "    }\n",
       "\n",
       "    .dataframe thead th {\n",
       "        text-align: right;\n",
       "    }\n",
       "</style>\n",
       "<table border=\"1\" class=\"dataframe\">\n",
       "  <thead>\n",
       "    <tr style=\"text-align: right;\">\n",
       "      <th></th>\n",
       "      <th>Y</th>\n",
       "      <th>X1</th>\n",
       "      <th>X2</th>\n",
       "      <th>X3</th>\n",
       "    </tr>\n",
       "  </thead>\n",
       "  <tbody>\n",
       "    <tr>\n",
       "      <th>0</th>\n",
       "      <td>48</td>\n",
       "      <td>50</td>\n",
       "      <td>51</td>\n",
       "      <td>2.3</td>\n",
       "    </tr>\n",
       "    <tr>\n",
       "      <th>1</th>\n",
       "      <td>57</td>\n",
       "      <td>36</td>\n",
       "      <td>46</td>\n",
       "      <td>2.3</td>\n",
       "    </tr>\n",
       "    <tr>\n",
       "      <th>2</th>\n",
       "      <td>66</td>\n",
       "      <td>40</td>\n",
       "      <td>48</td>\n",
       "      <td>2.2</td>\n",
       "    </tr>\n",
       "    <tr>\n",
       "      <th>3</th>\n",
       "      <td>70</td>\n",
       "      <td>41</td>\n",
       "      <td>44</td>\n",
       "      <td>1.8</td>\n",
       "    </tr>\n",
       "    <tr>\n",
       "      <th>4</th>\n",
       "      <td>89</td>\n",
       "      <td>28</td>\n",
       "      <td>43</td>\n",
       "      <td>1.8</td>\n",
       "    </tr>\n",
       "  </tbody>\n",
       "</table>\n",
       "</div>"
      ],
      "text/plain": [
       "    Y  X1  X2   X3\n",
       "0  48  50  51  2.3\n",
       "1  57  36  46  2.3\n",
       "2  66  40  48  2.2\n",
       "3  70  41  44  1.8\n",
       "4  89  28  43  1.8"
      ]
     },
     "execution_count": 2,
     "metadata": {},
     "output_type": "execute_result"
    }
   ],
   "source": [
    "df = pd.read_csv('CH06PR15.txt', sep = '\\s+', header =None, names=['Y','X1','X2','X3'])\n",
    "df.head()"
   ]
  },
  {
   "cell_type": "code",
   "execution_count": 3,
   "id": "02da5a3a",
   "metadata": {},
   "outputs": [],
   "source": [
    "x1= df['X1']\n",
    "x2= df['X2']\n",
    "x3= df['X3']\n",
    "y= df['Y']"
   ]
  },
  {
   "cell_type": "markdown",
   "id": "6c236c42",
   "metadata": {},
   "source": [
    "**a. Indicate which subset of predictor variables you would recommend as best for predicting patient satisfaction according to each of the following criteria: (1) 𝑅𝑎,𝑝 2 , (2) 𝐴𝐼𝐶𝑝, (3) 𝐶𝑝, (4) 𝐵𝐼𝐶𝑝. Support your recommendations with appropriate graphs.**"
   ]
  },
  {
   "cell_type": "code",
   "execution_count": 26,
   "id": "1624b558",
   "metadata": {
    "scrolled": false
   },
   "outputs": [],
   "source": [
    "import statsmodels.api as sm\n",
    "import statsmodels.formula.api as smf\n",
    "model123 = smf.ols('y ~ x1+x2+x3', data=df)\n",
    "results123 = model123.fit()\n",
    "sse123 = np.sum((results123.fittedvalues - df.Y)**2)\n",
    "mse123 = sse123/(n-4)"
   ]
  },
  {
   "cell_type": "markdown",
   "id": "e3a84181",
   "metadata": {},
   "source": [
    "### Regression of Y on X1"
   ]
  },
  {
   "cell_type": "code",
   "execution_count": 43,
   "id": "45356511",
   "metadata": {},
   "outputs": [
    {
     "name": "stdout",
     "output_type": "stream",
     "text": [
      "R^2 = 0.6189842519960211\n",
      "R^2a = 0.6103248031777488\n",
      "Cp= 8.353606281990459\n",
      "AICp= 220.52939082271948\n",
      "BICp= 224.18667361569766\n"
     ]
    }
   ],
   "source": [
    "import statsmodels.api as sm\n",
    "import statsmodels.formula.api as smf\n",
    "model1 = smf.ols('y ~ x1', data=df)\n",
    "results1 = model1.fit()\n",
    "sse1 = np.sum((results1.fittedvalues - df.Y)**2)\n",
    "ssr1 = np.sum((results1.fittedvalues - df.Y.mean())**2)\n",
    "sstoX1 = ssr1+sse1\n",
    "R2_X1 = ssr1/sstoX1\n",
    "print('R^2 =',R2_X1)\n",
    "\n",
    "n=len(y)\n",
    "p1=2\n",
    "R2a_X1 = 1 - (sse1/(n-p1))/(sstoX1/(n-1))\n",
    "print('R^2a =',R2a_X1)\n",
    "\n",
    "Cp1 = sse1/mse123 - (n-2*p1)\n",
    "print('Cp=',Cp1)\n",
    "aic1 = n * math.log(sse1/n)+ 2*p1\n",
    "print('AICp=',aic1)\n",
    "bic1 = n * math.log(sse1/n)+ p1*math.log(n) \n",
    "print('BICp=',bic1)"
   ]
  },
  {
   "cell_type": "markdown",
   "id": "0e8402c4",
   "metadata": {},
   "source": [
    "### Regression of Y on X2"
   ]
  },
  {
   "cell_type": "code",
   "execution_count": 44,
   "id": "e3e6d7ef",
   "metadata": {},
   "outputs": [
    {
     "name": "stdout",
     "output_type": "stream",
     "text": [
      "R^2 = 0.3635387359110576\n",
      "R^2a = 0.34907370718176345\n",
      "Cp= 42.112323633767204\n",
      "AICp= 244.1312019619498\n",
      "BICp= 247.788484754928\n"
     ]
    }
   ],
   "source": [
    "import statsmodels.api as sm\n",
    "import statsmodels.formula.api as smf\n",
    "model2 = smf.ols('y ~ x2', data=df)\n",
    "results2 = model2.fit()\n",
    "sse2 = np.sum((results2.fittedvalues - df.Y)**2)\n",
    "ssr2 = np.sum((results2.fittedvalues - df.Y.mean())**2)\n",
    "sstoX2 = ssr2+sse2\n",
    "R2_X2 = ssr2/sstoX2\n",
    "print('R^2 =',R2_X2)\n",
    "\n",
    "n=len(y)\n",
    "p1=2\n",
    "R2a_X2 = 1 - (sse2/(n-p1))/(sstoX2/(n-1))\n",
    "print('R^2a =',R2a_X2)\n",
    "\n",
    "Cp2 = sse2/mse123 - (n-2*p1)\n",
    "print('Cp=',Cp2)\n",
    "\n",
    "aic2 = n * math.log(sse2/n)+ 2*p1\n",
    "print('AICp=',aic2)\n",
    "bic2 = n * math.log(sse2/n)+ p1*math.log(n) \n",
    "print('BICp=',bic2)"
   ]
  },
  {
   "cell_type": "markdown",
   "id": "f7742258",
   "metadata": {},
   "source": [
    "### Regression of Y on X3"
   ]
  },
  {
   "cell_type": "code",
   "execution_count": 45,
   "id": "4f4430da",
   "metadata": {},
   "outputs": [
    {
     "name": "stdout",
     "output_type": "stream",
     "text": [
      "R^2 = 0.41549754587804466\n",
      "R^2a = 0.40221339919345467\n",
      "Cp= 35.24564299480552\n",
      "AICp= 240.21372333269096\n",
      "BICp= 243.87100612566914\n"
     ]
    }
   ],
   "source": [
    "import statsmodels.api as sm\n",
    "import statsmodels.formula.api as smf\n",
    "model3 = smf.ols('y ~ x3', data=df)\n",
    "results3 = model3.fit()\n",
    "sse3 = np.sum((results3.fittedvalues - df.Y)**2)\n",
    "ssr3 = np.sum((results3.fittedvalues - df.Y.mean())**2)\n",
    "sstoX3 = ssr3+sse3\n",
    "R2_X3 = ssr3/sstoX3\n",
    "print('R^2 =',R2_X3)\n",
    "\n",
    "n=len(y)\n",
    "p1=2\n",
    "R2a_X3 = 1 - (sse3/(n-p1))/(sstoX3/(n-1))\n",
    "print('R^2a =',R2a_X3)\n",
    "\n",
    "Cp3 = sse3/mse123 - (n-2*p1)\n",
    "print('Cp=',Cp3)\n",
    "\n",
    "aic3 = n * math.log(sse3/n)+ 2*p1\n",
    "print('AICp=',aic3)\n",
    "bic3 = n * math.log(sse3/n)+ p1*math.log(n) \n",
    "print('BICp=',bic3)"
   ]
  },
  {
   "cell_type": "markdown",
   "id": "618e5ad4",
   "metadata": {},
   "source": [
    "### Regression of Y on X1 and X2"
   ]
  },
  {
   "cell_type": "code",
   "execution_count": 46,
   "id": "fd0280fa",
   "metadata": {},
   "outputs": [
    {
     "name": "stdout",
     "output_type": "stream",
     "text": [
      "R^2 = 0.6549558538884385\n",
      "R^2a = 0.6389072889530168\n",
      "Cp= 5.59973485144706\n",
      "AICp= 217.96764722745866\n",
      "BICp= 223.45357141692594\n"
     ]
    }
   ],
   "source": [
    "import statsmodels.api as sm\n",
    "import statsmodels.formula.api as smf\n",
    "model12 = smf.ols('y ~ x1+x2', data=df)\n",
    "results12 = model12.fit()\n",
    "sse12 = np.sum((results12.fittedvalues - df.Y)**2)\n",
    "ssr12 = np.sum((results12.fittedvalues - df.Y.mean())**2)\n",
    "sstoX12 = ssr12+sse12\n",
    "R2_X12 = ssr12/sstoX12\n",
    "print('R^2 =',R2_X12)\n",
    "\n",
    "n=len(y)\n",
    "p2=3\n",
    "R2a_X12 = 1 - (sse12/(n-p2))/(sstoX12/(n-1))\n",
    "print('R^2a =',R2a_X12)\n",
    "\n",
    "Cp12 = sse12/mse123 - (n-2*p2)\n",
    "print('Cp=',Cp12)\n",
    "aic12 = n * math.log(sse12/n)+ 2*p2\n",
    "print('AICp=',aic12)\n",
    "bic12 = n * math.log(sse12/n)+ p2*math.log(n) \n",
    "print('BICp=',bic12)"
   ]
  },
  {
   "cell_type": "markdown",
   "id": "a7778092",
   "metadata": {},
   "source": [
    "### Regression of Y on X1 and X3"
   ]
  },
  {
   "cell_type": "code",
   "execution_count": 47,
   "id": "6388d622",
   "metadata": {},
   "outputs": [
    {
     "name": "stdout",
     "output_type": "stream",
     "text": [
      "R^2 = 0.6760863825317273\n",
      "R^2a = 0.6610206328820403\n",
      "Cp= 2.807203767352547\n",
      "AICp= 215.06065417704067\n",
      "BICp= 220.54657836650796\n"
     ]
    }
   ],
   "source": [
    "import statsmodels.api as sm\n",
    "import statsmodels.formula.api as smf\n",
    "model13 = smf.ols('y ~ x1+x3', data=df)\n",
    "results13 = model13.fit()\n",
    "sse13 = np.sum((results13.fittedvalues - df.Y)**2)\n",
    "ssr13 = np.sum((results13.fittedvalues - df.Y.mean())**2)\n",
    "sstoX13 = ssr13+sse13\n",
    "R2_X13 = ssr13/sstoX13\n",
    "print('R^2 =',R2_X13)\n",
    "\n",
    "n=len(y)\n",
    "p2=3\n",
    "R2a_X13 = 1 - (sse13/(n-p2))/(sstoX13/(n-1))\n",
    "print('R^2a =',R2a_X13)\n",
    "\n",
    "Cp13 = sse13/mse123 - (n-2*p2)\n",
    "print('Cp=',Cp13)\n",
    "aic13 = n * math.log(sse13/n)+ 2*p2\n",
    "print('AICp=',aic13)\n",
    "bic13 = n * math.log(sse13/n)+ p2*math.log(n) \n",
    "print('BICp=',bic13)"
   ]
  },
  {
   "cell_type": "markdown",
   "id": "f34607ef",
   "metadata": {},
   "source": [
    "### Regression of Y on X2 and X3"
   ]
  },
  {
   "cell_type": "code",
   "execution_count": 48,
   "id": "fe81b076",
   "metadata": {},
   "outputs": [
    {
     "name": "stdout",
     "output_type": "stream",
     "text": [
      "R^2 = 0.4684544629858883\n",
      "R^2a = 0.44373141475267386\n",
      "Cp= 30.247056275166514\n",
      "AICp= 237.8450063165764\n",
      "BICp= 243.33093050604367\n"
     ]
    }
   ],
   "source": [
    "import statsmodels.api as sm\n",
    "import statsmodels.formula.api as smf\n",
    "model23 = smf.ols('y ~ x2+x3', data=df)\n",
    "results23 = model23.fit()\n",
    "sse23 = np.sum((results23.fittedvalues - df.Y)**2)\n",
    "ssr23 = np.sum((results23.fittedvalues - df.Y.mean())**2)\n",
    "sstoX23 = ssr23+sse23\n",
    "R2_X23 = ssr23/sstoX23\n",
    "print('R^2 =',R2_X23)\n",
    "\n",
    "n=len(y)\n",
    "p2=3\n",
    "R2a_X23 = 1 - (sse23/(n-p2))/(sstoX23/(n-1))\n",
    "print('R^2a =',R2a_X23)\n",
    "\n",
    "Cp23 = sse23/mse123 - (n-2*p2)\n",
    "print('Cp=',Cp23)\n",
    "aic23 = n * math.log(sse23/n)+ 2*p2\n",
    "print('AICp=',aic23)\n",
    "bic23 = n * math.log(sse23/n)+ p2*math.log(n) \n",
    "print('BICp=',bic23)"
   ]
  },
  {
   "cell_type": "markdown",
   "id": "bb7eb7c2",
   "metadata": {},
   "source": [
    "### Regression of Y on X1, X2 and X3"
   ]
  },
  {
   "cell_type": "code",
   "execution_count": 49,
   "id": "e8c00f59",
   "metadata": {},
   "outputs": [
    {
     "name": "stdout",
     "output_type": "stream",
     "text": [
      "R^2 = 0.682194333280746\n",
      "R^2a = 0.6594939285150851\n",
      "Cp= 4.0\n",
      "AICp= 216.18496218375304\n",
      "BICp= 223.49952776970943\n"
     ]
    }
   ],
   "source": [
    "import statsmodels.api as sm\n",
    "import statsmodels.formula.api as smf\n",
    "model123 = smf.ols('y ~ x1+x2+x3', data=df)\n",
    "results123 = model123.fit()\n",
    "sse123 = np.sum((results123.fittedvalues - df.Y)**2)\n",
    "ssr123 = np.sum((results123.fittedvalues - df.Y.mean())**2)\n",
    "sstoX123 = ssr123+sse123\n",
    "R2_X123 = ssr123/sstoX123\n",
    "print('R^2 =',R2_X123)\n",
    "\n",
    "n=len(y)\n",
    "p3=4\n",
    "R2a_X123 = 1 - (sse123/(n-p3))/(sstoX123/(n-1))\n",
    "print('R^2a =',R2a_X123)\n",
    "\n",
    "Cp123 = sse123/mse123 - (n-2*p3)\n",
    "print('Cp=',Cp123)\n",
    "aic123 = n * math.log(sse123/n)+ 2*p3\n",
    "print('AICp=',aic123)\n",
    "bic123 = n * math.log(sse123/n)+ p3*math.log(n) \n",
    "print('BICp=',bic123)"
   ]
  },
  {
   "cell_type": "code",
   "execution_count": 53,
   "id": "80401b30",
   "metadata": {
    "scrolled": false
   },
   "outputs": [
    {
     "name": "stdout",
     "output_type": "stream",
     "text": [
      "           R^2_a,p         Cp        AICp        BICp\n",
      "X1        0.610325   8.353606  220.529391  224.186674\n",
      "X2        0.349074  42.112324  244.131202  247.788485\n",
      "X3        0.402213  35.245643  240.213723  243.871006\n",
      "X1,X2     0.638907   5.599735  217.967647  223.453571\n",
      "X1,X3     0.661021   2.807204  215.060654  220.546578\n",
      "X2,X3     0.443731  30.247056  237.845006  243.330931\n",
      "X1,X2,X3  0.659494   4.000000  216.184962  223.499528\n"
     ]
    }
   ],
   "source": [
    "table = {'R^2_a,p':[R2a_X1,R2a_X2,R2a_X3,R2a_X12,R2a_X13,R2a_X23,R2a_X123],\n",
    "        'Cp':[Cp1,Cp2,Cp3,Cp12,Cp13,Cp23,Cp123],\n",
    "        'AICp':[aic1,aic2,aic3,aic12,aic13,aic23,aic123],\n",
    "        'BICp':[bic1,bic2,bic3,bic12,bic13,bic23,bic123]}\n",
    "t = pd.DataFrame(table)\n",
    "t.index = ['X1','X2','X3','X1,X2','X1,X3','X2,X3','X1,X2,X3']\n",
    "print(t)"
   ]
  },
  {
   "cell_type": "code",
   "execution_count": 59,
   "id": "1ef8233c",
   "metadata": {
    "scrolled": true
   },
   "outputs": [
    {
     "data": {
      "image/png": "[encoded data removed]",
      "text/plain": [
       "<Figure size 432x288 with 2 Axes>"
      ]
     },
     "metadata": {
      "needs_background": "light"
     },
     "output_type": "display_data"
    }
   ],
   "source": [
    "sns.heatmap(data=t, cmap= 'Blues', linecolor='black', linewidths=1);"
   ]
  },
  {
   "cell_type": "markdown",
   "id": "ce4ec213",
   "metadata": {},
   "source": [
    "=> indicates that the variables x1 and x3 should be included in the model while the variable x2 should be discarded. This is confirmed by the highest value of R2a,p=0.6610206, and lowest values for AICp, Cp, BICp"
   ]
  },
  {
   "cell_type": "markdown",
   "id": "34415c25",
   "metadata": {},
   "source": [
    "**b. Do the four criteria in part (a) identify the same best subset? Does this always happen?**\n",
    "\n",
    "Yes, the four criteria in part (a) identify the same best subset. This does not always happen."
   ]
  }
 ],
 "metadata": {
  "kernelspec": {
   "display_name": "Python 3 (ipykernel)",
   "language": "python",
   "name": "python3"
  },
  "language_info": {
   "codemirror_mode": {
    "name": "ipython",
    "version": 3
   },
   "file_extension": ".py",
   "mimetype": "text/x-python",
   "name": "python",
   "nbconvert_exporter": "python",
   "pygments_lexer": "ipython3",
   "version": "3.9.12"
  }
 },
 "nbformat": 4,
 "nbformat_minor": 5
}
